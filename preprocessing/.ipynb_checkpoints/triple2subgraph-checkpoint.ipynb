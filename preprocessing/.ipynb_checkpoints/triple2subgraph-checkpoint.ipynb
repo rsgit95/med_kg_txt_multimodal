{
 "cells": [
  {
   "cell_type": "markdown",
   "metadata": {
    "id": "UCzMtobduJtf"
   },
   "source": [
    "# **1. Run Depth First Search on KG** \n",
    "\n",
    "Root is an admission node."
   ]
  },
  {
   "cell_type": "code",
   "execution_count": 1,
   "metadata": {},
   "outputs": [],
   "source": [
    "import random\n",
    "\n",
    "ROOT_DIR = 'dxprx'\n",
    "NUM_SPECIAL_TOKENS = 3\n",
    "eval_size = 1000"
   ]
  },
  {
   "cell_type": "markdown",
   "metadata": {},
   "source": [
    "## 1-1. Not unified abstract embedding"
   ]
  },
  {
   "cell_type": "code",
   "execution_count": null,
   "metadata": {
    "colab": {
     "base_uri": "https://localhost:8080/"
    },
    "executionInfo": {
     "elapsed": 119438,
     "status": "ok",
     "timestamp": 1604240640911,
     "user": {
      "displayName": "Park Sungjin",
      "photoUrl": "",
      "userId": "10892187777297360592"
     },
     "user_tz": -540
    },
    "id": "M6P8d-FytHkS",
    "outputId": "535c80ac-9331-4297-9e8c-49ce8dbb5bf1",
    "scrolled": true
   },
   "outputs": [
    {
     "name": "stderr",
     "output_type": "stream",
     "text": [
      " 12%|█▏        | 144515/1171955 [00:00<00:00, 1445141.04it/s]"
     ]
    },
    {
     "name": "stdout",
     "output_type": "stream",
     "text": [
      "start preprocessing\n",
      "level:0\n"
     ]
    },
    {
     "name": "stderr",
     "output_type": "stream",
     "text": [
      "100%|██████████| 1171955/1171955 [00:00<00:00, 1452395.16it/s]\n"
     ]
    },
    {
     "name": "stdout",
     "output_type": "stream",
     "text": [
      "589909/1171955\n"
     ]
    },
    {
     "name": "stderr",
     "output_type": "stream",
     "text": [
      " 14%|█▍        | 82319/589909 [00:00<00:00, 823188.82it/s]"
     ]
    },
    {
     "name": "stdout",
     "output_type": "stream",
     "text": [
      "level:1\n"
     ]
    },
    {
     "name": "stderr",
     "output_type": "stream",
     "text": [
      "100%|██████████| 589909/589909 [00:00<00:00, 837489.66it/s]\n"
     ]
    },
    {
     "name": "stdout",
     "output_type": "stream",
     "text": [
      "7863/589909\n"
     ]
    },
    {
     "name": "stderr",
     "output_type": "stream",
     "text": [
      "100%|██████████| 7863/7863 [00:00<00:00, 876679.67it/s]\n",
      "  9%|▊         | 2804/32696 [00:00<00:01, 28038.15it/s]"
     ]
    },
    {
     "name": "stdout",
     "output_type": "stream",
     "text": [
      "level:2\n",
      "0/7863\n"
     ]
    },
    {
     "name": "stderr",
     "output_type": "stream",
     "text": [
      "100%|██████████| 32696/32696 [00:01<00:00, 30396.74it/s]\n"
     ]
    }
   ],
   "source": [
    "from tqdm import tqdm\n",
    "import pickle\n",
    "import torch\n",
    "import spacy, scispacy\n",
    "nlp = spacy.load(\"en_core_sci_sm\")\n",
    "import numpy as np\n",
    "import os\n",
    "\n",
    "def get_childs(subgraph, depth, heads):\n",
    "    temp_seq = list()\n",
    "    for head in heads:\n",
    "        temp_seq += subgraph[depth][head]\n",
    "    return temp_seq\n",
    "\n",
    "# Build dictionaries from file\n",
    "triples = [x.split() for x in open(os.path.join(ROOT_DIR,'train2id.txt')).read().splitlines()[1:]]\n",
    "node2edge = {(h,t):r for h,t,r in triples}\n",
    "nodes = {x.split('\\t')[0]:x.split('\\t')[-1] for x in open(os.path.join(ROOT_DIR,'entity2id.txt')).read().splitlines()[1:]}\n",
    "literals = {k:int(v)+NUM_SPECIAL_TOKENS for (k,v) in list(nodes.items()) if '^^' in k}\n",
    "edges = {x.split()[0]:x.split()[1] for x in open(os.path.join(ROOT_DIR,'relation2id.txt')).read().splitlines()[1:]}\n",
    "\n",
    "# Extract Admission Nodes & Literals\n",
    "adm_node = list()\n",
    "for node in list(nodes.items()):\n",
    "    if 'hadm' in node[0]:\n",
    "        adm_node.append(node[1])\n",
    "        \n",
    "# Initialize subgraph\n",
    "subgraph_norel = [{node:list() for node in adm_node}]\n",
    "\n",
    "# Depth First Search\n",
    "print('start preprocessing')\n",
    "level = 0\n",
    "while len(triples)>0:\n",
    "    queue = list()\n",
    "    print('level:{}'.format(level))\n",
    "    for triple in tqdm(triples):\n",
    "        if triple[0] in subgraph_norel[level]:\n",
    "            subgraph_norel[level][triple[0]].append(triple[1])\n",
    "            flag = False\n",
    "        else:\n",
    "            flag = True\n",
    "        if flag:\n",
    "            queue.append(triple)\n",
    "    print('{}/{}'.format(len(queue),len(triples)))\n",
    "    new_head = list()\n",
    "    for heads in list(subgraph_norel[level].values()):\n",
    "        new_head+=heads\n",
    "    subgraph_norel.append({k:list() for k in new_head})\n",
    "    triples = queue\n",
    "    level += 1\n",
    "    if level > 30:\n",
    "        break\n",
    "\n",
    "# Build subgraph\n",
    "subgraphs = dict()\n",
    "max_len = 239\n",
    "cnt = 0\n",
    "for head in tqdm(list(subgraph_norel[0].keys())):\n",
    "    depth=0\n",
    "    seq = [head]\n",
    "    heads = [head]\n",
    "    while depth<level:\n",
    "        heads = get_childs(subgraph_norel,depth,heads)\n",
    "        seq += heads\n",
    "        depth+=1\n",
    "    if len(seq)>max_len:\n",
    "        continue\n",
    "    else:\n",
    "        subgraphs[head]=[2]+[int(x)+NUM_SPECIAL_TOKENS for x in seq]+[0]*(max_len-len(seq))\n",
    " \n",
    "# Align subgraph and note, remove unmathced samples\n",
    "note_aid_pair = list()\n",
    "f = torch.load(os.path.join(ROOT_DIR,'p_sections'))\n",
    "\n",
    "for aid, note in torch.load(os.path.join(ROOT_DIR,'p_sections')):\n",
    "    try:\n",
    "        if nodes[f'</hadm_id/{aid}>'] in subgraphs:\n",
    "            note_refined = {header.replace('\"',''):' '.join([token.text for token in nlp(text.replace('\"',''))]) for header, text in note.items()}\n",
    "            note_aid_pair.append((nodes[f'</hadm_id/{aid}>'],note_refined))\n",
    "    except:\n",
    "        continue\n",
    "\n",
    "print(len(note_aid_pair))\n",
    "print(max(list(map(lambda x: len(x),list(subgraphs.values())))))\n",
    "print('num_literals : {}'.format(len(literals.items())))"
   ]
  },
  {
   "cell_type": "code",
   "execution_count": null,
   "metadata": {},
   "outputs": [],
   "source": [
    "print('num_literals : {}'.format(len(literals.items())))\n",
    "print('num_nodes : {}'.format(len(nodes.items())))"
   ]
  },
  {
   "cell_type": "markdown",
   "metadata": {},
   "source": [
    "# **2. Build DB**"
   ]
  },
  {
   "cell_type": "markdown",
   "metadata": {},
   "source": [
    "## 2-0. TVT split"
   ]
  },
  {
   "cell_type": "code",
   "execution_count": null,
   "metadata": {},
   "outputs": [],
   "source": [
    "# Build Input\n",
    "if not os.path.exists('{}.db'.format(ROOT_DIR)):\n",
    "    DB = {'train':[],'valid':[],'test':[]}\n",
    "    for sample in tqdm(note_aid_pair):\n",
    "        split = np.random.choice(list(DB.keys()),p=[0.8,0.1,0.1])\n",
    "        if (len(DB[split])>=eval_size) and (split in ['valid', 'test']):\n",
    "            split = 'train'\n",
    "        DB[split].append(sample)\n",
    "    torch.save(DB,'{}.db'.format(ROOT_DIR))\n",
    "else:\n",
    "    DB = torch.load('{}.db'.format(ROOT_DIR))"
   ]
  },
  {
   "cell_type": "markdown",
   "metadata": {
    "id": "iIoqHq_nueia"
   },
   "source": [
    "## 2-1-(1). Masked Literal Prediction"
   ]
  },
  {
   "cell_type": "code",
   "execution_count": null,
   "metadata": {
    "colab": {
     "base_uri": "https://localhost:8080/"
    },
    "executionInfo": {
     "elapsed": 280336,
     "status": "ok",
     "timestamp": 1604241423375,
     "user": {
      "displayName": "Park Sungjin",
      "photoUrl": "",
      "userId": "10892187777297360592"
     },
     "user_tz": -540
    },
    "id": "T8yG81c8tHkW",
    "outputId": "2b36e7fd-a267-4346-d04c-fb5d0fe2b7b6"
   },
   "outputs": [],
   "source": [
    "task = '{}_NoKGenc'.format(ROOT_DIR)\n",
    "triples = [x.split() for x in open(os.path.join(ROOT_DIR,'train2id.txt')).read().splitlines()[1:]]\n",
    "node2edge = {(int(h)+NUM_SPECIAL_TOKENS,int(t)+NUM_SPECIAL_TOKENS):int(r) for h,t,r in triples}\n",
    "\n",
    "if not os.path.isdir(task):\n",
    "    os.mkdir(task)\n",
    "\n",
    "# Re-index literals for labeling\n",
    "literal_id2label = {k:v for (v,k) in enumerate(list(literals.values()))}\n",
    "torch.save(literal_id2label,'{}/id2label'.format(task))\n",
    "\n",
    "for split in DB:\n",
    "    ## Debugging Purpose\n",
    "    #if split == 'train':\n",
    "    #    continue\n",
    "    print('[{}] set size : {}'.format(split, len(DB[split])))\n",
    "    if not os.path.isdir(os.path.join(task,split)):\n",
    "        os.mkdir(os.path.join(task,split))\n",
    "    inputs = list()\n",
    "    labels = list()\n",
    "    label_masks = list()\n",
    "    rc_indeces = list()\n",
    "    notes = list()\n",
    "    for head, note in tqdm(DB[split]):\n",
    "        if head not in subgraphs:\n",
    "            continue\n",
    "        subgraph = subgraphs[head]\n",
    "        inputs.append(subgraph)\n",
    "        labels.append(list(map(lambda x: literal_id2label[x] if x in literal_id2label else -100,subgraph)))\n",
    "        label_masks.append(list(map(lambda x: 1 if x in literal_id2label else 0,subgraph)))\n",
    "        # Add RC index for sample\n",
    "        num_nodes = sum([1 for x in subgraph[1:] if x!=0])\n",
    "        num_edge_types = len(set(node2edge.values()))\n",
    "        rc_index = list()\n",
    "        head_indeces = [random.randint(1,num_nodes) for _ in range(int(0.1*num_nodes))]\n",
    "        not_conn = 0\n",
    "        for head_idx in head_indeces:\n",
    "            for tail_idx in range(1,num_nodes+1):\n",
    "                if (random.random()<0.25) or (head_idx==tail_idx):\n",
    "                    continue\n",
    "                idx_pair = (head_idx, tail_idx)\n",
    "                node_pair = (subgraph[idx_pair[0]], subgraph[idx_pair[1]])\n",
    "                inv_node_pair = (subgraph[idx_pair[1]], subgraph[idx_pair[0]])\n",
    "                if node_pair in node2edge:\n",
    "                    rc_index.append(idx_pair+(node2edge[node_pair],))\n",
    "                    break\n",
    "                elif inv_node_pair in node2edge:\n",
    "                    rc_index.append(idx_pair+(node2edge[inv_node_pair],))\n",
    "                    break\n",
    "                else:\n",
    "                    if not_conn < 0.1*num_nodes/(num_edge_types+1):\n",
    "                        rc_index.append(idx_pair+(num_edge_types,))\n",
    "                        not_conn +=1\n",
    "                        break\n",
    "        rc_indeces.append(rc_index)\n",
    "        notes.append(note)\n",
    "    db = {'input':inputs,\n",
    "                'label':labels,\n",
    "                'label_mask':label_masks,\n",
    "                'rc_index':rc_indeces,\n",
    "                'text':notes}\n",
    "    torch.save(db,'{}/db'.format(os.path.join(task,split)))"
   ]
  },
  {
   "cell_type": "markdown",
   "metadata": {},
   "source": [
    "**Sanity Check**"
   ]
  },
  {
   "cell_type": "code",
   "execution_count": null,
   "metadata": {},
   "outputs": [],
   "source": [
    "IDX = 1\n",
    "id2entity = {int(line.split('\\t')[1])+NUM_SPECIAL_TOKENS:line.split('\\t')[0].split('^^')[0] for line in open(os.path.join(ROOT_DIR,'entity2id.txt')).read().splitlines()[1:]}\n",
    "for k, v in db.items():\n",
    "    print(f'{k}:')\n",
    "    if k=='input':\n",
    "        print([id2entity[x] for x in v[IDX][1:] if x!=0])\n",
    "    elif k=='rc_index':\n",
    "        print([(id2entity[db['input'][IDX][h]],id2entity[db['input'][IDX][t]],r) for h,t,r in v[IDX]])\n",
    "    else:\n",
    "        print(v[IDX])"
   ]
  },
  {
   "cell_type": "markdown",
   "metadata": {},
   "source": [
    "## 2-1-(3). Masked Literal Prediction, Graph Enc, UniKGenc"
   ]
  },
  {
   "cell_type": "code",
   "execution_count": null,
   "metadata": {},
   "outputs": [],
   "source": [
    "task = '{}_UniKGenc'.format(ROOT_DIR)\n",
    "triples = [x.split() for x in open(os.path.join(ROOT_DIR,'train2id.txt')).read().splitlines()[1:]]\n",
    "node2edge = {(int(h)+NUM_SPECIAL_TOKENS,int(t)+NUM_SPECIAL_TOKENS):int(r) for h,t,r in triples}\n",
    "\n",
    "if not os.path.isdir(task):\n",
    "    os.mkdir(task)\n",
    "\n",
    "# Re-index literals for labeling\n",
    "literal_id2label = {k:v for (v,k) in enumerate(list(literals.values()))}\n",
    "torch.save(literal_id2label,'{}/id2label'.format(task))\n",
    "\n",
    "for split in DB:\n",
    "    ## Debugging Purpose\n",
    "    #if split == 'train':\n",
    "    #    continue\n",
    "    print('[{}] set size : {}'.format(split, len(DB[split])))\n",
    "    if not os.path.isdir(os.path.join(task,split)):\n",
    "        os.mkdir(os.path.join(task,split))\n",
    "    inputs = list()\n",
    "    masks = list()\n",
    "    labels = list()\n",
    "    label_masks = list()\n",
    "    rc_indeces = list()\n",
    "    notes = list()\n",
    "    \n",
    "    for head, note in tqdm(DB[split],total=len(DB[split])):\n",
    "        if head not in subgraphs:\n",
    "            continue\n",
    "        subgraph = subgraphs[head]\n",
    "        # Append input\n",
    "        inputs.append(subgraph)\n",
    "        # Append label\n",
    "        labels.append(list(map(lambda x: literal_id2label[x] if x in literal_id2label else -100,subgraph)))\n",
    "        label_masks.append(list(map(lambda x: 1 if x in literal_id2label else 0,subgraph)))\n",
    "        # Append attention mask for graph encoder\n",
    "        mask =  torch.eye(len(subgraph))\n",
    "        for head_idx, head in enumerate(subgraph):\n",
    "            for tail_idx, tail in enumerate(subgraph):\n",
    "                if head_idx>tail_idx:\n",
    "                    continue\n",
    "                elif (head==0) or (tail==0):\n",
    "                    continue\n",
    "                else:\n",
    "                    if (head,tail) in node2edge:\n",
    "                        mask[(head_idx, tail_idx)]=1.0\n",
    "                        mask[(tail_idx, head_idx)]=1.0\n",
    "        masks.append(mask)\n",
    "        # Add RC index for sample\n",
    "        num_nodes = sum([1 for x in subgraph[1:] if x!=0])\n",
    "        num_edge_types = len(set(node2edge.values()))\n",
    "        rc_index = list()\n",
    "        head_indeces = [random.randint(1,num_nodes) for _ in range(int(0.1*num_nodes))]\n",
    "        not_conn = 0\n",
    "        for head_idx in head_indeces:\n",
    "            for tail_idx in range(1,num_nodes+1):\n",
    "                if (random.random()<0.25) or (head_idx==tail_idx):\n",
    "                    continue\n",
    "                idx_pair = (head_idx, tail_idx)\n",
    "                node_pair = (subgraph[idx_pair[0]], subgraph[idx_pair[1]])\n",
    "                inv_node_pair = (subgraph[idx_pair[1]], subgraph[idx_pair[0]])\n",
    "                if node_pair in node2edge:\n",
    "                    rc_index.append(idx_pair+(node2edge[node_pair],))\n",
    "                    break\n",
    "                elif inv_node_pair in node2edge:\n",
    "                    rc_index.append(idx_pair+(node2edge[inv_node_pair],))\n",
    "                    break\n",
    "                else:\n",
    "                    if not_conn < 0.1*num_nodes/(num_edge_types+1):\n",
    "                        rc_index.append(idx_pair+(num_edge_types,))\n",
    "                        not_conn +=1\n",
    "                        break\n",
    "        rc_indeces.append(rc_index)\n",
    "        # Append note for text encoder\n",
    "        notes.append(note)\n",
    "            \n",
    "    db = {'input':inputs,\n",
    "                'mask':masks,\n",
    "                'label':labels,\n",
    "                'label_mask':label_masks,\n",
    "                'text':notes,\n",
    "                'rc_index':rc_indeces}\n",
    "    torch.save(db,'{}/db'.format(os.path.join(task,split)))"
   ]
  },
  {
   "cell_type": "markdown",
   "metadata": {},
   "source": [
    "**Sanity Check**"
   ]
  },
  {
   "cell_type": "code",
   "execution_count": null,
   "metadata": {},
   "outputs": [],
   "source": [
    "IDX = 1\n",
    "id2entity = {int(line.split('\\t')[1])+NUM_SPECIAL_TOKENS:line.split('\\t')[0].split('^^')[0] for line in open(os.path.join(ROOT_DIR,'entity2id.txt')).read().splitlines()[1:]}\n",
    "for k, v in db.items():\n",
    "    print(f'{k}:')\n",
    "    if k=='input':\n",
    "        print([id2entity[x] for x in v[IDX][1:] if x!=0])\n",
    "    elif k=='mask':\n",
    "        print(v[IDX][1])\n",
    "    elif k=='rc_index':\n",
    "        print([(id2entity[db['input'][IDX][h]],id2entity[db['input'][IDX][t]],r) for h,t,r in v[IDX]])\n",
    "    else:\n",
    "        print(v[IDX])"
   ]
  },
  {
   "cell_type": "markdown",
   "metadata": {},
   "source": [
    "## 2-2-(1). Unified Abstract Embedding, NoKGenc"
   ]
  },
  {
   "cell_type": "code",
   "execution_count": null,
   "metadata": {
    "scrolled": false
   },
   "outputs": [],
   "source": [
    "task = '{}_UnifiedNoKGenc'.format(ROOT_DIR)\n",
    "triples = [x.split() for x in open(os.path.join(ROOT_DIR,'train2id.txt')).read().splitlines()[1:]]\n",
    "node2edge = {(int(h)+NUM_SPECIAL_TOKENS,int(t)+NUM_SPECIAL_TOKENS):int(r) for h,t,r in triples}\n",
    "\n",
    "if not os.path.isdir(task):\n",
    "    os.mkdir(task)\n",
    "\n",
    "# Re-index literals for labeling\n",
    "#literal_id2label = {k:v for (v,k) in enumerate(list(literals.values()))}\n",
    "#torch.save(literal_id2label,'{}/id2label'.format(task))\n",
    "\n",
    "# Abstract Node Unification\n",
    "node2uninode = {k:k for k in range(NUM_SPECIAL_TOKENS)}\n",
    "if ROOT_DIR == 'px':\n",
    "    unified_node= {'PAD':0,'MASK':1,'CLS':2,'hadm':3,'prescript':4,'icustay':5}\n",
    "    for key in nodes:\n",
    "        if key in literals:\n",
    "            node2uninode[int(nodes[key])+NUM_SPECIAL_TOKENS] = len(unified_node)\n",
    "            unified_node[key]=len(unified_node)\n",
    "        elif 'hadm' in key:\n",
    "            node2uninode[int(nodes[key])+NUM_SPECIAL_TOKENS] = unified_node['hadm']\n",
    "        elif 'prescript' in key:\n",
    "            node2uninode[int(nodes[key])+NUM_SPECIAL_TOKENS] = unified_node['prescript']\n",
    "        elif 'icustay' in key:\n",
    "            node2uninode[int(nodes[key])+NUM_SPECIAL_TOKENS] = unified_node['icustay']\n",
    "        else:\n",
    "            raise ValueError()\n",
    "\n",
    "elif ROOT_DIR == 'dxprx':\n",
    "    unified_node= {'PAD':0,'MASK':1,'CLS':2,'hadm':3,'diagnoses_icd9_code':4,'diagnoses':5,'procedures_icd9_code':6,'procedures':7}\n",
    "    for key in nodes:\n",
    "        if key in literals:\n",
    "            node2uninode[int(nodes[key])+NUM_SPECIAL_TOKENS] = len(unified_node)\n",
    "            unified_node[key]=len(unified_node)     \n",
    "        elif 'hadm' in key:\n",
    "            node2uninode[int(nodes[key])+NUM_SPECIAL_TOKENS] = unified_node['hadm']\n",
    "        elif 'diagnoses_icd9_code' in key:\n",
    "            node2uninode[int(nodes[key])+NUM_SPECIAL_TOKENS] = unified_node['diagnoses_icd9_code']\n",
    "        elif 'diagnoses' in key:\n",
    "            node2uninode[int(nodes[key])+NUM_SPECIAL_TOKENS] = unified_node['diagnoses']\n",
    "        elif 'procedures_icd9_code' in key:\n",
    "            node2uninode[int(nodes[key])+NUM_SPECIAL_TOKENS] = unified_node['procedures_icd9_code']\n",
    "        elif 'procedures' in key:\n",
    "            node2uninode[int(nodes[key])+NUM_SPECIAL_TOKENS] = unified_node['procedures']\n",
    "        else:\n",
    "            raise ValueError()\n",
    "\n",
    "torch.save(unified_node,'{}/unified_node'.format(task))\n",
    "torch.save(node2uninode,'{}/node2uninode'.format(task))\n",
    "print('# Unified nodes : {}'.format(len(unified_node)))\n",
    "            \n",
    "for split in DB:\n",
    "    ## Debugging Purpose\n",
    "    #if split == 'train':\n",
    "    #    continue\n",
    "    print('[{}] set size : {}'.format(split, len(DB[split])))\n",
    "    if not os.path.isdir(os.path.join(task,split)):\n",
    "        os.mkdir(os.path.join(task,split))\n",
    "    inputs = list()\n",
    "    labels = list()\n",
    "    label_masks = list()\n",
    "    rc_indeces = list()\n",
    "    notes = list()\n",
    "    for head, note in tqdm(DB[split]):\n",
    "        if head not in subgraphs:\n",
    "            continue\n",
    "        subgraph = subgraphs[head]\n",
    "        inputs.append(list(map(lambda x: node2uninode[x],subgraph)))\n",
    "        labels.append(list(map(lambda x: node2uninode[x] if x in literal_id2label else -100,subgraph)))\n",
    "        label_masks.append(list(map(lambda x: 1 if x in literal_id2label else 0,subgraph)))\n",
    "        # Add RC index for sample\n",
    "        num_nodes = sum([1 for x in subgraph[1:] if x!=0])\n",
    "        num_edge_types = len(set(node2edge.values()))\n",
    "        rc_index = list()\n",
    "        head_indeces = [random.randint(1,num_nodes) for _ in range(int(0.1*num_nodes))]\n",
    "        not_conn = 0\n",
    "        for head_idx in head_indeces:\n",
    "            for tail_idx in range(1,num_nodes+1):\n",
    "                if (random.random()<0.25) or (head_idx==tail_idx):\n",
    "                    continue\n",
    "                idx_pair = (head_idx, tail_idx)\n",
    "                node_pair = (subgraph[idx_pair[0]], subgraph[idx_pair[1]])\n",
    "                inv_node_pair = (subgraph[idx_pair[1]], subgraph[idx_pair[0]])\n",
    "                if node_pair in node2edge:\n",
    "                    rc_index.append(idx_pair+(node2edge[node_pair],))\n",
    "                    break\n",
    "                elif inv_node_pair in node2edge:\n",
    "                    rc_index.append(idx_pair+(node2edge[inv_node_pair],))\n",
    "                    break\n",
    "                else:\n",
    "                    if not_conn < 0.1*num_nodes/(num_edge_types+1):\n",
    "                        rc_index.append(idx_pair+(num_edge_types,))\n",
    "                        not_conn +=1\n",
    "                        break\n",
    "        rc_indeces.append(rc_index)\n",
    "        notes.append(note)\n",
    "    db = {'input':inputs,\n",
    "                'label':labels,\n",
    "                'label_mask':label_masks,\n",
    "                'rc_index':rc_indeces,\n",
    "                'text':notes}\n",
    "    torch.save(db,'{}/db'.format(os.path.join(task,split)))"
   ]
  },
  {
   "cell_type": "markdown",
   "metadata": {},
   "source": [
    "**Sanity Check**"
   ]
  },
  {
   "cell_type": "code",
   "execution_count": null,
   "metadata": {},
   "outputs": [],
   "source": [
    "IDX = 1\n",
    "id2entity = {int(line.split('\\t')[1])+NUM_SPECIAL_TOKENS:line.split('\\t')[0].split('^^')[0] for line in open(os.path.join(ROOT_DIR,'entity2id.txt')).read().splitlines()[1:]}\n",
    "uninode2name = {v:k.split('^^')[0] for k,v in unified_node.items()}\n",
    "for k, v in db.items():\n",
    "    print(f'{k}:')\n",
    "    if k=='input':\n",
    "        print([uninode2name[x] for x in v[IDX] if x!=0])\n",
    "    elif k=='rc_index':\n",
    "        print([(uninode2name[db['input'][IDX][h]],uninode2name[db['input'][IDX][t]],r) for h,t,r in v[IDX]])\n",
    "    else:\n",
    "        print(v[IDX])"
   ]
  },
  {
   "cell_type": "markdown",
   "metadata": {},
   "source": [
    "## 2-2-(2). Unified Abstract Embedding, UniKGenc"
   ]
  },
  {
   "cell_type": "code",
   "execution_count": null,
   "metadata": {},
   "outputs": [],
   "source": [
    "task = '{}_UnifiedUniKGenc'.format(ROOT_DIR)\n",
    "triples = [x.split() for x in open(os.path.join(ROOT_DIR,'train2id.txt')).read().splitlines()[1:]]\n",
    "node2edge = {(int(h)+NUM_SPECIAL_TOKENS,int(t)+NUM_SPECIAL_TOKENS):int(r) for h,t,r in triples}\n",
    "\n",
    "if not os.path.isdir(task):\n",
    "    os.mkdir(task)\n",
    "\n",
    "# Re-index literals for labeling\n",
    "literal_id2label = {k:v for (v,k) in enumerate(list(literals.values()))}\n",
    "torch.save(literal_id2label,'{}/id2label'.format(task))\n",
    "\n",
    "# Abstract Node Unification\n",
    "node2uninode = {k:k for k in range(NUM_SPECIAL_TOKENS)}\n",
    "if ROOT_DIR == 'px':\n",
    "    unified_node= {'PAD':0,'MASK':1,'CLS':2,'hadm':3,'prescript':4,'icustay':5}\n",
    "    for key in nodes:\n",
    "        if key in literals:\n",
    "            node2uninode[int(nodes[key])+NUM_SPECIAL_TOKENS] = len(unified_node)\n",
    "            unified_node[key]=len(unified_node)\n",
    "        elif 'hadm' in key:\n",
    "            node2uninode[int(nodes[key])+NUM_SPECIAL_TOKENS] = unified_node['hadm']\n",
    "        elif 'prescript' in key:\n",
    "            node2uninode[int(nodes[key])+NUM_SPECIAL_TOKENS] = unified_node['prescript']\n",
    "        elif 'icustay' in key:\n",
    "            node2uninode[int(nodes[key])+NUM_SPECIAL_TOKENS] = unified_node['icustay']\n",
    "        else:\n",
    "            raise ValueError()\n",
    "\n",
    "elif ROOT_DIR == 'dxprx':\n",
    "    unified_node= {'PAD':0,'MASK':1,'CLS':2,'hadm':3,'diagnoses_icd9_code':4,'diagnoses':5,'procedures_icd9_code':6,'procedures':7}\n",
    "    for key in nodes:\n",
    "        if key in literals:\n",
    "            node2uninode[int(nodes[key])+NUM_SPECIAL_TOKENS] = len(unified_node)\n",
    "            unified_node[key]=len(unified_node)     \n",
    "        elif 'hadm' in key:\n",
    "            node2uninode[int(nodes[key])+NUM_SPECIAL_TOKENS] = unified_node['hadm']\n",
    "        elif 'diagnoses_icd9_code' in key:\n",
    "            node2uninode[int(nodes[key])+NUM_SPECIAL_TOKENS] = unified_node['diagnoses_icd9_code']\n",
    "        elif 'diagnoses' in key:\n",
    "            node2uninode[int(nodes[key])+NUM_SPECIAL_TOKENS] = unified_node['diagnoses']\n",
    "        elif 'procedures_icd9_code' in key:\n",
    "            node2uninode[int(nodes[key])+NUM_SPECIAL_TOKENS] = unified_node['procedures_icd9_code']\n",
    "        elif 'procedures' in key:\n",
    "            node2uninode[int(nodes[key])+NUM_SPECIAL_TOKENS] = unified_node['procedures']\n",
    "        else:\n",
    "            raise ValueError()\n",
    "            \n",
    "torch.save(unified_node,'{}/unified_node'.format(task))\n",
    "torch.save(node2uninode,'{}/node2uninode'.format(task))\n",
    "print('# Unified nodes : {}'.format(len(unified_node)))\n",
    "\n",
    "for split in DB:\n",
    "    ## Debugging Purpose\n",
    "    #if split == 'train':\n",
    "    #    continue\n",
    "    print('[{}] set size : {}'.format(split, len(DB[split])))\n",
    "    if not os.path.isdir(os.path.join(task,split)):\n",
    "        os.mkdir(os.path.join(task,split))\n",
    "    inputs = list()\n",
    "    masks = list()\n",
    "    labels = list()\n",
    "    label_masks = list()\n",
    "    rc_indeces = list()\n",
    "    notes = list()\n",
    "    \n",
    "    for head, note in tqdm(DB[split],total=len(DB[split])):\n",
    "        if head not in subgraphs:\n",
    "            continue\n",
    "        subgraph = subgraphs[head]\n",
    "        # Append input\n",
    "        inputs.append(list(map(lambda x: node2uninode[x],subgraph)))\n",
    "        # Append label\n",
    "        labels.append(list(map(lambda x: node2uninode[x] if x in literal_id2label else -100,subgraph)))\n",
    "        label_masks.append(list(map(lambda x: 1 if x in literal_id2label else 0,subgraph)))\n",
    "        # Append attention mask for graph encoder\n",
    "        mask =  torch.eye(len(subgraph))\n",
    "        for head_idx, head in enumerate(subgraph):\n",
    "            for tail_idx, tail in enumerate(subgraph):\n",
    "                if head_idx>tail_idx:\n",
    "                    continue\n",
    "                elif (head==0) or (tail==0):\n",
    "                    continue\n",
    "                else:\n",
    "                    if (head,tail) in node2edge:\n",
    "                        mask[(head_idx, tail_idx)]=1.0\n",
    "                        mask[(tail_idx, head_idx)]=1.0\n",
    "        # Add RC index for sample\n",
    "        num_nodes = sum([1 for x in subgraph[1:] if x!=0])\n",
    "        num_edge_types = len(set(node2edge.values()))\n",
    "        rc_index = list()\n",
    "        head_indeces = [random.randint(1,num_nodes) for _ in range(int(0.1*num_nodes))]\n",
    "        not_conn = 0\n",
    "        for head_idx in head_indeces:\n",
    "            for tail_idx in range(1,num_nodes+1):\n",
    "                if (random.random()<0.25) or (head_idx==tail_idx):\n",
    "                    continue\n",
    "                idx_pair = (head_idx, tail_idx)\n",
    "                node_pair = (subgraph[idx_pair[0]], subgraph[idx_pair[1]])\n",
    "                inv_node_pair = (subgraph[idx_pair[1]], subgraph[idx_pair[0]])\n",
    "                if node_pair in node2edge:\n",
    "                    rc_index.append(idx_pair+(node2edge[node_pair],))\n",
    "                    break\n",
    "                elif inv_node_pair in node2edge:\n",
    "                    rc_index.append(idx_pair+(node2edge[inv_node_pair],))\n",
    "                    break\n",
    "                else:\n",
    "                    if not_conn < 0.1*num_nodes/(num_edge_types+1):\n",
    "                        rc_index.append(idx_pair+(num_edge_types,))\n",
    "                        not_conn +=1\n",
    "                        break\n",
    "        rc_indeces.append(rc_index)\n",
    "        masks.append(mask)\n",
    "        notes.append(note)\n",
    "    db = {'input':inputs,\n",
    "                'mask':masks,\n",
    "                'label':labels,\n",
    "                'label_mask':label_masks,\n",
    "                'rc_index':rc_indeces,\n",
    "                'text':notes}\n",
    "    torch.save(db,'{}/db'.format(os.path.join(task,split)))"
   ]
  },
  {
   "cell_type": "markdown",
   "metadata": {},
   "source": [
    "**Sanity Check**"
   ]
  },
  {
   "cell_type": "code",
   "execution_count": null,
   "metadata": {},
   "outputs": [],
   "source": [
    "IDX = 1\n",
    "id2entity = {int(line.split('\\t')[1])+NUM_SPECIAL_TOKENS:line.split('\\t')[0].split('^^')[0] for line in open(os.path.join(ROOT_DIR,'entity2id.txt')).read().splitlines()[1:]}\n",
    "uninode2name = {v:k.split('^^')[0] for k,v in unified_node.items()}\n",
    "for k, v in db.items():\n",
    "    print(f'{k}:')\n",
    "    if k=='input':\n",
    "        print([uninode2name[x] for x in v[IDX] if x!=0])\n",
    "    elif k=='mask':\n",
    "        print(v[IDX][1])\n",
    "    elif k=='rc_index':\n",
    "        print([(uninode2name[db['input'][IDX][h]],uninode2name[db['input'][IDX][t]],r) for h,t,r in v[IDX]])\n",
    "    else:\n",
    "        print(v[IDX])"
   ]
  },
  {
   "cell_type": "code",
   "execution_count": null,
   "metadata": {},
   "outputs": [],
   "source": []
  }
 ],
 "metadata": {
  "colab": {
   "name": "triple2subgraph.ipynb",
   "provenance": []
  },
  "kernelspec": {
   "display_name": "Python 3",
   "language": "python",
   "name": "python3"
  },
  "language_info": {
   "codemirror_mode": {
    "name": "ipython",
    "version": 3
   },
   "file_extension": ".py",
   "mimetype": "text/x-python",
   "name": "python",
   "nbconvert_exporter": "python",
   "pygments_lexer": "ipython3",
   "version": "3.8.5"
  }
 },
 "nbformat": 4,
 "nbformat_minor": 1
}
