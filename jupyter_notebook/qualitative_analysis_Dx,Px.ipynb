{
 "cells": [
  {
   "cell_type": "markdown",
   "metadata": {},
   "source": [
    "# Dx(Diagnosis), Px(Procedures)"
   ]
  },
  {
   "cell_type": "markdown",
   "metadata": {},
   "source": [
    "---\n",
    "\n",
    "# Results1: attention score"
   ]
  },
  {
   "cell_type": "markdown",
   "metadata": {},
   "source": [
    "## base setting"
   ]
  },
  {
   "cell_type": "code",
   "execution_count": 1,
   "metadata": {},
   "outputs": [],
   "source": [
    "import os\n",
    "import sys \n",
    "import easydict\n",
    "\n",
    "from tqdm import tqdm"
   ]
  },
  {
   "cell_type": "code",
   "execution_count": 2,
   "metadata": {},
   "outputs": [],
   "source": [
    "EXP_PATH = '/home/ssbae/bae/kg_txt_multimodal/lxmert'\n",
    "sys.path.append(EXP_PATH + '/src')"
   ]
  },
  {
   "cell_type": "code",
   "execution_count": 3,
   "metadata": {},
   "outputs": [],
   "source": [
    "from transformers import LxmertTokenizer, LxmertConfig\n",
    "from model import LxmertForKGTokPredAndMaskedLM, LxmertForRanking, LxmertForGeneration, LxmertModel\n",
    "\n",
    "from utils.dataset import get_dataset\n",
    "from utils.data_collator import NegativeSampling_DataCollator, Evaluation_DataCollator\n",
    "\n",
    "import torch\n",
    "from torch.utils.data.sampler import RandomSampler, SequentialSampler\n",
    "from torch.utils.data import ConcatDataset, DataLoader"
   ]
  },
  {
   "cell_type": "code",
   "execution_count": 4,
   "metadata": {},
   "outputs": [],
   "source": [
    "MODEL_PATH = 'KGenc_LMinit_H128_L2,2,4_Align_RC_Unified2000_RNG1234'"
   ]
  },
  {
   "cell_type": "code",
   "execution_count": 5,
   "metadata": {},
   "outputs": [],
   "source": [
    "model_args = easydict.EasyDict({\n",
    "    \"model_name_or_path\": os.path.join(EXP_PATH, f'pretrained_models/pretrain/dx,prx/{MODEL_PATH}'),\n",
    "    \"tokenizer_name\": 'bert-base-uncased',\n",
    "    \"cache_dir\": None,\n",
    "})\n",
    "\n",
    "data_args = easydict.EasyDict({\n",
    "    \"eval_data_file\": os.path.join(EXP_PATH, \"data/dx,prx_2000/dx,prx_UnifiedUniKGenc/valid\"),\n",
    "    \"test_data_file\": os.path.join(EXP_PATH, \"data/dx,prx_2000/dx,prx_UnifiedUniKGenc/test\"),\n",
    "    \"block_size\": 512,\n",
    "})\n",
    "\n",
    "training_args = easydict.EasyDict({\n",
    "    \"per_device_eval_batch_size\": 1,\n",
    "    \"task\": \"pretrain\",\n",
    "    \"device\": torch.device(\"cuda:0\" if torch.cuda.is_available() else \"cpu\"),\n",
    "    \"do_eval\": True,\n",
    "})"
   ]
  },
  {
   "cell_type": "markdown",
   "metadata": {},
   "source": [
    "### load config, tokenizer, and model"
   ]
  },
  {
   "cell_type": "code",
   "execution_count": 6,
   "metadata": {},
   "outputs": [
    {
     "name": "stderr",
     "output_type": "stream",
     "text": [
      "404 Client Error: Not Found for url: https://huggingface.co//home/ssbae/bae/kg_txt_multimodal/lxmert/pretrained_models/pretrain/dx,prx/KGenc_LMinit_H128_L2,2,4_Align_RC_Unified2000_RNG1234/resolve/main/config.json\n"
     ]
    },
    {
     "ename": "OSError",
     "evalue": "Can't load config for '/home/ssbae/bae/kg_txt_multimodal/lxmert/pretrained_models/pretrain/dx,prx/KGenc_LMinit_H128_L2,2,4_Align_RC_Unified2000_RNG1234'. Make sure that:\n\n- '/home/ssbae/bae/kg_txt_multimodal/lxmert/pretrained_models/pretrain/dx,prx/KGenc_LMinit_H128_L2,2,4_Align_RC_Unified2000_RNG1234' is a correct model identifier listed on 'https://huggingface.co/models'\n\n- or '/home/ssbae/bae/kg_txt_multimodal/lxmert/pretrained_models/pretrain/dx,prx/KGenc_LMinit_H128_L2,2,4_Align_RC_Unified2000_RNG1234' is the correct path to a directory containing a config.json file\n\n",
     "output_type": "error",
     "traceback": [
      "\u001b[0;31m---------------------------------------------------------------------------\u001b[0m",
      "\u001b[0;31mHTTPError\u001b[0m                                 Traceback (most recent call last)",
      "\u001b[0;32m~/anaconda3/envs/kgtext/lib/python3.7/site-packages/transformers/configuration_utils.py\u001b[0m in \u001b[0;36mget_config_dict\u001b[0;34m(cls, pretrained_model_name_or_path, **kwargs)\u001b[0m\n\u001b[1;32m    387\u001b[0m                 \u001b[0mresume_download\u001b[0m\u001b[0;34m=\u001b[0m\u001b[0mresume_download\u001b[0m\u001b[0;34m,\u001b[0m\u001b[0;34m\u001b[0m\u001b[0;34m\u001b[0m\u001b[0m\n\u001b[0;32m--> 388\u001b[0;31m                 \u001b[0mlocal_files_only\u001b[0m\u001b[0;34m=\u001b[0m\u001b[0mlocal_files_only\u001b[0m\u001b[0;34m,\u001b[0m\u001b[0;34m\u001b[0m\u001b[0;34m\u001b[0m\u001b[0m\n\u001b[0m\u001b[1;32m    389\u001b[0m             )\n",
      "\u001b[0;32m~/anaconda3/envs/kgtext/lib/python3.7/site-packages/transformers/file_utils.py\u001b[0m in \u001b[0;36mcached_path\u001b[0;34m(url_or_filename, cache_dir, force_download, proxies, resume_download, user_agent, extract_compressed_file, force_extract, local_files_only)\u001b[0m\n\u001b[1;32m    954\u001b[0m             \u001b[0muser_agent\u001b[0m\u001b[0;34m=\u001b[0m\u001b[0muser_agent\u001b[0m\u001b[0;34m,\u001b[0m\u001b[0;34m\u001b[0m\u001b[0;34m\u001b[0m\u001b[0m\n\u001b[0;32m--> 955\u001b[0;31m             \u001b[0mlocal_files_only\u001b[0m\u001b[0;34m=\u001b[0m\u001b[0mlocal_files_only\u001b[0m\u001b[0;34m,\u001b[0m\u001b[0;34m\u001b[0m\u001b[0;34m\u001b[0m\u001b[0m\n\u001b[0m\u001b[1;32m    956\u001b[0m         )\n",
      "\u001b[0;32m~/anaconda3/envs/kgtext/lib/python3.7/site-packages/transformers/file_utils.py\u001b[0m in \u001b[0;36mget_from_cache\u001b[0;34m(url, cache_dir, force_download, proxies, etag_timeout, resume_download, user_agent, local_files_only)\u001b[0m\n\u001b[1;32m   1075\u001b[0m             \u001b[0mr\u001b[0m \u001b[0;34m=\u001b[0m \u001b[0mrequests\u001b[0m\u001b[0;34m.\u001b[0m\u001b[0mhead\u001b[0m\u001b[0;34m(\u001b[0m\u001b[0murl\u001b[0m\u001b[0;34m,\u001b[0m \u001b[0mheaders\u001b[0m\u001b[0;34m=\u001b[0m\u001b[0mheaders\u001b[0m\u001b[0;34m,\u001b[0m \u001b[0mallow_redirects\u001b[0m\u001b[0;34m=\u001b[0m\u001b[0;32mFalse\u001b[0m\u001b[0;34m,\u001b[0m \u001b[0mproxies\u001b[0m\u001b[0;34m=\u001b[0m\u001b[0mproxies\u001b[0m\u001b[0;34m,\u001b[0m \u001b[0mtimeout\u001b[0m\u001b[0;34m=\u001b[0m\u001b[0metag_timeout\u001b[0m\u001b[0;34m)\u001b[0m\u001b[0;34m\u001b[0m\u001b[0;34m\u001b[0m\u001b[0m\n\u001b[0;32m-> 1076\u001b[0;31m             \u001b[0mr\u001b[0m\u001b[0;34m.\u001b[0m\u001b[0mraise_for_status\u001b[0m\u001b[0;34m(\u001b[0m\u001b[0;34m)\u001b[0m\u001b[0;34m\u001b[0m\u001b[0;34m\u001b[0m\u001b[0m\n\u001b[0m\u001b[1;32m   1077\u001b[0m             \u001b[0metag\u001b[0m \u001b[0;34m=\u001b[0m \u001b[0mr\u001b[0m\u001b[0;34m.\u001b[0m\u001b[0mheaders\u001b[0m\u001b[0;34m.\u001b[0m\u001b[0mget\u001b[0m\u001b[0;34m(\u001b[0m\u001b[0;34m\"X-Linked-Etag\"\u001b[0m\u001b[0;34m)\u001b[0m \u001b[0;32mor\u001b[0m \u001b[0mr\u001b[0m\u001b[0;34m.\u001b[0m\u001b[0mheaders\u001b[0m\u001b[0;34m.\u001b[0m\u001b[0mget\u001b[0m\u001b[0;34m(\u001b[0m\u001b[0;34m\"ETag\"\u001b[0m\u001b[0;34m)\u001b[0m\u001b[0;34m\u001b[0m\u001b[0;34m\u001b[0m\u001b[0m\n",
      "\u001b[0;32m~/anaconda3/envs/kgtext/lib/python3.7/site-packages/requests/models.py\u001b[0m in \u001b[0;36mraise_for_status\u001b[0;34m(self)\u001b[0m\n\u001b[1;32m    942\u001b[0m         \u001b[0;32mif\u001b[0m \u001b[0mhttp_error_msg\u001b[0m\u001b[0;34m:\u001b[0m\u001b[0;34m\u001b[0m\u001b[0;34m\u001b[0m\u001b[0m\n\u001b[0;32m--> 943\u001b[0;31m             \u001b[0;32mraise\u001b[0m \u001b[0mHTTPError\u001b[0m\u001b[0;34m(\u001b[0m\u001b[0mhttp_error_msg\u001b[0m\u001b[0;34m,\u001b[0m \u001b[0mresponse\u001b[0m\u001b[0;34m=\u001b[0m\u001b[0mself\u001b[0m\u001b[0;34m)\u001b[0m\u001b[0;34m\u001b[0m\u001b[0;34m\u001b[0m\u001b[0m\n\u001b[0m\u001b[1;32m    944\u001b[0m \u001b[0;34m\u001b[0m\u001b[0m\n",
      "\u001b[0;31mHTTPError\u001b[0m: 404 Client Error: Not Found for url: https://huggingface.co//home/ssbae/bae/kg_txt_multimodal/lxmert/pretrained_models/pretrain/dx,prx/KGenc_LMinit_H128_L2,2,4_Align_RC_Unified2000_RNG1234/resolve/main/config.json",
      "\nDuring handling of the above exception, another exception occurred:\n",
      "\u001b[0;31mOSError\u001b[0m                                   Traceback (most recent call last)",
      "\u001b[0;32m<ipython-input-6-4c5abf9ce91e>\u001b[0m in \u001b[0;36m<module>\u001b[0;34m\u001b[0m\n\u001b[0;32m----> 1\u001b[0;31m \u001b[0mconfig\u001b[0m \u001b[0;34m=\u001b[0m \u001b[0mLxmertConfig\u001b[0m\u001b[0;34m.\u001b[0m\u001b[0mfrom_pretrained\u001b[0m\u001b[0;34m(\u001b[0m\u001b[0mmodel_args\u001b[0m\u001b[0;34m.\u001b[0m\u001b[0mmodel_name_or_path\u001b[0m\u001b[0;34m,\u001b[0m \u001b[0mcache_dir\u001b[0m\u001b[0;34m=\u001b[0m\u001b[0mmodel_args\u001b[0m\u001b[0;34m.\u001b[0m\u001b[0mcache_dir\u001b[0m\u001b[0;34m)\u001b[0m\u001b[0;34m\u001b[0m\u001b[0;34m\u001b[0m\u001b[0m\n\u001b[0m\u001b[1;32m      2\u001b[0m \u001b[0mconfig\u001b[0m\u001b[0;34m.\u001b[0m\u001b[0muse_ce_pooler\u001b[0m \u001b[0;34m=\u001b[0m \u001b[0;32mTrue\u001b[0m\u001b[0;34m\u001b[0m\u001b[0;34m\u001b[0m\u001b[0m\n\u001b[1;32m      3\u001b[0m \u001b[0mconfig\u001b[0m\u001b[0;34m.\u001b[0m\u001b[0mcross_att_type\u001b[0m \u001b[0;34m=\u001b[0m \u001b[0;34m'cross'\u001b[0m\u001b[0;34m\u001b[0m\u001b[0;34m\u001b[0m\u001b[0m\n",
      "\u001b[0;32m~/anaconda3/envs/kgtext/lib/python3.7/site-packages/transformers/configuration_utils.py\u001b[0m in \u001b[0;36mfrom_pretrained\u001b[0;34m(cls, pretrained_model_name_or_path, **kwargs)\u001b[0m\n\u001b[1;32m    345\u001b[0m \u001b[0;34m\u001b[0m\u001b[0m\n\u001b[1;32m    346\u001b[0m         \"\"\"\n\u001b[0;32m--> 347\u001b[0;31m         \u001b[0mconfig_dict\u001b[0m\u001b[0;34m,\u001b[0m \u001b[0mkwargs\u001b[0m \u001b[0;34m=\u001b[0m \u001b[0mcls\u001b[0m\u001b[0;34m.\u001b[0m\u001b[0mget_config_dict\u001b[0m\u001b[0;34m(\u001b[0m\u001b[0mpretrained_model_name_or_path\u001b[0m\u001b[0;34m,\u001b[0m \u001b[0;34m**\u001b[0m\u001b[0mkwargs\u001b[0m\u001b[0;34m)\u001b[0m\u001b[0;34m\u001b[0m\u001b[0;34m\u001b[0m\u001b[0m\n\u001b[0m\u001b[1;32m    348\u001b[0m         \u001b[0;32mreturn\u001b[0m \u001b[0mcls\u001b[0m\u001b[0;34m.\u001b[0m\u001b[0mfrom_dict\u001b[0m\u001b[0;34m(\u001b[0m\u001b[0mconfig_dict\u001b[0m\u001b[0;34m,\u001b[0m \u001b[0;34m**\u001b[0m\u001b[0mkwargs\u001b[0m\u001b[0;34m)\u001b[0m\u001b[0;34m\u001b[0m\u001b[0;34m\u001b[0m\u001b[0m\n\u001b[1;32m    349\u001b[0m \u001b[0;34m\u001b[0m\u001b[0m\n",
      "\u001b[0;32m~/anaconda3/envs/kgtext/lib/python3.7/site-packages/transformers/configuration_utils.py\u001b[0m in \u001b[0;36mget_config_dict\u001b[0;34m(cls, pretrained_model_name_or_path, **kwargs)\u001b[0m\n\u001b[1;32m    398\u001b[0m                 \u001b[0;34mf\"- or '{pretrained_model_name_or_path}' is the correct path to a directory containing a {CONFIG_NAME} file\\n\\n\"\u001b[0m\u001b[0;34m\u001b[0m\u001b[0;34m\u001b[0m\u001b[0m\n\u001b[1;32m    399\u001b[0m             )\n\u001b[0;32m--> 400\u001b[0;31m             \u001b[0;32mraise\u001b[0m \u001b[0mEnvironmentError\u001b[0m\u001b[0;34m(\u001b[0m\u001b[0mmsg\u001b[0m\u001b[0;34m)\u001b[0m\u001b[0;34m\u001b[0m\u001b[0;34m\u001b[0m\u001b[0m\n\u001b[0m\u001b[1;32m    401\u001b[0m \u001b[0;34m\u001b[0m\u001b[0m\n\u001b[1;32m    402\u001b[0m         \u001b[0;32mexcept\u001b[0m \u001b[0mjson\u001b[0m\u001b[0;34m.\u001b[0m\u001b[0mJSONDecodeError\u001b[0m\u001b[0;34m:\u001b[0m\u001b[0;34m\u001b[0m\u001b[0;34m\u001b[0m\u001b[0m\n",
      "\u001b[0;31mOSError\u001b[0m: Can't load config for '/home/ssbae/bae/kg_txt_multimodal/lxmert/pretrained_models/pretrain/dx,prx/KGenc_LMinit_H128_L2,2,4_Align_RC_Unified2000_RNG1234'. Make sure that:\n\n- '/home/ssbae/bae/kg_txt_multimodal/lxmert/pretrained_models/pretrain/dx,prx/KGenc_LMinit_H128_L2,2,4_Align_RC_Unified2000_RNG1234' is a correct model identifier listed on 'https://huggingface.co/models'\n\n- or '/home/ssbae/bae/kg_txt_multimodal/lxmert/pretrained_models/pretrain/dx,prx/KGenc_LMinit_H128_L2,2,4_Align_RC_Unified2000_RNG1234' is the correct path to a directory containing a config.json file\n\n"
     ]
    }
   ],
   "source": [
    "config = LxmertConfig.from_pretrained(model_args.model_name_or_path, cache_dir=model_args.cache_dir)\n",
    "config.use_ce_pooler = True\n",
    "config.cross_att_type = 'cross'"
   ]
  },
  {
   "cell_type": "code",
   "execution_count": null,
   "metadata": {},
   "outputs": [],
   "source": [
    "tokenizer = LxmertTokenizer.from_pretrained(model_args.tokenizer_name, cache_dir=model_args.cache_dir)"
   ]
  },
  {
   "cell_type": "code",
   "execution_count": null,
   "metadata": {},
   "outputs": [],
   "source": [
    "# model = LxmertForKGTokPredAndMaskedLM.from_pretrained(model_args.model_name_or_path,\n",
    "#                                                       config=config)\n",
    "\n",
    "model = LxmertModel.from_pretrained(model_args.model_name_or_path,\n",
    "                                    config=config)"
   ]
  },
  {
   "cell_type": "markdown",
   "metadata": {},
   "source": [
    "### load dataset, data_collator (test)"
   ]
  },
  {
   "cell_type": "code",
   "execution_count": 14,
   "metadata": {
    "scrolled": true
   },
   "outputs": [
    {
     "name": "stderr",
     "output_type": "stream",
     "text": [
      "100%|██████████| 2000/2000 [00:03<00:00, 531.09it/s]\n",
      "100%|██████████| 2000/2000 [00:00<00:00, 11101.43it/s]\n"
     ]
    }
   ],
   "source": [
    "test_dataset = get_dataset(data_args, \n",
    "                           tokenizer=tokenizer, \n",
    "                           token_type_vocab=config.token_type_vocab,\n",
    "                           test=True) if training_args.do_eval else None"
   ]
  },
  {
   "cell_type": "code",
   "execution_count": 15,
   "metadata": {},
   "outputs": [],
   "source": [
    "data_collator = Evaluation_DataCollator(tokenizer=tokenizer,\n",
    "                                        kg_special_token_ids=config.kg_special_token_ids,\n",
    "                                        task=training_args.task)"
   ]
  },
  {
   "cell_type": "code",
   "execution_count": 16,
   "metadata": {},
   "outputs": [
    {
     "data": {
      "text/plain": [
       "LxmertModel(\n",
       "  (lang_embeddings): LxmertEmbeddings(\n",
       "    (word_embeddings): Embedding(30522, 128)\n",
       "    (position_embeddings): Embedding(512, 128)\n",
       "    (token_type_embeddings): Embedding(2, 128)\n",
       "    (LayerNorm): LayerNorm((128,), eps=1e-12, elementwise_affine=True)\n",
       "    (dropout): Dropout(p=0.1, inplace=False)\n",
       "  )\n",
       "  (kg_embeddings): LxmertEmbeddings(\n",
       "    (word_embeddings): Embedding(8057, 128)\n",
       "    (position_embeddings): Embedding(1024, 128)\n",
       "    (LayerNorm): LayerNorm((128,), eps=1e-12, elementwise_affine=True)\n",
       "    (dropout): Dropout(p=0.1, inplace=False)\n",
       "  )\n",
       "  (encoder): LxmertEncoder(\n",
       "    (layer): ModuleList(\n",
       "      (0): LxmertLayer(\n",
       "        (attention): LxmertSelfAttentionLayer(\n",
       "          (self): LxmertAttention(\n",
       "            (query): Linear(in_features=128, out_features=128, bias=True)\n",
       "            (key): Linear(in_features=128, out_features=128, bias=True)\n",
       "            (value): Linear(in_features=128, out_features=128, bias=True)\n",
       "            (dropout): Dropout(p=0.1, inplace=False)\n",
       "          )\n",
       "          (output): LxmertAttentionOutput(\n",
       "            (dense): Linear(in_features=128, out_features=128, bias=True)\n",
       "            (LayerNorm): LayerNorm((128,), eps=1e-12, elementwise_affine=True)\n",
       "            (dropout): Dropout(p=0.1, inplace=False)\n",
       "          )\n",
       "        )\n",
       "        (intermediate): LxmertIntermediate(\n",
       "          (dense): Linear(in_features=128, out_features=512, bias=True)\n",
       "        )\n",
       "        (output): LxmertOutput(\n",
       "          (dense): Linear(in_features=512, out_features=128, bias=True)\n",
       "          (LayerNorm): LayerNorm((128,), eps=1e-12, elementwise_affine=True)\n",
       "          (dropout): Dropout(p=0.1, inplace=False)\n",
       "        )\n",
       "      )\n",
       "      (1): LxmertLayer(\n",
       "        (attention): LxmertSelfAttentionLayer(\n",
       "          (self): LxmertAttention(\n",
       "            (query): Linear(in_features=128, out_features=128, bias=True)\n",
       "            (key): Linear(in_features=128, out_features=128, bias=True)\n",
       "            (value): Linear(in_features=128, out_features=128, bias=True)\n",
       "            (dropout): Dropout(p=0.1, inplace=False)\n",
       "          )\n",
       "          (output): LxmertAttentionOutput(\n",
       "            (dense): Linear(in_features=128, out_features=128, bias=True)\n",
       "            (LayerNorm): LayerNorm((128,), eps=1e-12, elementwise_affine=True)\n",
       "            (dropout): Dropout(p=0.1, inplace=False)\n",
       "          )\n",
       "        )\n",
       "        (intermediate): LxmertIntermediate(\n",
       "          (dense): Linear(in_features=128, out_features=512, bias=True)\n",
       "        )\n",
       "        (output): LxmertOutput(\n",
       "          (dense): Linear(in_features=512, out_features=128, bias=True)\n",
       "          (LayerNorm): LayerNorm((128,), eps=1e-12, elementwise_affine=True)\n",
       "          (dropout): Dropout(p=0.1, inplace=False)\n",
       "        )\n",
       "      )\n",
       "    )\n",
       "    (x_layers): ModuleList(\n",
       "      (0): LxmertXLayer(\n",
       "        (cross_attention): LxmertCrossAttentionLayer(\n",
       "          (att): LxmertAttention(\n",
       "            (query): Linear(in_features=128, out_features=128, bias=True)\n",
       "            (key): Linear(in_features=128, out_features=128, bias=True)\n",
       "            (value): Linear(in_features=128, out_features=128, bias=True)\n",
       "            (dropout): Dropout(p=0.1, inplace=False)\n",
       "          )\n",
       "          (output): LxmertAttentionOutput(\n",
       "            (dense): Linear(in_features=128, out_features=128, bias=True)\n",
       "            (LayerNorm): LayerNorm((128,), eps=1e-12, elementwise_affine=True)\n",
       "            (dropout): Dropout(p=0.1, inplace=False)\n",
       "          )\n",
       "        )\n",
       "        (lang_self_att): LxmertSelfAttentionLayer(\n",
       "          (self): LxmertAttention(\n",
       "            (query): Linear(in_features=128, out_features=128, bias=True)\n",
       "            (key): Linear(in_features=128, out_features=128, bias=True)\n",
       "            (value): Linear(in_features=128, out_features=128, bias=True)\n",
       "            (dropout): Dropout(p=0.1, inplace=False)\n",
       "          )\n",
       "          (output): LxmertAttentionOutput(\n",
       "            (dense): Linear(in_features=128, out_features=128, bias=True)\n",
       "            (LayerNorm): LayerNorm((128,), eps=1e-12, elementwise_affine=True)\n",
       "            (dropout): Dropout(p=0.1, inplace=False)\n",
       "          )\n",
       "        )\n",
       "        (visn_self_att): LxmertSelfAttentionLayer(\n",
       "          (self): LxmertAttention(\n",
       "            (query): Linear(in_features=128, out_features=128, bias=True)\n",
       "            (key): Linear(in_features=128, out_features=128, bias=True)\n",
       "            (value): Linear(in_features=128, out_features=128, bias=True)\n",
       "            (dropout): Dropout(p=0.1, inplace=False)\n",
       "          )\n",
       "          (output): LxmertAttentionOutput(\n",
       "            (dense): Linear(in_features=128, out_features=128, bias=True)\n",
       "            (LayerNorm): LayerNorm((128,), eps=1e-12, elementwise_affine=True)\n",
       "            (dropout): Dropout(p=0.1, inplace=False)\n",
       "          )\n",
       "        )\n",
       "        (lang_inter): LxmertIntermediate(\n",
       "          (dense): Linear(in_features=128, out_features=512, bias=True)\n",
       "        )\n",
       "        (lang_output): LxmertOutput(\n",
       "          (dense): Linear(in_features=512, out_features=128, bias=True)\n",
       "          (LayerNorm): LayerNorm((128,), eps=1e-12, elementwise_affine=True)\n",
       "          (dropout): Dropout(p=0.1, inplace=False)\n",
       "        )\n",
       "        (visn_inter): LxmertIntermediate(\n",
       "          (dense): Linear(in_features=128, out_features=512, bias=True)\n",
       "        )\n",
       "        (visn_output): LxmertOutput(\n",
       "          (dense): Linear(in_features=512, out_features=128, bias=True)\n",
       "          (LayerNorm): LayerNorm((128,), eps=1e-12, elementwise_affine=True)\n",
       "          (dropout): Dropout(p=0.1, inplace=False)\n",
       "        )\n",
       "      )\n",
       "      (1): LxmertXLayer(\n",
       "        (cross_attention): LxmertCrossAttentionLayer(\n",
       "          (att): LxmertAttention(\n",
       "            (query): Linear(in_features=128, out_features=128, bias=True)\n",
       "            (key): Linear(in_features=128, out_features=128, bias=True)\n",
       "            (value): Linear(in_features=128, out_features=128, bias=True)\n",
       "            (dropout): Dropout(p=0.1, inplace=False)\n",
       "          )\n",
       "          (output): LxmertAttentionOutput(\n",
       "            (dense): Linear(in_features=128, out_features=128, bias=True)\n",
       "            (LayerNorm): LayerNorm((128,), eps=1e-12, elementwise_affine=True)\n",
       "            (dropout): Dropout(p=0.1, inplace=False)\n",
       "          )\n",
       "        )\n",
       "        (lang_self_att): LxmertSelfAttentionLayer(\n",
       "          (self): LxmertAttention(\n",
       "            (query): Linear(in_features=128, out_features=128, bias=True)\n",
       "            (key): Linear(in_features=128, out_features=128, bias=True)\n",
       "            (value): Linear(in_features=128, out_features=128, bias=True)\n",
       "            (dropout): Dropout(p=0.1, inplace=False)\n",
       "          )\n",
       "          (output): LxmertAttentionOutput(\n",
       "            (dense): Linear(in_features=128, out_features=128, bias=True)\n",
       "            (LayerNorm): LayerNorm((128,), eps=1e-12, elementwise_affine=True)\n",
       "            (dropout): Dropout(p=0.1, inplace=False)\n",
       "          )\n",
       "        )\n",
       "        (visn_self_att): LxmertSelfAttentionLayer(\n",
       "          (self): LxmertAttention(\n",
       "            (query): Linear(in_features=128, out_features=128, bias=True)\n",
       "            (key): Linear(in_features=128, out_features=128, bias=True)\n",
       "            (value): Linear(in_features=128, out_features=128, bias=True)\n",
       "            (dropout): Dropout(p=0.1, inplace=False)\n",
       "          )\n",
       "          (output): LxmertAttentionOutput(\n",
       "            (dense): Linear(in_features=128, out_features=128, bias=True)\n",
       "            (LayerNorm): LayerNorm((128,), eps=1e-12, elementwise_affine=True)\n",
       "            (dropout): Dropout(p=0.1, inplace=False)\n",
       "          )\n",
       "        )\n",
       "        (lang_inter): LxmertIntermediate(\n",
       "          (dense): Linear(in_features=128, out_features=512, bias=True)\n",
       "        )\n",
       "        (lang_output): LxmertOutput(\n",
       "          (dense): Linear(in_features=512, out_features=128, bias=True)\n",
       "          (LayerNorm): LayerNorm((128,), eps=1e-12, elementwise_affine=True)\n",
       "          (dropout): Dropout(p=0.1, inplace=False)\n",
       "        )\n",
       "        (visn_inter): LxmertIntermediate(\n",
       "          (dense): Linear(in_features=128, out_features=512, bias=True)\n",
       "        )\n",
       "        (visn_output): LxmertOutput(\n",
       "          (dense): Linear(in_features=512, out_features=128, bias=True)\n",
       "          (LayerNorm): LayerNorm((128,), eps=1e-12, elementwise_affine=True)\n",
       "          (dropout): Dropout(p=0.1, inplace=False)\n",
       "        )\n",
       "      )\n",
       "      (2): LxmertXLayer(\n",
       "        (cross_attention): LxmertCrossAttentionLayer(\n",
       "          (att): LxmertAttention(\n",
       "            (query): Linear(in_features=128, out_features=128, bias=True)\n",
       "            (key): Linear(in_features=128, out_features=128, bias=True)\n",
       "            (value): Linear(in_features=128, out_features=128, bias=True)\n",
       "            (dropout): Dropout(p=0.1, inplace=False)\n",
       "          )\n",
       "          (output): LxmertAttentionOutput(\n",
       "            (dense): Linear(in_features=128, out_features=128, bias=True)\n",
       "            (LayerNorm): LayerNorm((128,), eps=1e-12, elementwise_affine=True)\n",
       "            (dropout): Dropout(p=0.1, inplace=False)\n",
       "          )\n",
       "        )\n",
       "        (lang_self_att): LxmertSelfAttentionLayer(\n",
       "          (self): LxmertAttention(\n",
       "            (query): Linear(in_features=128, out_features=128, bias=True)\n",
       "            (key): Linear(in_features=128, out_features=128, bias=True)\n",
       "            (value): Linear(in_features=128, out_features=128, bias=True)\n",
       "            (dropout): Dropout(p=0.1, inplace=False)\n",
       "          )\n",
       "          (output): LxmertAttentionOutput(\n",
       "            (dense): Linear(in_features=128, out_features=128, bias=True)\n",
       "            (LayerNorm): LayerNorm((128,), eps=1e-12, elementwise_affine=True)\n",
       "            (dropout): Dropout(p=0.1, inplace=False)\n",
       "          )\n",
       "        )\n",
       "        (visn_self_att): LxmertSelfAttentionLayer(\n",
       "          (self): LxmertAttention(\n",
       "            (query): Linear(in_features=128, out_features=128, bias=True)\n",
       "            (key): Linear(in_features=128, out_features=128, bias=True)\n",
       "            (value): Linear(in_features=128, out_features=128, bias=True)\n",
       "            (dropout): Dropout(p=0.1, inplace=False)\n",
       "          )\n",
       "          (output): LxmertAttentionOutput(\n",
       "            (dense): Linear(in_features=128, out_features=128, bias=True)\n",
       "            (LayerNorm): LayerNorm((128,), eps=1e-12, elementwise_affine=True)\n",
       "            (dropout): Dropout(p=0.1, inplace=False)\n",
       "          )\n",
       "        )\n",
       "        (lang_inter): LxmertIntermediate(\n",
       "          (dense): Linear(in_features=128, out_features=512, bias=True)\n",
       "        )\n",
       "        (lang_output): LxmertOutput(\n",
       "          (dense): Linear(in_features=512, out_features=128, bias=True)\n",
       "          (LayerNorm): LayerNorm((128,), eps=1e-12, elementwise_affine=True)\n",
       "          (dropout): Dropout(p=0.1, inplace=False)\n",
       "        )\n",
       "        (visn_inter): LxmertIntermediate(\n",
       "          (dense): Linear(in_features=128, out_features=512, bias=True)\n",
       "        )\n",
       "        (visn_output): LxmertOutput(\n",
       "          (dense): Linear(in_features=512, out_features=128, bias=True)\n",
       "          (LayerNorm): LayerNorm((128,), eps=1e-12, elementwise_affine=True)\n",
       "          (dropout): Dropout(p=0.1, inplace=False)\n",
       "        )\n",
       "      )\n",
       "      (3): LxmertXLayer(\n",
       "        (cross_attention): LxmertCrossAttentionLayer(\n",
       "          (att): LxmertAttention(\n",
       "            (query): Linear(in_features=128, out_features=128, bias=True)\n",
       "            (key): Linear(in_features=128, out_features=128, bias=True)\n",
       "            (value): Linear(in_features=128, out_features=128, bias=True)\n",
       "            (dropout): Dropout(p=0.1, inplace=False)\n",
       "          )\n",
       "          (output): LxmertAttentionOutput(\n",
       "            (dense): Linear(in_features=128, out_features=128, bias=True)\n",
       "            (LayerNorm): LayerNorm((128,), eps=1e-12, elementwise_affine=True)\n",
       "            (dropout): Dropout(p=0.1, inplace=False)\n",
       "          )\n",
       "        )\n",
       "        (lang_self_att): LxmertSelfAttentionLayer(\n",
       "          (self): LxmertAttention(\n",
       "            (query): Linear(in_features=128, out_features=128, bias=True)\n",
       "            (key): Linear(in_features=128, out_features=128, bias=True)\n",
       "            (value): Linear(in_features=128, out_features=128, bias=True)\n",
       "            (dropout): Dropout(p=0.1, inplace=False)\n",
       "          )\n",
       "          (output): LxmertAttentionOutput(\n",
       "            (dense): Linear(in_features=128, out_features=128, bias=True)\n",
       "            (LayerNorm): LayerNorm((128,), eps=1e-12, elementwise_affine=True)\n",
       "            (dropout): Dropout(p=0.1, inplace=False)\n",
       "          )\n",
       "        )\n",
       "        (visn_self_att): LxmertSelfAttentionLayer(\n",
       "          (self): LxmertAttention(\n",
       "            (query): Linear(in_features=128, out_features=128, bias=True)\n",
       "            (key): Linear(in_features=128, out_features=128, bias=True)\n",
       "            (value): Linear(in_features=128, out_features=128, bias=True)\n",
       "            (dropout): Dropout(p=0.1, inplace=False)\n",
       "          )\n",
       "          (output): LxmertAttentionOutput(\n",
       "            (dense): Linear(in_features=128, out_features=128, bias=True)\n",
       "            (LayerNorm): LayerNorm((128,), eps=1e-12, elementwise_affine=True)\n",
       "            (dropout): Dropout(p=0.1, inplace=False)\n",
       "          )\n",
       "        )\n",
       "        (lang_inter): LxmertIntermediate(\n",
       "          (dense): Linear(in_features=128, out_features=512, bias=True)\n",
       "        )\n",
       "        (lang_output): LxmertOutput(\n",
       "          (dense): Linear(in_features=512, out_features=128, bias=True)\n",
       "          (LayerNorm): LayerNorm((128,), eps=1e-12, elementwise_affine=True)\n",
       "          (dropout): Dropout(p=0.1, inplace=False)\n",
       "        )\n",
       "        (visn_inter): LxmertIntermediate(\n",
       "          (dense): Linear(in_features=128, out_features=512, bias=True)\n",
       "        )\n",
       "        (visn_output): LxmertOutput(\n",
       "          (dense): Linear(in_features=512, out_features=128, bias=True)\n",
       "          (LayerNorm): LayerNorm((128,), eps=1e-12, elementwise_affine=True)\n",
       "          (dropout): Dropout(p=0.1, inplace=False)\n",
       "        )\n",
       "      )\n",
       "    )\n",
       "    (r_layers): ModuleList(\n",
       "      (0): LxmertLayer(\n",
       "        (attention): LxmertSelfAttentionLayer(\n",
       "          (self): LxmertAttention(\n",
       "            (query): Linear(in_features=128, out_features=128, bias=True)\n",
       "            (key): Linear(in_features=128, out_features=128, bias=True)\n",
       "            (value): Linear(in_features=128, out_features=128, bias=True)\n",
       "            (dropout): Dropout(p=0.1, inplace=False)\n",
       "          )\n",
       "          (output): LxmertAttentionOutput(\n",
       "            (dense): Linear(in_features=128, out_features=128, bias=True)\n",
       "            (LayerNorm): LayerNorm((128,), eps=1e-12, elementwise_affine=True)\n",
       "            (dropout): Dropout(p=0.1, inplace=False)\n",
       "          )\n",
       "        )\n",
       "        (intermediate): LxmertIntermediate(\n",
       "          (dense): Linear(in_features=128, out_features=512, bias=True)\n",
       "        )\n",
       "        (output): LxmertOutput(\n",
       "          (dense): Linear(in_features=512, out_features=128, bias=True)\n",
       "          (LayerNorm): LayerNorm((128,), eps=1e-12, elementwise_affine=True)\n",
       "          (dropout): Dropout(p=0.1, inplace=False)\n",
       "        )\n",
       "      )\n",
       "      (1): LxmertLayer(\n",
       "        (attention): LxmertSelfAttentionLayer(\n",
       "          (self): LxmertAttention(\n",
       "            (query): Linear(in_features=128, out_features=128, bias=True)\n",
       "            (key): Linear(in_features=128, out_features=128, bias=True)\n",
       "            (value): Linear(in_features=128, out_features=128, bias=True)\n",
       "            (dropout): Dropout(p=0.1, inplace=False)\n",
       "          )\n",
       "          (output): LxmertAttentionOutput(\n",
       "            (dense): Linear(in_features=128, out_features=128, bias=True)\n",
       "            (LayerNorm): LayerNorm((128,), eps=1e-12, elementwise_affine=True)\n",
       "            (dropout): Dropout(p=0.1, inplace=False)\n",
       "          )\n",
       "        )\n",
       "        (intermediate): LxmertIntermediate(\n",
       "          (dense): Linear(in_features=128, out_features=512, bias=True)\n",
       "        )\n",
       "        (output): LxmertOutput(\n",
       "          (dense): Linear(in_features=512, out_features=128, bias=True)\n",
       "          (LayerNorm): LayerNorm((128,), eps=1e-12, elementwise_affine=True)\n",
       "          (dropout): Dropout(p=0.1, inplace=False)\n",
       "        )\n",
       "      )\n",
       "    )\n",
       "  )\n",
       "  (pooler): LxmertPooler(\n",
       "    (multi_pooler): Sequential(\n",
       "      (0): Linear(in_features=256, out_features=256, bias=True)\n",
       "      (1): Tanh()\n",
       "      (2): Linear(in_features=256, out_features=8057, bias=True)\n",
       "    )\n",
       "    (ce_pooler): Sequential(\n",
       "      (0): Linear(in_features=256, out_features=256, bias=True)\n",
       "      (1): Tanh()\n",
       "      (2): Linear(in_features=256, out_features=2, bias=True)\n",
       "    )\n",
       "  )\n",
       ")"
      ]
     },
     "execution_count": 16,
     "metadata": {},
     "output_type": "execute_result"
    }
   ],
   "source": [
    "# model.to(training_args.device)\n",
    "model.cpu()\n",
    "model.eval()"
   ]
  },
  {
   "cell_type": "code",
   "execution_count": 17,
   "metadata": {},
   "outputs": [],
   "source": [
    "data_loader = DataLoader(\n",
    "    test_dataset,\n",
    "    sampler=SequentialSampler(test_dataset),\n",
    "#     batch_size=training_args.eval_batch_size,\n",
    "    batch_size=1,\n",
    "    collate_fn=data_collator,\n",
    "    pin_memory=True,\n",
    "    )"
   ]
  },
  {
   "cell_type": "markdown",
   "metadata": {},
   "source": [
    "## Attention View"
   ]
  },
  {
   "cell_type": "markdown",
   "metadata": {},
   "source": [
    "### reshaping function"
   ]
  },
  {
   "cell_type": "code",
   "execution_count": 18,
   "metadata": {},
   "outputs": [],
   "source": [
    "def reshape(x,attn_type):\n",
    "    if attn_type == 'txt->txt':\n",
    "        output = [attn[:,:,:len(lang_tokens),:len(lang_tokens)] for attn in x]\n",
    "    elif attn_type == 'kg->kg':\n",
    "        output = [attn[:,:,:len(kg_tokens),:len(kg_tokens)] for attn in x]\n",
    "    elif attn_type == 'txt->kg':\n",
    "        output = [attn[:,:,:len(lang_tokens),:len(kg_tokens)] for attn in x]\n",
    "    elif attn_type == 'kg->txt':\n",
    "        output = [attn[:,:,:len(kg_tokens),:len(lang_tokens)] for attn in x]\n",
    "    else:\n",
    "        raise ValueError('Invalid attention type')\n",
    "    return output"
   ]
  },
  {
   "cell_type": "markdown",
   "metadata": {},
   "source": [
    "### load visualization tool"
   ]
  },
  {
   "cell_type": "code",
   "execution_count": 130,
   "metadata": {},
   "outputs": [],
   "source": [
    "from attentionviz import head_view"
   ]
  },
  {
   "cell_type": "code",
   "execution_count": 131,
   "metadata": {},
   "outputs": [
    {
     "data": {
      "application/javascript": [
       "require.config({\n",
       "  paths: {\n",
       "      d3: '//cdnjs.cloudflare.com/ajax/libs/d3/3.4.8/d3.min',\n",
       "      jquery: '//ajax.googleapis.com/ajax/libs/jquery/2.0.0/jquery.min',\n",
       "  }\n",
       "});\n"
      ],
      "text/plain": [
       "<IPython.core.display.Javascript object>"
      ]
     },
     "metadata": {},
     "output_type": "display_data"
    }
   ],
   "source": [
    "%%javascript\n",
    "require.config({\n",
    "  paths: {\n",
    "      d3: '//cdnjs.cloudflare.com/ajax/libs/d3/3.4.8/d3.min',\n",
    "      jquery: '//ajax.googleapis.com/ajax/libs/jquery/2.0.0/jquery.min',\n",
    "  }\n",
    "});"
   ]
  },
  {
   "cell_type": "markdown",
   "metadata": {},
   "source": [
    "### load label dictionary in KG"
   ]
  },
  {
   "cell_type": "code",
   "execution_count": 132,
   "metadata": {},
   "outputs": [],
   "source": [
    "node2id = torch.load(os.path.join(os.path.dirname(data_args.test_data_file), 'unified_node'))\n",
    "id2node = {v:k.split('^^')[0] for k,v in node2id.items()}"
   ]
  },
  {
   "cell_type": "markdown",
   "metadata": {},
   "source": [
    "### get attention score from sample"
   ]
  },
  {
   "cell_type": "code",
   "execution_count": 161,
   "metadata": {
    "scrolled": false
   },
   "outputs": [
    {
     "name": "stdout",
     "output_type": "stream",
     "text": [
      "==== Text ====\n",
      "Token seq : ['[CLS]', 'primary', 'hyper', '##kal', '##emia', 'hyper', '##tro', '##phic', 'ob', '##st', '##ru', '##ctive', 'card', '##iom', '##yo', '##pathy', 'at', '##rial', 'flutter', '/', 'at', '##rial', 'fi', '##bri', '##llation', '[SEP]', 'def', '##ib', '##rill', '##ation', '[SEP]']\n",
      "\n",
      "Full sentence : [CLS] primary hyperkalemia hypertrophic obstructive cardiomyopathy atrial flutter / atrial fibrillation [SEP] defibrillation [SEP]\n",
      "\n",
      "\n",
      "==== KG ====\n",
      "Token seq : ['CLS', 'hadm', 'diagnoses', 'diagnoses', 'diagnoses', 'diagnoses', 'diagnoses', 'diagnoses', 'diagnoses', 'diagnoses', 'diagnoses', 'procedures', 'diagnoses', 'procedures', 'diagnoses', 'procedures', 'procedures', 'diagnoses', 'diagnoses', 'procedures', 'diagnoses', 'diagnoses', 'procedures', 'procedures', 'diagnoses_icd9_code', 'diagnoses_icd9_code', 'diagnoses_icd9_code', 'diagnoses_icd9_code', 'diagnoses_icd9_code', 'diagnoses_icd9_code', 'diagnoses_icd9_code', 'diagnoses_icd9_code', 'diagnoses_icd9_code', 'procedures_icd9_code', 'diagnoses_icd9_code', 'procedures_icd9_code', 'diagnoses_icd9_code', 'procedures_icd9_code', 'procedures_icd9_code', 'diagnoses_icd9_code', 'diagnoses_icd9_code', 'procedures_icd9_code', 'diagnoses_icd9_code', 'diagnoses_icd9_code', 'procedures_icd9_code', 'procedures_icd9_code', '\"cardiac arrest\"', '\"atrial fibrillation\"', '\"acidosis\"', '\"leukocytosis, unspecified\"', '\"anxiety state, unspecified\"', '\"abnormal coagulation profile\"', '\"atrial flutter\"', '\"chronic obstructive asthma, unspecified\"', '\"hypoxemia\"', '\"arterial catheterization\"', '\"obesity, unspecified\"', '\"cardiopulmonary resuscitation, not otherwise specified\"', '\"acute kidney failure, unspecified\"', '\"insertion of endotracheal tube\"', '\"venous catheterization, not elsewhere classified\"', '\"hyperpotassemia\"', '\"unspecified pleural effusion\"', '\"insertion of intercostal catheter for drainage\"', '\"acute on chronic diastolic heart failure\"', '\"paroxysmal ventricular tachycardia\"', '\"other electric countershock of heart\"', '\"continuous invasive mechanical ventilation for less than 96 consecutive hours\"']\n",
      "\n",
      "['language_output', 'kg_output', 'pooled_output', 'language_attentions', 'kg_attentions', 'cross_encoder_attentions']\n",
      "torch.Size([1, 4, 31, 68])\n",
      "torch.Size([1, 4, 68, 31])\n",
      "2\n",
      "2\n",
      "4\n",
      "4\n"
     ]
    }
   ],
   "source": [
    "import matplotlib.pyplot as plt\n",
    "\n",
    "SAMPLE_IDX = 56\n",
    "\n",
    "for idx, data in enumerate(data_loader):\n",
    "    if idx==SAMPLE_IDX:\n",
    "        input_data = data\n",
    "        break\n",
    "        \n",
    "print('==== Text ====')\n",
    "temp = input_data['lang_input_ids'].cpu().squeeze()\n",
    "lang_tokens = tokenizer.convert_ids_to_tokens(temp[:temp.nonzero().shape[0]].tolist())\n",
    "print('Token seq : {}\\n'.format(lang_tokens))\n",
    "print('Full sentence : {}\\n\\n'.format(tokenizer.convert_tokens_to_string(\n",
    "    tokenizer.convert_ids_to_tokens(temp[:temp.nonzero().shape[0]].tolist()))))\n",
    "\n",
    "print('==== KG ====')\n",
    "temp = input_data['kg_input_ids'].cpu().squeeze()\n",
    "kg_tokens = list(map(lambda x: id2node[x],temp[:temp.nonzero().shape[0]].tolist()))\n",
    "print('Token seq : {}\\n'.format(kg_tokens))\n",
    "\n",
    "sample = {'kg':kg_tokens,\n",
    "          'txt':lang_tokens\n",
    "         }\n",
    "\n",
    "\n",
    "with torch.no_grad():\n",
    "    output_data = model(**input_data, output_attentions=True, return_dict=True)\n",
    "    attention_score = {'txt->txt':reshape(output_data['language_attentions'],'txt->txt'), \n",
    "                       'kg->kg':reshape(output_data['kg_attentions'],'kg->kg'),\n",
    "                       'txt->kg':reshape(output_data['cross_encoder_attentions']['txt->kg'],'txt->kg'),\n",
    "                       'kg->txt':reshape(output_data['cross_encoder_attentions']['kg->txt'],'kg->txt'),}\n",
    "    print(list(output_data.keys()))\n",
    "    print(attention_score['txt->kg'][0].shape)\n",
    "    print(attention_score['kg->txt'][0].shape)\n",
    "    print(len(attention_score['txt->txt']))\n",
    "    print(len(attention_score['kg->kg']))\n",
    "    print(len(attention_score['kg->txt']))\n",
    "    print(len(attention_score['txt->kg']))\n",
    "    head_view(attention_score, sample)"
   ]
  },
  {
   "cell_type": "code",
   "execution_count": null,
   "metadata": {},
   "outputs": [],
   "source": [
    "# SAMPLE_IDX = 56\n",
    "# sample2 = sample.copy()\n",
    "# sample2['kg'] = sample['kg'][:7]+['...']+sample['kg'][46:]\n",
    "# sample2['txt'] = sample['txt'].copy()\n",
    "\n",
    "# attention_score2 = attention_score.copy()\n",
    "# for l_idx in range(len(attention_score2['txt->kg'])):\n",
    "#     attention_score2['txt->kg'][l_idx] = torch.cat([attention_score['txt->kg'][l_idx][:, :, :, :7],\n",
    "#                                                     attention_score['txt->kg'][l_idx][:, :, :, 1:46].mean(axis=-1).unsqueeze(-1),\n",
    "#                                                     attention_score['txt->kg'][l_idx][:, :, :, 46:]], axis=-1)\n",
    "# for k in ['kg->txt', 'kg->kg', 'txt->txt']:\n",
    "#     attention_score2[k] = attention_score2['txt->kg'].copy()\n",
    "\n",
    "# head_view(attention_score2, sample2)"
   ]
  },
  {
   "cell_type": "markdown",
   "metadata": {},
   "source": [
    "### Supp 1. Visualize attention score in matrix form"
   ]
  },
  {
   "cell_type": "code",
   "execution_count": 223,
   "metadata": {},
   "outputs": [
    {
     "name": "stdout",
     "output_type": "stream",
     "text": [
      "==== Text ====\n",
      "Token seq : ['[CLS]', '-', 'cong', '##est', '##ive', 'heart', 'failure', ',', 'acute', 'on', 'chronic', '-', 'acute', 'kidney', 'injury', '-', 'hyper', '##kal', '##emia', '-', 'hiv', '-', 'hepatitis', 'c', '[SEP]', 'none', '[SEP]']\n",
      "\n",
      "Full sentence : [CLS] - congestive heart failure , acute on chronic - acute kidney injury - hyperkalemia - hiv - hepatitis c [SEP] none [SEP]\n",
      "\n",
      "\n",
      "==== KG ====\n",
      "Token seq : ['CLS', 'hadm', 'diagnoses', 'procedures', 'diagnoses', 'diagnoses', 'diagnoses', 'diagnoses', 'diagnoses', 'diagnoses', 'diagnoses_icd9_code', 'procedures_icd9_code', 'diagnoses_icd9_code', 'diagnoses_icd9_code', 'diagnoses_icd9_code', 'diagnoses_icd9_code', 'diagnoses_icd9_code', 'diagnoses_icd9_code', '\"other primary cardiomyopathies\"', '\"central venous catheter placement with guidance\"', '\"acute kidney failure, unspecified\"', '\"hyperpotassemia\"', '\"asymptomatic human immunodeficiency virus [hiv] infection status\"', '\"acute on chronic systolic heart failure\"', '\"hepatitis, unspecified\"', '\"congestive heart failure, unspecified\"']\n",
      "\n"
     ]
    }
   ],
   "source": [
    "import matplotlib.pyplot as plt\n",
    "\n",
    "SAMPLE_IDX = 200\n",
    "\n",
    "for idx, data in enumerate(data_loader):\n",
    "    if idx==SAMPLE_IDX:\n",
    "        input_data = data\n",
    "        break\n",
    "        \n",
    "print('==== Text ====')\n",
    "temp = input_data['lang_input_ids'].cpu().squeeze()\n",
    "lang_tokens = tokenizer.convert_ids_to_tokens(temp[:temp.nonzero().shape[0]].tolist())\n",
    "print('Token seq : {}\\n'.format(lang_tokens))\n",
    "print('Full sentence : {}\\n\\n'.format(tokenizer.convert_tokens_to_string(\n",
    "    tokenizer.convert_ids_to_tokens(temp[:temp.nonzero().shape[0]].tolist()))))\n",
    "\n",
    "print('==== KG ====')\n",
    "temp = input_data['kg_input_ids'].cpu().squeeze()\n",
    "kg_tokens = list(map(lambda x: id2node[x],temp[:temp.nonzero().shape[0]].tolist()))\n",
    "print('Token seq : {}\\n'.format(kg_tokens))\n",
    "\n",
    "output_data = model(**input_data, output_attentions=True, return_dict=True)"
   ]
  },
  {
   "cell_type": "code",
   "execution_count": 196,
   "metadata": {},
   "outputs": [
    {
     "data": {
      "text/plain": [
       "torch.Size([1, 4, 240, 512])"
      ]
     },
     "execution_count": 196,
     "metadata": {},
     "output_type": "execute_result"
    }
   ],
   "source": [
    "output_data['cross_encoder_attentions']['kg->txt'][0].shape"
   ]
  },
  {
   "cell_type": "code",
   "execution_count": 197,
   "metadata": {},
   "outputs": [
    {
     "data": {
      "text/plain": [
       "(27, 26)"
      ]
     },
     "execution_count": 197,
     "metadata": {},
     "output_type": "execute_result"
    }
   ],
   "source": [
    "len(lang_tokens), len(kg_tokens)"
   ]
  },
  {
   "cell_type": "code",
   "execution_count": 203,
   "metadata": {},
   "outputs": [
    {
     "data": {
      "text/plain": [
       "Text(0.5, 0.98, 'Cross Modal Attention Vis')"
      ]
     },
     "execution_count": 203,
     "metadata": {},
     "output_type": "execute_result"
    },
    {
     "data": {
      "text/plain": [
       "<Figure size 432x288 with 0 Axes>"
      ]
     },
     "metadata": {},
     "output_type": "display_data"
    }
   ],
   "source": [
    "plt.suptitle('Cross Modal Attention Vis', fontsize=40)"
   ]
  },
  {
   "cell_type": "code",
   "execution_count": 205,
   "metadata": {},
   "outputs": [
    {
     "name": "stderr",
     "output_type": "stream",
     "text": [
      "/home/ssbae/anaconda3/envs/kgtext/lib/python3.7/site-packages/ipykernel_launcher.py:12: UserWarning: FixedFormatter should only be used together with FixedLocator\n",
      "  if sys.path[0] == '':\n",
      "/home/ssbae/anaconda3/envs/kgtext/lib/python3.7/site-packages/ipykernel_launcher.py:13: UserWarning: FixedFormatter should only be used together with FixedLocator\n",
      "  del sys.path[0]\n"
     ]
    },
    {
     "data": {
      "text/plain": [
       "Text(0.5, 0.98, 'Cross Modal Attention Vis')"
      ]
     },
     "execution_count": 205,
     "metadata": {},
     "output_type": "execute_result"
    },
    {
     "data": {
      "image/png": "[encoded data removed]",
      "text/plain": [
       "<Figure size 2880x2880 with 16 Axes>"
      ]
     },
     "metadata": {
      "needs_background": "light"
     },
     "output_type": "display_data"
    }
   ],
   "source": [
    "import matplotlib.pyplot as plt\n",
    "fig, axs = plt.subplots(model.config.x_layers, model.config.num_attention_heads, figsize=(40,40))\n",
    "for layer_idx in range(model.config.x_layers):\n",
    "    for head_idx in range(model.config.num_attention_heads):\n",
    "        axs[model.config.l_layers-1-layer_idx, head_idx].matshow(\n",
    "            output_data['cross_encoder_attentions']['txt->kg'][layer_idx][0, head_idx,\n",
    "                                                               :len(lang_tokens),:len(kg_tokens)].cpu().detach().numpy(),\n",
    "#             cmap='gray',\n",
    "        aspect='auto')\n",
    "        #if (layer_idx == config.x_layers-1) and (head_idx==):\n",
    "        if (layer_idx == 0) and (head_idx==0):\n",
    "            axs[layer_idx, head_idx].set_xticklabels(kg_tokens, rotation='45',horizontalalignment='left', fontsize=8)\n",
    "            axs[layer_idx, head_idx].set_yticklabels(lang_tokens, rotation='45',horizontalalignment='right', fontsize=8)\n",
    "            axs[layer_idx, head_idx].set_xticks(range(len(kg_tokens)))\n",
    "            axs[layer_idx, head_idx].set_yticks([range(len(lang_tokens))])\n",
    "        axs[0, head_idx].set_title(\"Head_{}\\n\".format(head_idx+1))\n",
    "    axs[layer_idx, 0].set_ylabel('Layer_{}\\n'.format(model.config.l_layers-layer_idx))\n",
    "plt.suptitle('Cross Modal Attention Vis', fontsize=40)"
   ]
  },
  {
   "cell_type": "code",
   "execution_count": null,
   "metadata": {},
   "outputs": [],
   "source": []
  },
  {
   "cell_type": "code",
   "execution_count": null,
   "metadata": {},
   "outputs": [],
   "source": []
  },
  {
   "cell_type": "code",
   "execution_count": null,
   "metadata": {},
   "outputs": [],
   "source": []
  },
  {
   "cell_type": "code",
   "execution_count": null,
   "metadata": {},
   "outputs": [],
   "source": []
  },
  {
   "cell_type": "code",
   "execution_count": null,
   "metadata": {},
   "outputs": [],
   "source": []
  },
  {
   "cell_type": "code",
   "execution_count": null,
   "metadata": {},
   "outputs": [],
   "source": []
  },
  {
   "cell_type": "code",
   "execution_count": null,
   "metadata": {},
   "outputs": [],
   "source": []
  },
  {
   "cell_type": "markdown",
   "metadata": {},
   "source": [
    "# Results 2: pick Retrieval sample"
   ]
  },
  {
   "cell_type": "markdown",
   "metadata": {},
   "source": [
    "## base setting"
   ]
  },
  {
   "cell_type": "code",
   "execution_count": 5,
   "metadata": {},
   "outputs": [],
   "source": [
    "EXP_PATH = '/home/ssbae/bae/kg_txt_multimodal/lxmert'\n",
    "sys.path.append(EXP_PATH + '/src')"
   ]
  },
  {
   "cell_type": "code",
   "execution_count": 6,
   "metadata": {},
   "outputs": [],
   "source": [
    "MODEL_PATH = 'KGenc_LMinit_H128_L2,2,4_Align_RC_Unified2000_RNG1234'"
   ]
  },
  {
   "cell_type": "code",
   "execution_count": 7,
   "metadata": {},
   "outputs": [],
   "source": [
    "model_args = easydict.EasyDict({\n",
    "    \"model_name_or_path\": os.path.join(EXP_PATH, f'pretrained_models/pretrained/binary_retrieval/dx,prx/{MODEL_PATH}'),\n",
    "    \"tokenizer_name\": 'bert-base-uncased',\n",
    "    \"cache_dir\": None,\n",
    "})\n",
    "\n",
    "data_args = easydict.EasyDict({\n",
    "    \"eval_data_file\": os.path.join(EXP_PATH, \"data/dx,prx_2000/dx,prx_UnifiedUniKGenc/valid\"),\n",
    "    \"test_data_file\": os.path.join(EXP_PATH, \"data/dx,prx_2000/dx,prx_UnifiedUniKGenc/test\"),\n",
    "    \"block_size\": 512,\n",
    "})\n",
    "\n",
    "training_args = easydict.EasyDict({\n",
    "    \"per_device_eval_batch_size\": 1,\n",
    "    \"task\": \"pretrain\",\n",
    "    \"device\": torch.device(\"cuda:0\" if torch.cuda.is_available() else \"cpu\"),\n",
    "    \"do_eval\": True,\n",
    "})"
   ]
  },
  {
   "cell_type": "markdown",
   "metadata": {},
   "source": [
    "### load config, tokenizer, and model"
   ]
  },
  {
   "cell_type": "code",
   "execution_count": 8,
   "metadata": {},
   "outputs": [],
   "source": [
    "config = LxmertConfig.from_pretrained(model_args.model_name_or_path, cache_dir=model_args.cache_dir)\n",
    "config.use_ce_pooler = True\n",
    "config.cross_att_type = 'cross'"
   ]
  },
  {
   "cell_type": "code",
   "execution_count": 9,
   "metadata": {},
   "outputs": [],
   "source": [
    "tokenizer = LxmertTokenizer.from_pretrained(model_args.tokenizer_name, cache_dir=model_args.cache_dir)"
   ]
  },
  {
   "cell_type": "code",
   "execution_count": 10,
   "metadata": {},
   "outputs": [],
   "source": [
    "# model = LxmertForKGTokPredAndMaskedLM.from_pretrained(model_args.model_name_or_path,\n",
    "#                                                       config=config)\n",
    "\n",
    "model = LxmertForRanking.from_pretrained(pretrained_model_name_or_path=model_args.model_name_or_path,\n",
    "                                         config=config)"
   ]
  },
  {
   "cell_type": "markdown",
   "metadata": {},
   "source": [
    "### load dataset, data_collator (test)"
   ]
  },
  {
   "cell_type": "code",
   "execution_count": 11,
   "metadata": {
    "scrolled": true
   },
   "outputs": [
    {
     "name": "stderr",
     "output_type": "stream",
     "text": [
      "100%|██████████| 2000/2000 [00:03<00:00, 632.42it/s]\n",
      "100%|██████████| 2000/2000 [00:00<00:00, 154668.63it/s]\n"
     ]
    }
   ],
   "source": [
    "test_dataset = get_dataset(data_args, \n",
    "                           tokenizer=tokenizer, \n",
    "                           token_type_vocab=config.token_type_vocab,\n",
    "                           test=True) if training_args.do_eval else None"
   ]
  },
  {
   "cell_type": "code",
   "execution_count": 12,
   "metadata": {},
   "outputs": [],
   "source": [
    "data_collator = Evaluation_DataCollator(tokenizer=tokenizer,\n",
    "                                        kg_special_token_ids=config.kg_special_token_ids,\n",
    "                                        task=training_args.task)"
   ]
  },
  {
   "cell_type": "code",
   "execution_count": 13,
   "metadata": {},
   "outputs": [],
   "source": [
    "data_loader = DataLoader(\n",
    "    test_dataset,\n",
    "    sampler=SequentialSampler(test_dataset),\n",
    "#     batch_size=training_args.eval_batch_size,\n",
    "    batch_size=1,\n",
    "    collate_fn=data_collator,\n",
    "    pin_memory=True,\n",
    "    )"
   ]
  },
  {
   "cell_type": "markdown",
   "metadata": {},
   "source": [
    "### text retrieval"
   ]
  },
  {
   "cell_type": "code",
   "execution_count": 14,
   "metadata": {},
   "outputs": [],
   "source": [
    "training_args.task = 'text_retrieval'"
   ]
  },
  {
   "cell_type": "code",
   "execution_count": 189,
   "metadata": {},
   "outputs": [
    {
     "data": {
      "text/plain": [
       "LxmertForRanking(\n",
       "  (lxmert): LxmertModel(\n",
       "    (lang_embeddings): LxmertEmbeddings(\n",
       "      (word_embeddings): Embedding(30522, 128)\n",
       "      (position_embeddings): Embedding(512, 128)\n",
       "      (token_type_embeddings): Embedding(2, 128)\n",
       "      (LayerNorm): LayerNorm((128,), eps=1e-12, elementwise_affine=True)\n",
       "      (dropout): Dropout(p=0.1, inplace=False)\n",
       "    )\n",
       "    (kg_embeddings): LxmertEmbeddings(\n",
       "      (word_embeddings): Embedding(8057, 128)\n",
       "      (position_embeddings): Embedding(1024, 128)\n",
       "      (LayerNorm): LayerNorm((128,), eps=1e-12, elementwise_affine=True)\n",
       "      (dropout): Dropout(p=0.1, inplace=False)\n",
       "    )\n",
       "    (encoder): LxmertEncoder(\n",
       "      (layer): ModuleList(\n",
       "        (0): BertLayer(\n",
       "          (attention): BertAttention(\n",
       "            (self): BertSelfAttention(\n",
       "              (query): Linear(in_features=128, out_features=128, bias=True)\n",
       "              (key): Linear(in_features=128, out_features=128, bias=True)\n",
       "              (value): Linear(in_features=128, out_features=128, bias=True)\n",
       "              (dropout): Dropout(p=0.1, inplace=False)\n",
       "            )\n",
       "            (output): BertSelfOutput(\n",
       "              (dense): Linear(in_features=128, out_features=128, bias=True)\n",
       "              (LayerNorm): LayerNorm((128,), eps=1e-12, elementwise_affine=True)\n",
       "              (dropout): Dropout(p=0.1, inplace=False)\n",
       "            )\n",
       "          )\n",
       "          (intermediate): BertIntermediate(\n",
       "            (dense): Linear(in_features=128, out_features=512, bias=True)\n",
       "          )\n",
       "          (output): BertOutput(\n",
       "            (dense): Linear(in_features=512, out_features=128, bias=True)\n",
       "            (LayerNorm): LayerNorm((128,), eps=1e-12, elementwise_affine=True)\n",
       "            (dropout): Dropout(p=0.1, inplace=False)\n",
       "          )\n",
       "        )\n",
       "        (1): BertLayer(\n",
       "          (attention): BertAttention(\n",
       "            (self): BertSelfAttention(\n",
       "              (query): Linear(in_features=128, out_features=128, bias=True)\n",
       "              (key): Linear(in_features=128, out_features=128, bias=True)\n",
       "              (value): Linear(in_features=128, out_features=128, bias=True)\n",
       "              (dropout): Dropout(p=0.1, inplace=False)\n",
       "            )\n",
       "            (output): BertSelfOutput(\n",
       "              (dense): Linear(in_features=128, out_features=128, bias=True)\n",
       "              (LayerNorm): LayerNorm((128,), eps=1e-12, elementwise_affine=True)\n",
       "              (dropout): Dropout(p=0.1, inplace=False)\n",
       "            )\n",
       "          )\n",
       "          (intermediate): BertIntermediate(\n",
       "            (dense): Linear(in_features=128, out_features=512, bias=True)\n",
       "          )\n",
       "          (output): BertOutput(\n",
       "            (dense): Linear(in_features=512, out_features=128, bias=True)\n",
       "            (LayerNorm): LayerNorm((128,), eps=1e-12, elementwise_affine=True)\n",
       "            (dropout): Dropout(p=0.1, inplace=False)\n",
       "          )\n",
       "        )\n",
       "      )\n",
       "      (x_layers): ModuleList(\n",
       "        (0): LxmertXLayer(\n",
       "          (cross_attention): LxmertCrossAttentionLayer(\n",
       "            (att): LxmertAttention(\n",
       "              (query): Linear(in_features=128, out_features=128, bias=True)\n",
       "              (key): Linear(in_features=128, out_features=128, bias=True)\n",
       "              (value): Linear(in_features=128, out_features=128, bias=True)\n",
       "              (dropout): Dropout(p=0.1, inplace=False)\n",
       "            )\n",
       "            (output): LxmertAttentionOutput(\n",
       "              (dense): Linear(in_features=128, out_features=128, bias=True)\n",
       "              (LayerNorm): LayerNorm((128,), eps=1e-12, elementwise_affine=True)\n",
       "              (dropout): Dropout(p=0.1, inplace=False)\n",
       "            )\n",
       "          )\n",
       "          (lang_self_att): LxmertSelfAttentionLayer(\n",
       "            (self): LxmertAttention(\n",
       "              (query): Linear(in_features=128, out_features=128, bias=True)\n",
       "              (key): Linear(in_features=128, out_features=128, bias=True)\n",
       "              (value): Linear(in_features=128, out_features=128, bias=True)\n",
       "              (dropout): Dropout(p=0.1, inplace=False)\n",
       "            )\n",
       "            (output): LxmertAttentionOutput(\n",
       "              (dense): Linear(in_features=128, out_features=128, bias=True)\n",
       "              (LayerNorm): LayerNorm((128,), eps=1e-12, elementwise_affine=True)\n",
       "              (dropout): Dropout(p=0.1, inplace=False)\n",
       "            )\n",
       "          )\n",
       "          (visn_self_att): LxmertSelfAttentionLayer(\n",
       "            (self): LxmertAttention(\n",
       "              (query): Linear(in_features=128, out_features=128, bias=True)\n",
       "              (key): Linear(in_features=128, out_features=128, bias=True)\n",
       "              (value): Linear(in_features=128, out_features=128, bias=True)\n",
       "              (dropout): Dropout(p=0.1, inplace=False)\n",
       "            )\n",
       "            (output): LxmertAttentionOutput(\n",
       "              (dense): Linear(in_features=128, out_features=128, bias=True)\n",
       "              (LayerNorm): LayerNorm((128,), eps=1e-12, elementwise_affine=True)\n",
       "              (dropout): Dropout(p=0.1, inplace=False)\n",
       "            )\n",
       "          )\n",
       "          (lang_inter): LxmertIntermediate(\n",
       "            (dense): Linear(in_features=128, out_features=512, bias=True)\n",
       "          )\n",
       "          (lang_output): LxmertOutput(\n",
       "            (dense): Linear(in_features=512, out_features=128, bias=True)\n",
       "            (LayerNorm): LayerNorm((128,), eps=1e-12, elementwise_affine=True)\n",
       "            (dropout): Dropout(p=0.1, inplace=False)\n",
       "          )\n",
       "          (visn_inter): LxmertIntermediate(\n",
       "            (dense): Linear(in_features=128, out_features=512, bias=True)\n",
       "          )\n",
       "          (visn_output): LxmertOutput(\n",
       "            (dense): Linear(in_features=512, out_features=128, bias=True)\n",
       "            (LayerNorm): LayerNorm((128,), eps=1e-12, elementwise_affine=True)\n",
       "            (dropout): Dropout(p=0.1, inplace=False)\n",
       "          )\n",
       "        )\n",
       "        (1): LxmertXLayer(\n",
       "          (cross_attention): LxmertCrossAttentionLayer(\n",
       "            (att): LxmertAttention(\n",
       "              (query): Linear(in_features=128, out_features=128, bias=True)\n",
       "              (key): Linear(in_features=128, out_features=128, bias=True)\n",
       "              (value): Linear(in_features=128, out_features=128, bias=True)\n",
       "              (dropout): Dropout(p=0.1, inplace=False)\n",
       "            )\n",
       "            (output): LxmertAttentionOutput(\n",
       "              (dense): Linear(in_features=128, out_features=128, bias=True)\n",
       "              (LayerNorm): LayerNorm((128,), eps=1e-12, elementwise_affine=True)\n",
       "              (dropout): Dropout(p=0.1, inplace=False)\n",
       "            )\n",
       "          )\n",
       "          (lang_self_att): LxmertSelfAttentionLayer(\n",
       "            (self): LxmertAttention(\n",
       "              (query): Linear(in_features=128, out_features=128, bias=True)\n",
       "              (key): Linear(in_features=128, out_features=128, bias=True)\n",
       "              (value): Linear(in_features=128, out_features=128, bias=True)\n",
       "              (dropout): Dropout(p=0.1, inplace=False)\n",
       "            )\n",
       "            (output): LxmertAttentionOutput(\n",
       "              (dense): Linear(in_features=128, out_features=128, bias=True)\n",
       "              (LayerNorm): LayerNorm((128,), eps=1e-12, elementwise_affine=True)\n",
       "              (dropout): Dropout(p=0.1, inplace=False)\n",
       "            )\n",
       "          )\n",
       "          (visn_self_att): LxmertSelfAttentionLayer(\n",
       "            (self): LxmertAttention(\n",
       "              (query): Linear(in_features=128, out_features=128, bias=True)\n",
       "              (key): Linear(in_features=128, out_features=128, bias=True)\n",
       "              (value): Linear(in_features=128, out_features=128, bias=True)\n",
       "              (dropout): Dropout(p=0.1, inplace=False)\n",
       "            )\n",
       "            (output): LxmertAttentionOutput(\n",
       "              (dense): Linear(in_features=128, out_features=128, bias=True)\n",
       "              (LayerNorm): LayerNorm((128,), eps=1e-12, elementwise_affine=True)\n",
       "              (dropout): Dropout(p=0.1, inplace=False)\n",
       "            )\n",
       "          )\n",
       "          (lang_inter): LxmertIntermediate(\n",
       "            (dense): Linear(in_features=128, out_features=512, bias=True)\n",
       "          )\n",
       "          (lang_output): LxmertOutput(\n",
       "            (dense): Linear(in_features=512, out_features=128, bias=True)\n",
       "            (LayerNorm): LayerNorm((128,), eps=1e-12, elementwise_affine=True)\n",
       "            (dropout): Dropout(p=0.1, inplace=False)\n",
       "          )\n",
       "          (visn_inter): LxmertIntermediate(\n",
       "            (dense): Linear(in_features=128, out_features=512, bias=True)\n",
       "          )\n",
       "          (visn_output): LxmertOutput(\n",
       "            (dense): Linear(in_features=512, out_features=128, bias=True)\n",
       "            (LayerNorm): LayerNorm((128,), eps=1e-12, elementwise_affine=True)\n",
       "            (dropout): Dropout(p=0.1, inplace=False)\n",
       "          )\n",
       "        )\n",
       "        (2): LxmertXLayer(\n",
       "          (cross_attention): LxmertCrossAttentionLayer(\n",
       "            (att): LxmertAttention(\n",
       "              (query): Linear(in_features=128, out_features=128, bias=True)\n",
       "              (key): Linear(in_features=128, out_features=128, bias=True)\n",
       "              (value): Linear(in_features=128, out_features=128, bias=True)\n",
       "              (dropout): Dropout(p=0.1, inplace=False)\n",
       "            )\n",
       "            (output): LxmertAttentionOutput(\n",
       "              (dense): Linear(in_features=128, out_features=128, bias=True)\n",
       "              (LayerNorm): LayerNorm((128,), eps=1e-12, elementwise_affine=True)\n",
       "              (dropout): Dropout(p=0.1, inplace=False)\n",
       "            )\n",
       "          )\n",
       "          (lang_self_att): LxmertSelfAttentionLayer(\n",
       "            (self): LxmertAttention(\n",
       "              (query): Linear(in_features=128, out_features=128, bias=True)\n",
       "              (key): Linear(in_features=128, out_features=128, bias=True)\n",
       "              (value): Linear(in_features=128, out_features=128, bias=True)\n",
       "              (dropout): Dropout(p=0.1, inplace=False)\n",
       "            )\n",
       "            (output): LxmertAttentionOutput(\n",
       "              (dense): Linear(in_features=128, out_features=128, bias=True)\n",
       "              (LayerNorm): LayerNorm((128,), eps=1e-12, elementwise_affine=True)\n",
       "              (dropout): Dropout(p=0.1, inplace=False)\n",
       "            )\n",
       "          )\n",
       "          (visn_self_att): LxmertSelfAttentionLayer(\n",
       "            (self): LxmertAttention(\n",
       "              (query): Linear(in_features=128, out_features=128, bias=True)\n",
       "              (key): Linear(in_features=128, out_features=128, bias=True)\n",
       "              (value): Linear(in_features=128, out_features=128, bias=True)\n",
       "              (dropout): Dropout(p=0.1, inplace=False)\n",
       "            )\n",
       "            (output): LxmertAttentionOutput(\n",
       "              (dense): Linear(in_features=128, out_features=128, bias=True)\n",
       "              (LayerNorm): LayerNorm((128,), eps=1e-12, elementwise_affine=True)\n",
       "              (dropout): Dropout(p=0.1, inplace=False)\n",
       "            )\n",
       "          )\n",
       "          (lang_inter): LxmertIntermediate(\n",
       "            (dense): Linear(in_features=128, out_features=512, bias=True)\n",
       "          )\n",
       "          (lang_output): LxmertOutput(\n",
       "            (dense): Linear(in_features=512, out_features=128, bias=True)\n",
       "            (LayerNorm): LayerNorm((128,), eps=1e-12, elementwise_affine=True)\n",
       "            (dropout): Dropout(p=0.1, inplace=False)\n",
       "          )\n",
       "          (visn_inter): LxmertIntermediate(\n",
       "            (dense): Linear(in_features=128, out_features=512, bias=True)\n",
       "          )\n",
       "          (visn_output): LxmertOutput(\n",
       "            (dense): Linear(in_features=512, out_features=128, bias=True)\n",
       "            (LayerNorm): LayerNorm((128,), eps=1e-12, elementwise_affine=True)\n",
       "            (dropout): Dropout(p=0.1, inplace=False)\n",
       "          )\n",
       "        )\n",
       "        (3): LxmertXLayer(\n",
       "          (cross_attention): LxmertCrossAttentionLayer(\n",
       "            (att): LxmertAttention(\n",
       "              (query): Linear(in_features=128, out_features=128, bias=True)\n",
       "              (key): Linear(in_features=128, out_features=128, bias=True)\n",
       "              (value): Linear(in_features=128, out_features=128, bias=True)\n",
       "              (dropout): Dropout(p=0.1, inplace=False)\n",
       "            )\n",
       "            (output): LxmertAttentionOutput(\n",
       "              (dense): Linear(in_features=128, out_features=128, bias=True)\n",
       "              (LayerNorm): LayerNorm((128,), eps=1e-12, elementwise_affine=True)\n",
       "              (dropout): Dropout(p=0.1, inplace=False)\n",
       "            )\n",
       "          )\n",
       "          (lang_self_att): LxmertSelfAttentionLayer(\n",
       "            (self): LxmertAttention(\n",
       "              (query): Linear(in_features=128, out_features=128, bias=True)\n",
       "              (key): Linear(in_features=128, out_features=128, bias=True)\n",
       "              (value): Linear(in_features=128, out_features=128, bias=True)\n",
       "              (dropout): Dropout(p=0.1, inplace=False)\n",
       "            )\n",
       "            (output): LxmertAttentionOutput(\n",
       "              (dense): Linear(in_features=128, out_features=128, bias=True)\n",
       "              (LayerNorm): LayerNorm((128,), eps=1e-12, elementwise_affine=True)\n",
       "              (dropout): Dropout(p=0.1, inplace=False)\n",
       "            )\n",
       "          )\n",
       "          (visn_self_att): LxmertSelfAttentionLayer(\n",
       "            (self): LxmertAttention(\n",
       "              (query): Linear(in_features=128, out_features=128, bias=True)\n",
       "              (key): Linear(in_features=128, out_features=128, bias=True)\n",
       "              (value): Linear(in_features=128, out_features=128, bias=True)\n",
       "              (dropout): Dropout(p=0.1, inplace=False)\n",
       "            )\n",
       "            (output): LxmertAttentionOutput(\n",
       "              (dense): Linear(in_features=128, out_features=128, bias=True)\n",
       "              (LayerNorm): LayerNorm((128,), eps=1e-12, elementwise_affine=True)\n",
       "              (dropout): Dropout(p=0.1, inplace=False)\n",
       "            )\n",
       "          )\n",
       "          (lang_inter): LxmertIntermediate(\n",
       "            (dense): Linear(in_features=128, out_features=512, bias=True)\n",
       "          )\n",
       "          (lang_output): LxmertOutput(\n",
       "            (dense): Linear(in_features=512, out_features=128, bias=True)\n",
       "            (LayerNorm): LayerNorm((128,), eps=1e-12, elementwise_affine=True)\n",
       "            (dropout): Dropout(p=0.1, inplace=False)\n",
       "          )\n",
       "          (visn_inter): LxmertIntermediate(\n",
       "            (dense): Linear(in_features=128, out_features=512, bias=True)\n",
       "          )\n",
       "          (visn_output): LxmertOutput(\n",
       "            (dense): Linear(in_features=512, out_features=128, bias=True)\n",
       "            (LayerNorm): LayerNorm((128,), eps=1e-12, elementwise_affine=True)\n",
       "            (dropout): Dropout(p=0.1, inplace=False)\n",
       "          )\n",
       "        )\n",
       "      )\n",
       "      (r_layers): ModuleList(\n",
       "        (0): LxmertLayer(\n",
       "          (attention): LxmertSelfAttentionLayer(\n",
       "            (self): LxmertAttention(\n",
       "              (query): Linear(in_features=128, out_features=128, bias=True)\n",
       "              (key): Linear(in_features=128, out_features=128, bias=True)\n",
       "              (value): Linear(in_features=128, out_features=128, bias=True)\n",
       "              (dropout): Dropout(p=0.1, inplace=False)\n",
       "            )\n",
       "            (output): LxmertAttentionOutput(\n",
       "              (dense): Linear(in_features=128, out_features=128, bias=True)\n",
       "              (LayerNorm): LayerNorm((128,), eps=1e-12, elementwise_affine=True)\n",
       "              (dropout): Dropout(p=0.1, inplace=False)\n",
       "            )\n",
       "          )\n",
       "          (intermediate): LxmertIntermediate(\n",
       "            (dense): Linear(in_features=128, out_features=512, bias=True)\n",
       "          )\n",
       "          (output): LxmertOutput(\n",
       "            (dense): Linear(in_features=512, out_features=128, bias=True)\n",
       "            (LayerNorm): LayerNorm((128,), eps=1e-12, elementwise_affine=True)\n",
       "            (dropout): Dropout(p=0.1, inplace=False)\n",
       "          )\n",
       "        )\n",
       "        (1): LxmertLayer(\n",
       "          (attention): LxmertSelfAttentionLayer(\n",
       "            (self): LxmertAttention(\n",
       "              (query): Linear(in_features=128, out_features=128, bias=True)\n",
       "              (key): Linear(in_features=128, out_features=128, bias=True)\n",
       "              (value): Linear(in_features=128, out_features=128, bias=True)\n",
       "              (dropout): Dropout(p=0.1, inplace=False)\n",
       "            )\n",
       "            (output): LxmertAttentionOutput(\n",
       "              (dense): Linear(in_features=128, out_features=128, bias=True)\n",
       "              (LayerNorm): LayerNorm((128,), eps=1e-12, elementwise_affine=True)\n",
       "              (dropout): Dropout(p=0.1, inplace=False)\n",
       "            )\n",
       "          )\n",
       "          (intermediate): LxmertIntermediate(\n",
       "            (dense): Linear(in_features=128, out_features=512, bias=True)\n",
       "          )\n",
       "          (output): LxmertOutput(\n",
       "            (dense): Linear(in_features=512, out_features=128, bias=True)\n",
       "            (LayerNorm): LayerNorm((128,), eps=1e-12, elementwise_affine=True)\n",
       "            (dropout): Dropout(p=0.1, inplace=False)\n",
       "          )\n",
       "        )\n",
       "      )\n",
       "    )\n",
       "    (pooler): LxmertPooler(\n",
       "      (multi_pooler): Sequential(\n",
       "        (0): Linear(in_features=256, out_features=256, bias=True)\n",
       "        (1): Tanh()\n",
       "        (2): Linear(in_features=256, out_features=8057, bias=True)\n",
       "      )\n",
       "      (ce_pooler): Sequential(\n",
       "        (0): Linear(in_features=256, out_features=256, bias=True)\n",
       "        (1): Tanh()\n",
       "        (2): Linear(in_features=256, out_features=2, bias=True)\n",
       "      )\n",
       "    )\n",
       "  )\n",
       "  (dropout): Dropout(p=0.1, inplace=False)\n",
       ")"
      ]
     },
     "execution_count": 189,
     "metadata": {},
     "output_type": "execute_result"
    }
   ],
   "source": [
    "model.to(training_args.device)\n",
    "# model.cpu()\n",
    "model.eval()"
   ]
  },
  {
   "cell_type": "code",
   "execution_count": 190,
   "metadata": {},
   "outputs": [],
   "source": [
    "db = dict()\n",
    "datas = [data for data in data_loader]\n",
    "\n",
    "for k in datas[0]:\n",
    "    db[k] = torch.cat([data[k] for data in datas]).to(training_args.device)"
   ]
  },
  {
   "cell_type": "code",
   "execution_count": 305,
   "metadata": {},
   "outputs": [
    {
     "name": "stderr",
     "output_type": "stream",
     "text": [
      "100%|██████████| 2000/2000 [00:29<00:00, 68.50it/s]\n"
     ]
    }
   ],
   "source": [
    "sample_idx = 1999\n",
    "\n",
    "sample_hits = list()\n",
    "sample_rank = list()\n",
    "\n",
    "with torch.no_grad():\n",
    "    for positive_idx in tqdm(range(len(test_dataset)), total=len(test_dataset)):\n",
    "        if positive_idx == sample_idx:\n",
    "        \n",
    "            scores = list()\n",
    "            for idx in range(len(test_dataset)//training_args.per_device_eval_batch_size+1):\n",
    "                start_idx = idx*training_args.per_device_eval_batch_size\n",
    "                if idx < (len(test_dataset)//training_args.per_device_eval_batch_size):\n",
    "                    end_idx = (idx+1)*training_args.per_device_eval_batch_size\n",
    "                else:\n",
    "                    end_idx = len(test_dataset)\n",
    "                if start_idx == end_idx:\n",
    "                    continue\n",
    "\n",
    "                inputs = dict()\n",
    "                for k in db:\n",
    "                    if training_args.task in ['text_retrieval', 'single_text_retrieval']:\n",
    "                        if 'kg' in k:\n",
    "                            inputs[k] = torch.stack([db[k][positive_idx]]*(end_idx-start_idx))\n",
    "                        else:\n",
    "                            inputs[k] = db[k][start_idx:end_idx]\n",
    "                    else:\n",
    "                        if 'kg' not in k:\n",
    "                            inputs[k] = torch.stack([db[k][positive_idx]]*(end_idx-start_idx))\n",
    "                        else:\n",
    "                            inputs[k] = db[k][start_idx:end_idx]\n",
    "\n",
    "\n",
    "                outputs = model(**inputs)\n",
    "                \n",
    "                if training_args.per_device_eval_batch_size == 1:\n",
    "                    scores+=outputs.pooled_logits.unsqueeze(0)[:,1].tolist()\n",
    "                else:\n",
    "                    scores+=outputs.pooled_logits[:,1].tolist()\n",
    "\n",
    "            ranks = sorted(range(len(scores)), key=lambda k: scores[k], reverse=True)\n",
    "        else:\n",
    "            pass\n",
    "        "
   ]
  },
  {
   "cell_type": "code",
   "execution_count": 306,
   "metadata": {},
   "outputs": [
    {
     "data": {
      "text/plain": [
       "2"
      ]
     },
     "execution_count": 306,
     "metadata": {},
     "output_type": "execute_result"
    }
   ],
   "source": [
    "ranks.index(sample_idx)"
   ]
  },
  {
   "cell_type": "code",
   "execution_count": 307,
   "metadata": {
    "scrolled": true
   },
   "outputs": [
    {
     "data": {
      "text/plain": [
       "'congestive heart failure spinal stenosis bradycardia acute renal failure dm2 myelogram'"
      ]
     },
     "execution_count": 307,
     "metadata": {},
     "output_type": "execute_result"
    }
   ],
   "source": [
    "# original text\n",
    "tokenizer.decode(db['lang_input_ids'][sample_idx], skip_special_tokens=True)"
   ]
  },
  {
   "cell_type": "code",
   "execution_count": 308,
   "metadata": {},
   "outputs": [
    {
     "name": "stdout",
     "output_type": "stream",
     "text": [
      "1 3.3523\n",
      "gout chronic systolic congestive heart failure coronary artery disease insulin - dependent diabetes mellitus right internal jugular central line placement left elbow joint aspiration right knee joint aspiration\n",
      "\n",
      "2 3.3163\n",
      "primary diagnosis # congestive heart failure pulmonary hypertension # hypertensive, malignant # diabetes mellitus type 2, with complications uncontrolled. # chronic kidney disease stage 5 # initiation of hemodialysis. secondary diagnosis # hyperlipidemia # coronary artery disease hemodialysis x4\n",
      "\n",
      "3 3.2716\n",
      "congestive heart failure spinal stenosis bradycardia acute renal failure dm2 myelogram\n",
      "\n",
      "4 3.0878\n",
      "end - stage osteoarthritis / ddh l hip l thr\n",
      "\n",
      "5 3.0298\n",
      "anemia chronic kidney disease diabetes mellitus coronary artery disease none\n",
      "\n",
      "6 3.0267\n",
      "syncope coronary artery disease diabetes history of tia peripheral artery disease none\n",
      "\n",
      "7 2.8125\n",
      "syncope c2 and sternal fractures syndrome of inappropriate anti - diuretic hormone obstructive sleep apnea. diabetes mellitus ii hypertension coronary artery disease congestive heart failure chronic diarrhea none\n",
      "\n",
      "8 2.8021\n",
      "primary systemic sarcoid secondary pulmonary hypertension end stage renal disease on hemodialysis none\n",
      "\n",
      "9 2.7669\n",
      "# hypernatremia # hyperglycemia # acute renal failure # vascular dementia. # type ii diabetes mellitus # hypertension # hypercholesterolemia picc placement x2 ( second placement was ir - guided )\n",
      "\n",
      "10 2.7587\n",
      "hypertensive crisis acute on chronic dyastolic congestive heart failure acute on chronic renal failure none\n",
      "\n"
     ]
    }
   ],
   "source": [
    "# the most relevant\n",
    "for idx in range(10):\n",
    "    print(idx+1, f'{scores[ranks[idx]]:.4f}')\n",
    "    print(tokenizer.decode(db['lang_input_ids'][ranks[idx]], skip_special_tokens=True))\n",
    "    print()"
   ]
  },
  {
   "cell_type": "code",
   "execution_count": 309,
   "metadata": {},
   "outputs": [
    {
     "name": "stdout",
     "output_type": "stream",
     "text": [
      "2000 -5.7194\n",
      "cardiac arrest cardiogenic shock severe septic shock hypoxemic respiratory failure acute respiratory distress syndrome spontaneous bacterial peritonitis hepatorenal syndrome end stage liver disease from hepatitis c hepatic encephalopathy anemia central venous line placement cvvh paracentesis\n",
      "\n",
      "1999 -5.6691\n",
      "right lung empyema and esophageal - pleural fistula bilateral pleural effusions chronic respiratory failure requiring tracheostomy aspiration pneumonia flexible bronchoscopy egd peg placement and esophageal stent placement percutaneous tracheostomy right bacilic picc line ct - guided drainage rll collection\n",
      "\n",
      "1998 -5.6477\n",
      "mrsa empyema mrsa bactermia mrsa uti hepatitis c cirrhosis chest tube placement picc placement dobhoff tube placement\n",
      "\n",
      "1997 -5.5298\n",
      "spontaneous bacterial peritonitis. - hep b cirrhosis - advanced hepatocellular ca paracentesis x 4\n",
      "\n"
     ]
    }
   ],
   "source": [
    "# the most irrelevant\n",
    "for idx in range(1999,1995, -1):\n",
    "    print(idx+1, f'{scores[ranks[idx]]:.4f}')\n",
    "    print(tokenizer.decode(db['lang_input_ids'][ranks[idx]], skip_special_tokens=True))\n",
    "    print()"
   ]
  },
  {
   "cell_type": "code",
   "execution_count": 312,
   "metadata": {
    "scrolled": false
   },
   "outputs": [
    {
     "data": {
      "text/plain": [
       "[(2, 'CLS'),\n",
       " (3, 'hadm'),\n",
       " (5, 'diagnoses'),\n",
       " (5, 'diagnoses'),\n",
       " (5, 'diagnoses'),\n",
       " (5, 'diagnoses'),\n",
       " (5, 'diagnoses'),\n",
       " (5, 'diagnoses'),\n",
       " (5, 'diagnoses'),\n",
       " (5, 'diagnoses'),\n",
       " (7, 'procedures'),\n",
       " (5, 'diagnoses'),\n",
       " (5, 'diagnoses'),\n",
       " (5, 'diagnoses'),\n",
       " (5, 'diagnoses'),\n",
       " (5, 'diagnoses'),\n",
       " (5, 'diagnoses'),\n",
       " (5, 'diagnoses'),\n",
       " (5, 'diagnoses'),\n",
       " (4, 'diagnoses_icd9_code'),\n",
       " (4, 'diagnoses_icd9_code'),\n",
       " (4, 'diagnoses_icd9_code'),\n",
       " (4, 'diagnoses_icd9_code'),\n",
       " (4, 'diagnoses_icd9_code'),\n",
       " (4, 'diagnoses_icd9_code'),\n",
       " (4, 'diagnoses_icd9_code'),\n",
       " (4, 'diagnoses_icd9_code'),\n",
       " (6, 'procedures_icd9_code'),\n",
       " (4, 'diagnoses_icd9_code'),\n",
       " (4, 'diagnoses_icd9_code'),\n",
       " (4, 'diagnoses_icd9_code'),\n",
       " (4, 'diagnoses_icd9_code'),\n",
       " (4, 'diagnoses_icd9_code'),\n",
       " (4, 'diagnoses_icd9_code'),\n",
       " (4, 'diagnoses_icd9_code'),\n",
       " (4, 'diagnoses_icd9_code'),\n",
       " (7461,\n",
       "  '\"hypertensive chronic kidney disease, unspecified, with chronic kidney disease stage v or end stage renal disease\"'),\n",
       " (6588, '\"asthma, unspecified type, unspecified\"'),\n",
       " (5323, '\"coronary atherosclerosis of native coronary artery\"'),\n",
       " (205, '\"other specified cardiac dysrhythmias\"'),\n",
       " (6428, '\"acute kidney failure, unspecified\"'),\n",
       " (3258, '\"other and unspecified hyperlipidemia\"'),\n",
       " (1344, '\"nausea with vomiting\"'),\n",
       " (2029,\n",
       "  '\"osteoarthrosis, unspecified whether generalized or localized, site unspecified\"'),\n",
       " (1771, '\"contrast myelogram\"'),\n",
       " (5618,\n",
       "  '\"diabetes mellitus without mention of complication, type ii or unspecified type, not stated as uncontrolled\"'),\n",
       " (126,\n",
       "  '\"other drugs and medicinal substances causing adverse effects in therapeutic use\"'),\n",
       " (4191, '\"congestive heart failure, unspecified\"'),\n",
       " (600, '\"iron deficiency anemia, unspecified\"'),\n",
       " (6237, '\"percutaneous transluminal coronary angioplasty status\"'),\n",
       " (6907, '\"spinal stenosis in cervical region\"'),\n",
       " (7074, '\"morbid obesity\"'),\n",
       " (4448, '\"obstructive sleep apnea (adult)(pediatric)\"')]"
      ]
     },
     "execution_count": 312,
     "metadata": {},
     "output_type": "execute_result"
    }
   ],
   "source": [
    "# dx,prx relations = 8\n",
    "\n",
    "[id2node[n_id.item()] for n_id in db['kg_input_ids'][sample_idx] \\\n",
    "if n_id not in range(config.num_relations+1)]\n",
    "\n",
    "[(n_id.item(), id2node[n_id.item()]) for n_id in db['kg_input_ids'][sample_idx] if n_id > 0]"
   ]
  },
  {
   "cell_type": "code",
   "execution_count": null,
   "metadata": {},
   "outputs": [],
   "source": []
  },
  {
   "cell_type": "code",
   "execution_count": null,
   "metadata": {},
   "outputs": [],
   "source": []
  },
  {
   "cell_type": "code",
   "execution_count": null,
   "metadata": {},
   "outputs": [],
   "source": []
  },
  {
   "cell_type": "code",
   "execution_count": null,
   "metadata": {},
   "outputs": [],
   "source": []
  },
  {
   "cell_type": "code",
   "execution_count": null,
   "metadata": {},
   "outputs": [],
   "source": []
  },
  {
   "cell_type": "markdown",
   "metadata": {},
   "source": [
    "# Graph Retrieval"
   ]
  },
  {
   "cell_type": "code",
   "execution_count": 18,
   "metadata": {},
   "outputs": [],
   "source": [
    "training_args.task = 'graph_retrieval'"
   ]
  },
  {
   "cell_type": "code",
   "execution_count": 21,
   "metadata": {},
   "outputs": [],
   "source": [
    "os.environ[\"CUDA_VISIBLE_DEVICES\"]=\"0\"\n",
    "training_args.device = 'cuda:0'"
   ]
  },
  {
   "cell_type": "code",
   "execution_count": 19,
   "metadata": {},
   "outputs": [
    {
     "data": {
      "text/plain": [
       "LxmertForRanking(\n",
       "  (lxmert): LxmertModel(\n",
       "    (lang_embeddings): LxmertEmbeddings(\n",
       "      (word_embeddings): Embedding(30522, 128)\n",
       "      (position_embeddings): Embedding(512, 128)\n",
       "      (token_type_embeddings): Embedding(2, 128)\n",
       "      (LayerNorm): LayerNorm((128,), eps=1e-12, elementwise_affine=True)\n",
       "      (dropout): Dropout(p=0.1, inplace=False)\n",
       "    )\n",
       "    (kg_embeddings): LxmertEmbeddings(\n",
       "      (word_embeddings): Embedding(8057, 128)\n",
       "      (position_embeddings): Embedding(1024, 128)\n",
       "      (LayerNorm): LayerNorm((128,), eps=1e-12, elementwise_affine=True)\n",
       "      (dropout): Dropout(p=0.1, inplace=False)\n",
       "    )\n",
       "    (encoder): LxmertEncoder(\n",
       "      (layer): ModuleList(\n",
       "        (0): BertLayer(\n",
       "          (attention): BertAttention(\n",
       "            (self): BertSelfAttention(\n",
       "              (query): Linear(in_features=128, out_features=128, bias=True)\n",
       "              (key): Linear(in_features=128, out_features=128, bias=True)\n",
       "              (value): Linear(in_features=128, out_features=128, bias=True)\n",
       "              (dropout): Dropout(p=0.1, inplace=False)\n",
       "            )\n",
       "            (output): BertSelfOutput(\n",
       "              (dense): Linear(in_features=128, out_features=128, bias=True)\n",
       "              (LayerNorm): LayerNorm((128,), eps=1e-12, elementwise_affine=True)\n",
       "              (dropout): Dropout(p=0.1, inplace=False)\n",
       "            )\n",
       "          )\n",
       "          (intermediate): BertIntermediate(\n",
       "            (dense): Linear(in_features=128, out_features=512, bias=True)\n",
       "          )\n",
       "          (output): BertOutput(\n",
       "            (dense): Linear(in_features=512, out_features=128, bias=True)\n",
       "            (LayerNorm): LayerNorm((128,), eps=1e-12, elementwise_affine=True)\n",
       "            (dropout): Dropout(p=0.1, inplace=False)\n",
       "          )\n",
       "        )\n",
       "        (1): BertLayer(\n",
       "          (attention): BertAttention(\n",
       "            (self): BertSelfAttention(\n",
       "              (query): Linear(in_features=128, out_features=128, bias=True)\n",
       "              (key): Linear(in_features=128, out_features=128, bias=True)\n",
       "              (value): Linear(in_features=128, out_features=128, bias=True)\n",
       "              (dropout): Dropout(p=0.1, inplace=False)\n",
       "            )\n",
       "            (output): BertSelfOutput(\n",
       "              (dense): Linear(in_features=128, out_features=128, bias=True)\n",
       "              (LayerNorm): LayerNorm((128,), eps=1e-12, elementwise_affine=True)\n",
       "              (dropout): Dropout(p=0.1, inplace=False)\n",
       "            )\n",
       "          )\n",
       "          (intermediate): BertIntermediate(\n",
       "            (dense): Linear(in_features=128, out_features=512, bias=True)\n",
       "          )\n",
       "          (output): BertOutput(\n",
       "            (dense): Linear(in_features=512, out_features=128, bias=True)\n",
       "            (LayerNorm): LayerNorm((128,), eps=1e-12, elementwise_affine=True)\n",
       "            (dropout): Dropout(p=0.1, inplace=False)\n",
       "          )\n",
       "        )\n",
       "      )\n",
       "      (x_layers): ModuleList(\n",
       "        (0): LxmertXLayer(\n",
       "          (cross_attention): LxmertCrossAttentionLayer(\n",
       "            (att): LxmertAttention(\n",
       "              (query): Linear(in_features=128, out_features=128, bias=True)\n",
       "              (key): Linear(in_features=128, out_features=128, bias=True)\n",
       "              (value): Linear(in_features=128, out_features=128, bias=True)\n",
       "              (dropout): Dropout(p=0.1, inplace=False)\n",
       "            )\n",
       "            (output): LxmertAttentionOutput(\n",
       "              (dense): Linear(in_features=128, out_features=128, bias=True)\n",
       "              (LayerNorm): LayerNorm((128,), eps=1e-12, elementwise_affine=True)\n",
       "              (dropout): Dropout(p=0.1, inplace=False)\n",
       "            )\n",
       "          )\n",
       "          (lang_self_att): LxmertSelfAttentionLayer(\n",
       "            (self): LxmertAttention(\n",
       "              (query): Linear(in_features=128, out_features=128, bias=True)\n",
       "              (key): Linear(in_features=128, out_features=128, bias=True)\n",
       "              (value): Linear(in_features=128, out_features=128, bias=True)\n",
       "              (dropout): Dropout(p=0.1, inplace=False)\n",
       "            )\n",
       "            (output): LxmertAttentionOutput(\n",
       "              (dense): Linear(in_features=128, out_features=128, bias=True)\n",
       "              (LayerNorm): LayerNorm((128,), eps=1e-12, elementwise_affine=True)\n",
       "              (dropout): Dropout(p=0.1, inplace=False)\n",
       "            )\n",
       "          )\n",
       "          (visn_self_att): LxmertSelfAttentionLayer(\n",
       "            (self): LxmertAttention(\n",
       "              (query): Linear(in_features=128, out_features=128, bias=True)\n",
       "              (key): Linear(in_features=128, out_features=128, bias=True)\n",
       "              (value): Linear(in_features=128, out_features=128, bias=True)\n",
       "              (dropout): Dropout(p=0.1, inplace=False)\n",
       "            )\n",
       "            (output): LxmertAttentionOutput(\n",
       "              (dense): Linear(in_features=128, out_features=128, bias=True)\n",
       "              (LayerNorm): LayerNorm((128,), eps=1e-12, elementwise_affine=True)\n",
       "              (dropout): Dropout(p=0.1, inplace=False)\n",
       "            )\n",
       "          )\n",
       "          (lang_inter): LxmertIntermediate(\n",
       "            (dense): Linear(in_features=128, out_features=512, bias=True)\n",
       "          )\n",
       "          (lang_output): LxmertOutput(\n",
       "            (dense): Linear(in_features=512, out_features=128, bias=True)\n",
       "            (LayerNorm): LayerNorm((128,), eps=1e-12, elementwise_affine=True)\n",
       "            (dropout): Dropout(p=0.1, inplace=False)\n",
       "          )\n",
       "          (visn_inter): LxmertIntermediate(\n",
       "            (dense): Linear(in_features=128, out_features=512, bias=True)\n",
       "          )\n",
       "          (visn_output): LxmertOutput(\n",
       "            (dense): Linear(in_features=512, out_features=128, bias=True)\n",
       "            (LayerNorm): LayerNorm((128,), eps=1e-12, elementwise_affine=True)\n",
       "            (dropout): Dropout(p=0.1, inplace=False)\n",
       "          )\n",
       "        )\n",
       "        (1): LxmertXLayer(\n",
       "          (cross_attention): LxmertCrossAttentionLayer(\n",
       "            (att): LxmertAttention(\n",
       "              (query): Linear(in_features=128, out_features=128, bias=True)\n",
       "              (key): Linear(in_features=128, out_features=128, bias=True)\n",
       "              (value): Linear(in_features=128, out_features=128, bias=True)\n",
       "              (dropout): Dropout(p=0.1, inplace=False)\n",
       "            )\n",
       "            (output): LxmertAttentionOutput(\n",
       "              (dense): Linear(in_features=128, out_features=128, bias=True)\n",
       "              (LayerNorm): LayerNorm((128,), eps=1e-12, elementwise_affine=True)\n",
       "              (dropout): Dropout(p=0.1, inplace=False)\n",
       "            )\n",
       "          )\n",
       "          (lang_self_att): LxmertSelfAttentionLayer(\n",
       "            (self): LxmertAttention(\n",
       "              (query): Linear(in_features=128, out_features=128, bias=True)\n",
       "              (key): Linear(in_features=128, out_features=128, bias=True)\n",
       "              (value): Linear(in_features=128, out_features=128, bias=True)\n",
       "              (dropout): Dropout(p=0.1, inplace=False)\n",
       "            )\n",
       "            (output): LxmertAttentionOutput(\n",
       "              (dense): Linear(in_features=128, out_features=128, bias=True)\n",
       "              (LayerNorm): LayerNorm((128,), eps=1e-12, elementwise_affine=True)\n",
       "              (dropout): Dropout(p=0.1, inplace=False)\n",
       "            )\n",
       "          )\n",
       "          (visn_self_att): LxmertSelfAttentionLayer(\n",
       "            (self): LxmertAttention(\n",
       "              (query): Linear(in_features=128, out_features=128, bias=True)\n",
       "              (key): Linear(in_features=128, out_features=128, bias=True)\n",
       "              (value): Linear(in_features=128, out_features=128, bias=True)\n",
       "              (dropout): Dropout(p=0.1, inplace=False)\n",
       "            )\n",
       "            (output): LxmertAttentionOutput(\n",
       "              (dense): Linear(in_features=128, out_features=128, bias=True)\n",
       "              (LayerNorm): LayerNorm((128,), eps=1e-12, elementwise_affine=True)\n",
       "              (dropout): Dropout(p=0.1, inplace=False)\n",
       "            )\n",
       "          )\n",
       "          (lang_inter): LxmertIntermediate(\n",
       "            (dense): Linear(in_features=128, out_features=512, bias=True)\n",
       "          )\n",
       "          (lang_output): LxmertOutput(\n",
       "            (dense): Linear(in_features=512, out_features=128, bias=True)\n",
       "            (LayerNorm): LayerNorm((128,), eps=1e-12, elementwise_affine=True)\n",
       "            (dropout): Dropout(p=0.1, inplace=False)\n",
       "          )\n",
       "          (visn_inter): LxmertIntermediate(\n",
       "            (dense): Linear(in_features=128, out_features=512, bias=True)\n",
       "          )\n",
       "          (visn_output): LxmertOutput(\n",
       "            (dense): Linear(in_features=512, out_features=128, bias=True)\n",
       "            (LayerNorm): LayerNorm((128,), eps=1e-12, elementwise_affine=True)\n",
       "            (dropout): Dropout(p=0.1, inplace=False)\n",
       "          )\n",
       "        )\n",
       "        (2): LxmertXLayer(\n",
       "          (cross_attention): LxmertCrossAttentionLayer(\n",
       "            (att): LxmertAttention(\n",
       "              (query): Linear(in_features=128, out_features=128, bias=True)\n",
       "              (key): Linear(in_features=128, out_features=128, bias=True)\n",
       "              (value): Linear(in_features=128, out_features=128, bias=True)\n",
       "              (dropout): Dropout(p=0.1, inplace=False)\n",
       "            )\n",
       "            (output): LxmertAttentionOutput(\n",
       "              (dense): Linear(in_features=128, out_features=128, bias=True)\n",
       "              (LayerNorm): LayerNorm((128,), eps=1e-12, elementwise_affine=True)\n",
       "              (dropout): Dropout(p=0.1, inplace=False)\n",
       "            )\n",
       "          )\n",
       "          (lang_self_att): LxmertSelfAttentionLayer(\n",
       "            (self): LxmertAttention(\n",
       "              (query): Linear(in_features=128, out_features=128, bias=True)\n",
       "              (key): Linear(in_features=128, out_features=128, bias=True)\n",
       "              (value): Linear(in_features=128, out_features=128, bias=True)\n",
       "              (dropout): Dropout(p=0.1, inplace=False)\n",
       "            )\n",
       "            (output): LxmertAttentionOutput(\n",
       "              (dense): Linear(in_features=128, out_features=128, bias=True)\n",
       "              (LayerNorm): LayerNorm((128,), eps=1e-12, elementwise_affine=True)\n",
       "              (dropout): Dropout(p=0.1, inplace=False)\n",
       "            )\n",
       "          )\n",
       "          (visn_self_att): LxmertSelfAttentionLayer(\n",
       "            (self): LxmertAttention(\n",
       "              (query): Linear(in_features=128, out_features=128, bias=True)\n",
       "              (key): Linear(in_features=128, out_features=128, bias=True)\n",
       "              (value): Linear(in_features=128, out_features=128, bias=True)\n",
       "              (dropout): Dropout(p=0.1, inplace=False)\n",
       "            )\n",
       "            (output): LxmertAttentionOutput(\n",
       "              (dense): Linear(in_features=128, out_features=128, bias=True)\n",
       "              (LayerNorm): LayerNorm((128,), eps=1e-12, elementwise_affine=True)\n",
       "              (dropout): Dropout(p=0.1, inplace=False)\n",
       "            )\n",
       "          )\n",
       "          (lang_inter): LxmertIntermediate(\n",
       "            (dense): Linear(in_features=128, out_features=512, bias=True)\n",
       "          )\n",
       "          (lang_output): LxmertOutput(\n",
       "            (dense): Linear(in_features=512, out_features=128, bias=True)\n",
       "            (LayerNorm): LayerNorm((128,), eps=1e-12, elementwise_affine=True)\n",
       "            (dropout): Dropout(p=0.1, inplace=False)\n",
       "          )\n",
       "          (visn_inter): LxmertIntermediate(\n",
       "            (dense): Linear(in_features=128, out_features=512, bias=True)\n",
       "          )\n",
       "          (visn_output): LxmertOutput(\n",
       "            (dense): Linear(in_features=512, out_features=128, bias=True)\n",
       "            (LayerNorm): LayerNorm((128,), eps=1e-12, elementwise_affine=True)\n",
       "            (dropout): Dropout(p=0.1, inplace=False)\n",
       "          )\n",
       "        )\n",
       "        (3): LxmertXLayer(\n",
       "          (cross_attention): LxmertCrossAttentionLayer(\n",
       "            (att): LxmertAttention(\n",
       "              (query): Linear(in_features=128, out_features=128, bias=True)\n",
       "              (key): Linear(in_features=128, out_features=128, bias=True)\n",
       "              (value): Linear(in_features=128, out_features=128, bias=True)\n",
       "              (dropout): Dropout(p=0.1, inplace=False)\n",
       "            )\n",
       "            (output): LxmertAttentionOutput(\n",
       "              (dense): Linear(in_features=128, out_features=128, bias=True)\n",
       "              (LayerNorm): LayerNorm((128,), eps=1e-12, elementwise_affine=True)\n",
       "              (dropout): Dropout(p=0.1, inplace=False)\n",
       "            )\n",
       "          )\n",
       "          (lang_self_att): LxmertSelfAttentionLayer(\n",
       "            (self): LxmertAttention(\n",
       "              (query): Linear(in_features=128, out_features=128, bias=True)\n",
       "              (key): Linear(in_features=128, out_features=128, bias=True)\n",
       "              (value): Linear(in_features=128, out_features=128, bias=True)\n",
       "              (dropout): Dropout(p=0.1, inplace=False)\n",
       "            )\n",
       "            (output): LxmertAttentionOutput(\n",
       "              (dense): Linear(in_features=128, out_features=128, bias=True)\n",
       "              (LayerNorm): LayerNorm((128,), eps=1e-12, elementwise_affine=True)\n",
       "              (dropout): Dropout(p=0.1, inplace=False)\n",
       "            )\n",
       "          )\n",
       "          (visn_self_att): LxmertSelfAttentionLayer(\n",
       "            (self): LxmertAttention(\n",
       "              (query): Linear(in_features=128, out_features=128, bias=True)\n",
       "              (key): Linear(in_features=128, out_features=128, bias=True)\n",
       "              (value): Linear(in_features=128, out_features=128, bias=True)\n",
       "              (dropout): Dropout(p=0.1, inplace=False)\n",
       "            )\n",
       "            (output): LxmertAttentionOutput(\n",
       "              (dense): Linear(in_features=128, out_features=128, bias=True)\n",
       "              (LayerNorm): LayerNorm((128,), eps=1e-12, elementwise_affine=True)\n",
       "              (dropout): Dropout(p=0.1, inplace=False)\n",
       "            )\n",
       "          )\n",
       "          (lang_inter): LxmertIntermediate(\n",
       "            (dense): Linear(in_features=128, out_features=512, bias=True)\n",
       "          )\n",
       "          (lang_output): LxmertOutput(\n",
       "            (dense): Linear(in_features=512, out_features=128, bias=True)\n",
       "            (LayerNorm): LayerNorm((128,), eps=1e-12, elementwise_affine=True)\n",
       "            (dropout): Dropout(p=0.1, inplace=False)\n",
       "          )\n",
       "          (visn_inter): LxmertIntermediate(\n",
       "            (dense): Linear(in_features=128, out_features=512, bias=True)\n",
       "          )\n",
       "          (visn_output): LxmertOutput(\n",
       "            (dense): Linear(in_features=512, out_features=128, bias=True)\n",
       "            (LayerNorm): LayerNorm((128,), eps=1e-12, elementwise_affine=True)\n",
       "            (dropout): Dropout(p=0.1, inplace=False)\n",
       "          )\n",
       "        )\n",
       "      )\n",
       "      (r_layers): ModuleList(\n",
       "        (0): LxmertLayer(\n",
       "          (attention): LxmertSelfAttentionLayer(\n",
       "            (self): LxmertAttention(\n",
       "              (query): Linear(in_features=128, out_features=128, bias=True)\n",
       "              (key): Linear(in_features=128, out_features=128, bias=True)\n",
       "              (value): Linear(in_features=128, out_features=128, bias=True)\n",
       "              (dropout): Dropout(p=0.1, inplace=False)\n",
       "            )\n",
       "            (output): LxmertAttentionOutput(\n",
       "              (dense): Linear(in_features=128, out_features=128, bias=True)\n",
       "              (LayerNorm): LayerNorm((128,), eps=1e-12, elementwise_affine=True)\n",
       "              (dropout): Dropout(p=0.1, inplace=False)\n",
       "            )\n",
       "          )\n",
       "          (intermediate): LxmertIntermediate(\n",
       "            (dense): Linear(in_features=128, out_features=512, bias=True)\n",
       "          )\n",
       "          (output): LxmertOutput(\n",
       "            (dense): Linear(in_features=512, out_features=128, bias=True)\n",
       "            (LayerNorm): LayerNorm((128,), eps=1e-12, elementwise_affine=True)\n",
       "            (dropout): Dropout(p=0.1, inplace=False)\n",
       "          )\n",
       "        )\n",
       "        (1): LxmertLayer(\n",
       "          (attention): LxmertSelfAttentionLayer(\n",
       "            (self): LxmertAttention(\n",
       "              (query): Linear(in_features=128, out_features=128, bias=True)\n",
       "              (key): Linear(in_features=128, out_features=128, bias=True)\n",
       "              (value): Linear(in_features=128, out_features=128, bias=True)\n",
       "              (dropout): Dropout(p=0.1, inplace=False)\n",
       "            )\n",
       "            (output): LxmertAttentionOutput(\n",
       "              (dense): Linear(in_features=128, out_features=128, bias=True)\n",
       "              (LayerNorm): LayerNorm((128,), eps=1e-12, elementwise_affine=True)\n",
       "              (dropout): Dropout(p=0.1, inplace=False)\n",
       "            )\n",
       "          )\n",
       "          (intermediate): LxmertIntermediate(\n",
       "            (dense): Linear(in_features=128, out_features=512, bias=True)\n",
       "          )\n",
       "          (output): LxmertOutput(\n",
       "            (dense): Linear(in_features=512, out_features=128, bias=True)\n",
       "            (LayerNorm): LayerNorm((128,), eps=1e-12, elementwise_affine=True)\n",
       "            (dropout): Dropout(p=0.1, inplace=False)\n",
       "          )\n",
       "        )\n",
       "      )\n",
       "    )\n",
       "    (pooler): LxmertPooler(\n",
       "      (multi_pooler): Sequential(\n",
       "        (0): Linear(in_features=256, out_features=256, bias=True)\n",
       "        (1): Tanh()\n",
       "        (2): Linear(in_features=256, out_features=8057, bias=True)\n",
       "      )\n",
       "      (ce_pooler): Sequential(\n",
       "        (0): Linear(in_features=256, out_features=256, bias=True)\n",
       "        (1): Tanh()\n",
       "        (2): Linear(in_features=256, out_features=2, bias=True)\n",
       "      )\n",
       "    )\n",
       "  )\n",
       "  (dropout): Dropout(p=0.1, inplace=False)\n",
       ")"
      ]
     },
     "execution_count": 19,
     "metadata": {},
     "output_type": "execute_result"
    }
   ],
   "source": [
    "model.to(training_args.device)\n",
    "# model.cpu()\n",
    "model.eval()"
   ]
  },
  {
   "cell_type": "markdown",
   "metadata": {},
   "source": [
    "### load label dictionary in KG"
   ]
  },
  {
   "cell_type": "code",
   "execution_count": 34,
   "metadata": {},
   "outputs": [],
   "source": [
    "node2id = torch.load(os.path.join(os.path.dirname(data_args.test_data_file), 'unified_node'))\n",
    "id2node = {v:k.split('^^')[0] for k,v in node2id.items()}"
   ]
  },
  {
   "cell_type": "code",
   "execution_count": null,
   "metadata": {},
   "outputs": [],
   "source": []
  },
  {
   "cell_type": "code",
   "execution_count": 29,
   "metadata": {},
   "outputs": [
    {
     "name": "stdout",
     "output_type": "stream",
     "text": [
      "999\n"
     ]
    }
   ],
   "source": [
    "for idx in range(2000):\n",
    "    output = tokenizer.decode(db['lang_input_ids'][idx], skip_special_tokens=True)\n",
    "    if 'full thickness defect flail left knee' in output:\n",
    "        print(idx)"
   ]
  },
  {
   "cell_type": "code",
   "execution_count": null,
   "metadata": {},
   "outputs": [],
   "source": []
  },
  {
   "cell_type": "code",
   "execution_count": 17,
   "metadata": {},
   "outputs": [],
   "source": [
    "db = dict()\n",
    "datas = [data for data in data_loader]\n",
    "\n",
    "for k in datas[0]:\n",
    "    db[k] = torch.cat([data[k] for data in datas]).to(training_args.device)\n",
    "    # db[k] = torch.cat([data[k] for data in datas]).cpu()"
   ]
  },
  {
   "cell_type": "code",
   "execution_count": null,
   "metadata": {},
   "outputs": [],
   "source": []
  },
  {
   "cell_type": "code",
   "execution_count": 30,
   "metadata": {},
   "outputs": [
    {
     "name": "stderr",
     "output_type": "stream",
     "text": [
      "100%|██████████| 2000/2000 [00:31<00:00, 63.66it/s]\n"
     ]
    }
   ],
   "source": [
    "sample_idx = 999\n",
    "\n",
    "sample_hits = list()\n",
    "sample_rank = list()\n",
    "\n",
    "with torch.no_grad():\n",
    "    for positive_idx in tqdm(range(len(test_dataset)), total=len(test_dataset)):\n",
    "        if positive_idx == sample_idx:\n",
    "        \n",
    "            scores = list()\n",
    "            for idx in range(len(test_dataset)//training_args.per_device_eval_batch_size+1):\n",
    "                start_idx = idx*training_args.per_device_eval_batch_size\n",
    "                if idx < (len(test_dataset)//training_args.per_device_eval_batch_size):\n",
    "                    end_idx = (idx+1)*training_args.per_device_eval_batch_size\n",
    "                else:\n",
    "                    end_idx = len(test_dataset)\n",
    "                if start_idx == end_idx:\n",
    "                    continue\n",
    "\n",
    "                inputs = dict()\n",
    "                for k in db:\n",
    "                    if training_args.task in ['text_retrieval', 'single_text_retrieval']:\n",
    "                        if 'kg' in k:\n",
    "                            inputs[k] = torch.stack([db[k][positive_idx]]*(end_idx-start_idx))\n",
    "                        else:\n",
    "                            inputs[k] = db[k][start_idx:end_idx]\n",
    "                    else:\n",
    "                        if 'kg' not in k:\n",
    "                            inputs[k] = torch.stack([db[k][positive_idx]]*(end_idx-start_idx))\n",
    "                        else:\n",
    "                            inputs[k] = db[k][start_idx:end_idx]\n",
    "\n",
    "\n",
    "                outputs = model(**inputs)\n",
    "                \n",
    "                if training_args.per_device_eval_batch_size == 1:\n",
    "                    scores+=outputs.pooled_logits.unsqueeze(0)[:,1].tolist()\n",
    "                else:\n",
    "                    scores+=outputs.pooled_logits[:,1].tolist()\n",
    "\n",
    "            ranks = sorted(range(len(scores)), key=lambda k: scores[k], reverse=True)\n",
    "        else:\n",
    "            pass\n",
    "        "
   ]
  },
  {
   "cell_type": "code",
   "execution_count": 31,
   "metadata": {},
   "outputs": [
    {
     "data": {
      "text/plain": [
       "2"
      ]
     },
     "execution_count": 31,
     "metadata": {},
     "output_type": "execute_result"
    }
   ],
   "source": [
    "ranks.index(sample_idx)"
   ]
  },
  {
   "cell_type": "code",
   "execution_count": 32,
   "metadata": {},
   "outputs": [
    {
     "data": {
      "text/plain": [
       "'[CLS] removal of antibiotic spacers, irrigation and debridement left knee irrigation and debridement of left heel ulcer excision of left knee eschar with closure of full thickness defect flail left knee [SEP] removal of antibiotic spacers, irrigation and debridement left knee, excision and primary closure of full thickness left knee eschar irrigation and debridement of left heel ulcer [SEP]'"
      ]
     },
     "execution_count": 32,
     "metadata": {},
     "output_type": "execute_result"
    }
   ],
   "source": [
    "# Query: text\n",
    "tokenizer.decode(db['lang_input_ids'][sample_idx][:sum(db['lang_input_ids'][sample_idx].not_equal(0))])"
   ]
  },
  {
   "cell_type": "code",
   "execution_count": 35,
   "metadata": {
    "scrolled": true
   },
   "outputs": [
    {
     "name": "stdout",
     "output_type": "stream",
     "text": [
      "['\"infection and inflammatory reaction due to internal joint prosthesis\"', '\"other iatrogenic hypotension\"', '\"venous catheterization, not elsewhere classified\"', '\"removal of (cement) spacer\"', '\"systolic heart failure, unspecified\"', '\"acute posthemorrhagic anemia\"', '\"pressure ulcer, heel\"', '\"unspecified essential hypertension\"', '\"congestive heart failure, unspecified\"', '\"pressure ulcer, lower back\"', '\"excisional debridement of wound, infection, or burn\"', '\"knee joint replacement\"', '\"unspecified acquired hypothyroidism\"', '\"synovectomy, knee\"']\n"
     ]
    }
   ],
   "source": [
    "# original paired graph\n",
    "org_graph = [id2node[n_id.item()] for n_id in db['kg_input_ids'][sample_idx] \\\n",
    "             if n_id not in range(config.num_relations+1)]\n",
    "org_graph_raw = [n_id.item() for n_id in db['kg_input_ids'][sample_idx] \\\n",
    "             if n_id not in range(config.num_relations+1)]\n",
    "print(org_graph)"
   ]
  },
  {
   "cell_type": "code",
   "execution_count": 39,
   "metadata": {
    "scrolled": false
   },
   "outputs": [
    {
     "name": "stdout",
     "output_type": "stream",
     "text": [
      "1 [CLS] score: 4.5049\n",
      "naive_sim_score: 14%\n",
      "['\"acute osteomyelitis, ankle and foot\"', '\"asthma, unspecified type, unspecified\"', '\"ulcer of heel and midfoot\"', '\"diabetes with other specified manifestations, type i [juvenile type], not stated as uncontrolled\"', '\"long-term (current) use of insulin\"', '\"methicillin susceptible staphylococcus aureus in conditions classified elsewhere and of unspecified site\"', '\"streptococcus infection in conditions classified elsewhere and of unspecified site, streptococcus, group b\"', '\"excisional debridement of wound, infection, or burn\"', '\"family history of diabetes mellitus\"', '\"gangrene\"', '\"nonexcisional debridement of wound, infection or burn\"', '\"cellulitis and abscess of foot, except toes\"', '\"venous catheterization, not elsewhere classified\"', '\"esophageal reflux\"', '\"other bone involvement in diseases classified elsewhere\"', '\"amputation of toe\"', '\"irritable bowel syndrome\"', '\"amputation of toe\"']\n",
      "['\"excisional debridement of wound, infection, or burn\"', '\"venous catheterization, not elsewhere classified\"']\n",
      "\n",
      "2 [CLS] score: 4.2807\n",
      "naive_sim_score: 43%\n",
      "['\"hypopotassemia\"', '\"old myocardial infarction\"', '\"transfusion of other serum\"', '\"methicillin susceptible staphylococcus aureus septicemia\"', '\"unspecified essential hypertension\"', '\"venous catheterization, not elsewhere classified\"', '\"personal history of malignant neoplasm of cervix uteri\"', '\"infection with microorganisms resistant to penicillins\"', '\"acute posthemorrhagic anemia\"', '\"surgical operation with implant of artificial internal device causing abnormal patient reaction, or later complication,without mention of misadventure at time of operation\"', '\"other iatrogenic hypotension\"', '\"sepsis\"', '\"infection and inflammatory reaction due to internal joint prosthesis\"', '\"urinary tract infection, site not specified\"', '\"personal history of malignant neoplasm of large intestine\"', '\"arthrotomy for removal of prosthesis without replacement, knee\"', '\"knee joint replacement\"', '\"arterial catheterization\"', '\"coronary atherosclerosis of native coronary artery\"', '\"transfusion of packed cells\"', '\"insertion or replacement of (cement) spacer\"']\n",
      "['\"unspecified essential hypertension\"', '\"venous catheterization, not elsewhere classified\"', '\"acute posthemorrhagic anemia\"', '\"other iatrogenic hypotension\"', '\"infection and inflammatory reaction due to internal joint prosthesis\"', '\"knee joint replacement\"']\n",
      "\n",
      "3 [CLS] score: 4.2141\n",
      "naive_sim_score: 100%\n",
      "['\"infection and inflammatory reaction due to internal joint prosthesis\"', '\"other iatrogenic hypotension\"', '\"venous catheterization, not elsewhere classified\"', '\"removal of (cement) spacer\"', '\"systolic heart failure, unspecified\"', '\"acute posthemorrhagic anemia\"', '\"pressure ulcer, heel\"', '\"unspecified essential hypertension\"', '\"congestive heart failure, unspecified\"', '\"pressure ulcer, lower back\"', '\"excisional debridement of wound, infection, or burn\"', '\"knee joint replacement\"', '\"unspecified acquired hypothyroidism\"', '\"synovectomy, knee\"']\n",
      "['\"infection and inflammatory reaction due to internal joint prosthesis\"', '\"other iatrogenic hypotension\"', '\"venous catheterization, not elsewhere classified\"', '\"removal of (cement) spacer\"', '\"systolic heart failure, unspecified\"', '\"acute posthemorrhagic anemia\"', '\"pressure ulcer, heel\"', '\"unspecified essential hypertension\"', '\"congestive heart failure, unspecified\"', '\"pressure ulcer, lower back\"', '\"excisional debridement of wound, infection, or burn\"', '\"knee joint replacement\"', '\"unspecified acquired hypothyroidism\"', '\"synovectomy, knee\"']\n",
      "\n",
      "4 [CLS] score: 4.1989\n",
      "naive_sim_score: 0%\n",
      "['\"hypertensive chronic kidney disease, unspecified, with chronic kidney disease stage i through stage iv, or unspecified\"', '\"legal blindness, as defined in u.s.a.\"', '\"acute kidney failure, unspecified\"', '\"other amputation below knee\"', '\"diabetes with peripheral circulatory disorders, type ii or unspecified type, not stated as uncontrolled\"', '\"chronic kidney disease, unspecified\"', '\"peripheral vascular disease, unspecified\"', '\"revision of amputation stump\"', '\"polyneuropathy in diabetes\"', '\"diabetes with neurological manifestations, type ii or unspecified type, not stated as uncontrolled\"', '\"gangrene\"', '\"long-term (current) use of insulin\"', '\"personal history of other diseases of circulatory system\"']\n",
      "[]\n",
      "\n",
      "5 [CLS] score: 4.1494\n",
      "naive_sim_score: 29%\n",
      "['\"local excision of lesion or tissue of bone, femur\"', '\"candidiasis of other urogenital sites\"', '\"chronic osteomyelitis, pelvic region and thigh\"', '\"unspecified essential hypertension\"', '\"cocaine abuse, unspecified\"', '\"venous catheterization, not elsewhere classified\"', '\"other iatrogenic hypotension\"', '\"hyperpotassemia\"', '\"late effects of injury purposely inflicted by other person\"', '\"paraplegia\"', '\"acute kidney failure, unspecified\"', '\"other artificial opening of urinary tract status\"', '\"local excision of lesion or tissue of bone, other bones\"', '\"colostomy status\"', '\"pressure ulcer, lower back\"', '\"local excision of lesion or tissue of bone, femur\"', '\"hemorrhage complicating a procedure\"', '\"anemia of other chronic disease\"', '\"nonexcisional debridement of wound, infection or burn\"', '\"transfusion of packed cells\"', '\"acute osteomyelitis, pelvic region and thigh\"', '\"streptococcal septicemia\"', '\"local excision of lesion or tissue of bone, other bones\"', '\"sepsis\"']\n",
      "['\"unspecified essential hypertension\"', '\"venous catheterization, not elsewhere classified\"', '\"other iatrogenic hypotension\"', '\"pressure ulcer, lower back\"']\n",
      "\n"
     ]
    }
   ],
   "source": [
    "# the most relevant graph\n",
    "for idx in range(5):\n",
    "    print(idx+1, f'[CLS] score: {scores[ranks[idx]]:.4f}')\n",
    "    retrieved_graph = [id2node[n_id.item()] for n_id in db['kg_input_ids'][ranks[idx]] \\\n",
    "                       if n_id not in range(config.num_relations+1)]\n",
    "    retrieved_graph_raw = [n_id.item() for n_id in db['kg_input_ids'][ranks[idx]] \\\n",
    "                       if n_id not in range(config.num_relations+1)]\n",
    "    \n",
    "    node_sim = len([n_id for n_id in retrieved_graph_raw if n_id in org_graph_raw]) / len(org_graph_raw)\n",
    "    node222 = [id2node[n_id] for n_id in retrieved_graph_raw if n_id in org_graph_raw]\n",
    "    print(f'naive_sim_score: {node_sim*100:.0f}%')\n",
    "    print(retrieved_graph)\n",
    "    print(node222)\n",
    "    print()"
   ]
  },
  {
   "cell_type": "code",
   "execution_count": 40,
   "metadata": {},
   "outputs": [
    {
     "name": "stdout",
     "output_type": "stream",
     "text": [
      "2000 [CLS] score: -6.4434\n",
      "naive_sim_score: 0%\n",
      "['\"localization-related (focal) (partial) epilepsy and epileptic syndromes with complex partial seizures, with intractable epilepsy\"', '\"lobectomy of brain\"']\n",
      "\n",
      "1999 [CLS] score: -6.4375\n",
      "naive_sim_score: 14%\n",
      "['\"esophageal varices in diseases classified elsewhere, with bleeding\"', '\"acute alcoholic hepatitis\"', '\"percutaneous abdominal drainage\"', '\"unspecified acquired hypothyroidism\"', '\"endoscopic excision or destruction of lesion or tissue of esophagus\"', '\"urinary tract infection, site not specified\"', '\"alcoholic cirrhosis of liver\"', '\"alcohol abuse, continuous\"', '\"pneumonia, organism unspecified\"', '\"unspecified essential hypertension\"', '\"alcohol withdrawal\"']\n",
      "\n",
      "1998 [CLS] score: -6.4141\n",
      "naive_sim_score: 0%\n",
      "['\"arteriography of cerebral arteries\"', '\"acidosis\"', '\"intracranial pressure monitoring\"', '\"street and highway accidents\"', '\"enteral infusion of concentrated nutritional substances\"', '\"open wound of buttock, without mention of complication\"', '\"feeding difficulties and mismanagement\"', '\"continuous invasive mechanical ventilation for 96 consecutive hours or more\"', '\"percutaneous [endoscopic] gastrostomy [peg]\"', '\"open wound of forehead, complicated\"', '\"alcohol abuse, continuous\"', '\"linear repair of laceration of eyelid or eyebrow\"', '\"dissection of vertebral artery\"', '\"closure of skin and subcutaneous tissue of other sites\"', '\"other and unspecified intracranial hemorrhage following injury without mention of open intracranial wound, with loss of consciousness of unspecified duration\"', '\"other motor vehicle traffic accident involving collision with motor vehicle injuring passenger in motor vehicle other than motorcycle\"', '\"injury to other specified intrathoracic organs without mention of open wound into cavity\"']\n",
      "\n",
      "1997 [CLS] score: -6.3886\n",
      "naive_sim_score: 0%\n",
      "['\"portal hypertension\"', '\"unspecified deficiency anemia\"', '\"endoscopic excision or destruction of lesion or tissue of esophagus\"', '\"alcoholic cirrhosis of liver\"', '\"pneumonia, organism unspecified\"', '\"thrombocytopenia, unspecified\"', '\"alcohol withdrawal\"', '\"tobacco use disorder\"', '\"iron deficiency anemia secondary to blood loss (chronic)\"', '\"other sequelae of chronic liver disease\"', '\"acute kidney failure, unspecified\"', '\"esophageal varices in diseases classified elsewhere, with bleeding\"', '\"other and unspecified alcohol dependence, continuous\"', '\"other ascites\"', '\"other specified disorders of stomach and duodenum\"', '\"hyposmolality and/or hyponatremia\"', '\"percutaneous abdominal drainage\"', '\"depressive disorder, not elsewhere classified\"', '\"umbilical hernia without mention of obstruction or gangrene\"', '\"acute alcoholic hepatitis\"', '\"hypopotassemia\"']\n",
      "\n"
     ]
    }
   ],
   "source": [
    "# the most irrelevant graph\n",
    "for idx in range(1999,1995, -1):\n",
    "    print(idx+1, f'[CLS] score: {scores[ranks[idx]]:.4f}')\n",
    "    retrieved_graph = [id2node[n_id.item()] for n_id in db['kg_input_ids'][ranks[idx]] \\\n",
    "                       if n_id not in range(config.num_relations+1)]\n",
    "    retrieved_graph_raw = [n_id.item() for n_id in db['kg_input_ids'][ranks[idx]] \\\n",
    "                       if n_id not in range(config.num_relations+1)]\n",
    "    \n",
    "    node_sim = len([n_id for n_id in retrieved_graph_raw if n_id in org_graph_raw]) / len(org_graph_raw)\n",
    "    print(f'naive_sim_score: {node_sim*100:.0f}%')\n",
    "    print(retrieved_graph)\n",
    "    print()"
   ]
  },
  {
   "cell_type": "code",
   "execution_count": null,
   "metadata": {},
   "outputs": [],
   "source": []
  },
  {
   "cell_type": "code",
   "execution_count": null,
   "metadata": {},
   "outputs": [],
   "source": []
  },
  {
   "cell_type": "code",
   "execution_count": null,
   "metadata": {},
   "outputs": [],
   "source": []
  },
  {
   "cell_type": "code",
   "execution_count": null,
   "metadata": {},
   "outputs": [],
   "source": []
  },
  {
   "cell_type": "code",
   "execution_count": null,
   "metadata": {},
   "outputs": [],
   "source": []
  },
  {
   "cell_type": "code",
   "execution_count": null,
   "metadata": {},
   "outputs": [],
   "source": []
  },
  {
   "cell_type": "code",
   "execution_count": null,
   "metadata": {},
   "outputs": [],
   "source": []
  },
  {
   "cell_type": "code",
   "execution_count": null,
   "metadata": {},
   "outputs": [],
   "source": []
  },
  {
   "cell_type": "code",
   "execution_count": null,
   "metadata": {},
   "outputs": [],
   "source": []
  },
  {
   "cell_type": "code",
   "execution_count": null,
   "metadata": {},
   "outputs": [],
   "source": []
  },
  {
   "cell_type": "code",
   "execution_count": null,
   "metadata": {},
   "outputs": [],
   "source": []
  },
  {
   "cell_type": "code",
   "execution_count": null,
   "metadata": {},
   "outputs": [],
   "source": []
  },
  {
   "cell_type": "code",
   "execution_count": null,
   "metadata": {},
   "outputs": [],
   "source": []
  },
  {
   "cell_type": "code",
   "execution_count": null,
   "metadata": {},
   "outputs": [],
   "source": []
  },
  {
   "cell_type": "code",
   "execution_count": null,
   "metadata": {},
   "outputs": [],
   "source": []
  },
  {
   "cell_type": "code",
   "execution_count": null,
   "metadata": {},
   "outputs": [],
   "source": []
  },
  {
   "cell_type": "code",
   "execution_count": null,
   "metadata": {},
   "outputs": [],
   "source": []
  },
  {
   "cell_type": "code",
   "execution_count": null,
   "metadata": {},
   "outputs": [],
   "source": []
  },
  {
   "cell_type": "code",
   "execution_count": null,
   "metadata": {},
   "outputs": [],
   "source": []
  },
  {
   "cell_type": "code",
   "execution_count": null,
   "metadata": {},
   "outputs": [],
   "source": []
  },
  {
   "cell_type": "code",
   "execution_count": null,
   "metadata": {},
   "outputs": [],
   "source": []
  },
  {
   "cell_type": "code",
   "execution_count": null,
   "metadata": {},
   "outputs": [],
   "source": []
  }
 ],
 "metadata": {
  "kernelspec": {
   "display_name": "Python 3",
   "language": "python",
   "name": "python3"
  },
  "language_info": {
   "codemirror_mode": {
    "name": "ipython",
    "version": 3
   },
   "file_extension": ".py",
   "mimetype": "text/x-python",
   "name": "python",
   "nbconvert_exporter": "python",
   "pygments_lexer": "ipython3",
   "version": "3.7.10"
  }
 },
 "nbformat": 4,
 "nbformat_minor": 2
}
