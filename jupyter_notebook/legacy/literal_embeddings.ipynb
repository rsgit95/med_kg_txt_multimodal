{
 "metadata": {
  "language_info": {
   "codemirror_mode": {
    "name": "ipython",
    "version": 3
   },
   "file_extension": ".py",
   "mimetype": "text/x-python",
   "name": "python",
   "nbconvert_exporter": "python",
   "pygments_lexer": "ipython3",
   "version": "3.7.9-final"
  },
  "orig_nbformat": 2,
  "kernelspec": {
   "name": "python3",
   "display_name": "Python 3.7.9 64-bit ('sqlbert': conda)",
   "metadata": {
    "interpreter": {
     "hash": "67cbffd8fcebc4529798a3385a23ac3870cb2239f9ea220cab21f84e25da5f54"
    }
   }
  }
 },
 "nbformat": 4,
 "nbformat_minor": 2,
 "cells": [
  {
   "cell_type": "code",
   "execution_count": 3,
   "metadata": {},
   "outputs": [],
   "source": [
    "import os\n",
    "from tqdm import tqdm\n",
    "from typing import Optional, List, Dict\n",
    "from dataclasses import dataclass, field\n",
    "\n",
    "import torch\n",
    "from transformers import AutoModel, AutoTokenizer\n",
    "\n",
    "# bluebert models\n",
    "BlueBERT_MODELCARD = [\n",
    "    'bionlp/bluebert_pubmed_mimic_uncased_L-12_H-768_A-12',\n",
    "    'bionlp/bluebert_pubmed_mimic_uncased_L-24_H-1024_A-16',\n",
    "    'bionlp/bluebert_pubmed_uncased_L-12_H-768_A-12',\n",
    "    'bionlp/bluebert_pubmed_uncased_L-24_H-1024_A-16'\n",
    "]\n",
    "\n",
    "# googlebert models\n",
    "GoogleBERT_MODELCARD = [\n",
    "    'google/bert_uncased_L-2_H-128_A-2', \n",
    "    'google/bert_uncased_L-4_H-128_A-2', \n",
    "    'google/bert_uncased_L-6_H-128_A-2', \n",
    "    'google/bert_uncased_L-2_H-512_A-2', \n",
    "    'google/bert_uncased_L-4_H-512_A-2', \n",
    "    'google/bert_uncased_L-6_H-512_A-2',\n",
    "]\n",
    "\n",
    "@dataclass\n",
    "class EhrKgNode2IdMapping:\n",
    "    '''\n",
    "    This class could be only implemented,\n",
    "    as the form of \"entity2id.txt\" (or \"node2id.txt\" in the feature)\n",
    "    '''\n",
    "    exp_path: str\n",
    "    file_name: str = field(default='entity2id.txt') # actually it means node2id.txt (they all have entities and literals)\n",
    "    kg_special_token_ids: dict = field(default_factory=lambda: {\"PAD\":0,\"MASK\":1})\n",
    "    skip_first_line: bool = True\n",
    "\n",
    "    def get_lines(self):\n",
    "        file_path = os.path.join(self.exp_path, self.file_name)\n",
    "        with open(file_path) as f:\n",
    "            lines = f.read().splitlines()\n",
    "            if self.skip_first_line:\n",
    "                lines = lines[1:]\n",
    "        return lines\n",
    "\n",
    "    def get_id2literal(self) -> dict:\n",
    "        lines = self.get_lines()\n",
    "        lines_literal = list(filter(None, [self._get_literal(line) for line in lines]))\n",
    "        id2literal = {self._make_id2key(line) : self._make_str2val(line) for line in lines_literal}\n",
    "        return id2literal\n",
    "\n",
    "    def get_id2entity(self) -> dict:\n",
    "        ''' actually means (entity => node)'''\n",
    "        lines = self.get_lines()\n",
    "        id2entity = {self._make_id2key(line) : self._make_str2val(line) for line in lines}\n",
    "        return id2entity\n",
    "\n",
    "    def _get_literal(self, line: str) -> str:\n",
    "        (node, node_id) = line.split('\\t')\n",
    "        _check_node = node.split('^^')\n",
    "        if len(_check_node) == 2:\n",
    "            literal = _check_node[0].replace(\"\\\"\",\"\") # clean \"\n",
    "            return literal + '\\t' + node_id\n",
    "\n",
    "    def _make_id2key(self, line: str) -> int:\n",
    "        _id = int(line.split('\\t')[1])\n",
    "        _add = len(self.kg_special_token_ids) # len(config.kg_special_token_ids)\n",
    "        key = (_id + _add)\n",
    "        return key\n",
    "\n",
    "    def _make_str2val(self, line: str) -> str:\n",
    "        val = line.split('\\t')[0].split('^^')[0]\n",
    "        return val\n",
    "\n",
    "\n",
    "_no_default = object()\n",
    "@dataclass\n",
    "class EhrKgNode2EmbeddingMapping(EhrKgNode2IdMapping):\n",
    "    \n",
    "    model_name_or_path: str = _no_default\n",
    "    # kg_special_token_ids: dict = field(default_factory={\"PAD\":0,\"MASK\":1})\n",
    "    # tokenizer_name: Optional[str] = field(\n",
    "    #     default=None, metadata={\"help\": \"Pretrained tokenizer name or path if not the same as model_name\"}\n",
    "    # )\n",
    "\n",
    "    def __post_init__(self):\n",
    "        if self.model_name_or_path is _no_default:\n",
    "            raise TypeError(\"__init__ missing 1 required argument: 'model_name_or_path'\")\n",
    "\n",
    "    def _load_model_and_tokenizer(self):\n",
    "        # load model\n",
    "        if self.model_name_or_path:\n",
    "            model = AutoModel.from_pretrained(self.model_name_or_path)\n",
    "        else:\n",
    "            raise ValueError(\"There is no (pre-trained) model name or path.\")\n",
    "        # load tokenizer\n",
    "        if self.model_name_or_path:\n",
    "            tokenizer = AutoTokenizer.from_pretrained(self.model_name_or_path)\n",
    "        else:\n",
    "            raise ValueError(\"There is no (pre-trained) tokenizer name or path.\")\n",
    "        return model, tokenizer\n",
    "\n",
    "    def get_literal_embeddings_from_model(self):\n",
    "        model, tokenizer = self._load_model_and_tokenizer() # load (pre-trained) model and tokenizer\n",
    "        id2literal = self.get_id2literal() # get mapping dict\n",
    "        \n",
    "        def _convert_to_model_input(literal: str, tokenizer) -> List[str]:\n",
    "            return tokenizer(text=literal, return_tensors='pt', padding=True, truncation=True)\n",
    "        \n",
    "        id2literalembedding = {}\n",
    "        for k, v in tqdm(id2literal.items()):\n",
    "            encoded_input = _convert_to_model_input(literal=v, tokenizer=tokenizer)\n",
    "            _, output = model(**encoded_input)\n",
    "            id2literalembedding[k] = output.cpu().detach()\n",
    "        return id2literalembedding\n",
    "\n",
    "    def save_literal_embeddings_from_model(self, save_file_dir: str, save_file_name: str = 'id2literalembedding.pt'):\n",
    "        if not os.path.isdir(save_file_dir):\n",
    "            os.mkdir(save_file_dir)\n",
    "        save_file_path = os.path.join(save_file_dir, save_file_name)\n",
    "        id2literalembedding = self.get_literal_embeddings_from_model()\n",
    "        torch.save(id2literalembedding, save_file_path)"
   ]
  },
  {
   "source": [
    "## 0. PATH"
   ],
   "cell_type": "markdown",
   "metadata": {}
  },
  {
   "cell_type": "code",
   "execution_count": 19,
   "metadata": {},
   "outputs": [
    {
     "output_type": "execute_result",
     "data": {
      "text/plain": [
       "'/Users/seongsu/Desktop/edlab/Jupiter/KG'"
      ]
     },
     "metadata": {},
     "execution_count": 19
    }
   ],
   "source": [
    "os.getcwd()"
   ]
  },
  {
   "cell_type": "code",
   "execution_count": 20,
   "metadata": {},
   "outputs": [],
   "source": [
    "EXP_PATH = os.getcwd() # file directory\n",
    "FILE_NAME = 'entity2id.txt' # mapping file"
   ]
  },
  {
   "source": [
    "## 1. EhrKgNode2IdMapping"
   ],
   "cell_type": "markdown",
   "metadata": {}
  },
  {
   "cell_type": "code",
   "execution_count": 21,
   "metadata": {},
   "outputs": [],
   "source": [
    "ehrkg_node2id_mapping = EhrKgNode2IdMapping(exp_path=EXP_PATH,\n",
    "                                            file_name=FILE_NAME,\n",
    "                                            kg_special_token_ids={\"PAD\":0,\"MASK\":1},\n",
    "                                            skip_first_line=True)"
   ]
  },
  {
   "source": [
    "### get id2entity: dict"
   ],
   "cell_type": "markdown",
   "metadata": {}
  },
  {
   "cell_type": "code",
   "execution_count": 22,
   "metadata": {},
   "outputs": [],
   "source": [
    "id2entity = ehrkg_node_mapping.get_id2entity()"
   ]
  },
  {
   "source": [
    "### get id2literal: dict"
   ],
   "cell_type": "markdown",
   "metadata": {}
  },
  {
   "cell_type": "code",
   "execution_count": 23,
   "metadata": {},
   "outputs": [],
   "source": [
    "id2literal = ehrkg_node_mapping.get_id2literal()"
   ]
  },
  {
   "source": [
    "## 2. EhrKgNode2EmbeddingMapping"
   ],
   "cell_type": "markdown",
   "metadata": {}
  },
  {
   "cell_type": "code",
   "execution_count": 25,
   "metadata": {},
   "outputs": [
    {
     "output_type": "stream",
     "name": "stdout",
     "text": [
      "google/bert_uncased_L-6_H-128_A-2\n"
     ]
    }
   ],
   "source": [
    "model_name_or_path = GoogleBERT_MODELCARD[2]\n",
    "print(model_name_or_path)"
   ]
  },
  {
   "cell_type": "code",
   "execution_count": 26,
   "metadata": {},
   "outputs": [],
   "source": [
    "ehrkg_node2embedding_mapping = EhrKgNode2EmbeddingMapping(exp_path=EXP_PATH,\n",
    "                                                          file_name=FILE_NAME,\n",
    "                                                          kg_special_token_ids={\"PAD\":0,\"MASK\":1},\n",
    "                                                          skip_first_line=True,\n",
    "                                                          model_name_or_path=model_name_or_path)"
   ]
  },
  {
   "source": [
    "### get id2literalembeddings: dict"
   ],
   "cell_type": "markdown",
   "metadata": {}
  },
  {
   "cell_type": "code",
   "execution_count": 28,
   "metadata": {},
   "outputs": [
    {
     "output_type": "stream",
     "name": "stderr",
     "text": [
      "  0%|          | 0/9103 [00:00<?, ?it/s]Asking to truncate to max_length but no maximum length is provided and the model has no predefined maximum length. Default to no truncation.\n",
      "100%|██████████| 9103/9103 [01:26<00:00, 104.68it/s]\n"
     ]
    }
   ],
   "source": [
    "id2literalembeddings = ehrkg_node2embedding_mapping.get_literal_embeddings_from_model()"
   ]
  },
  {
   "source": [
    "### save id2literalembeddings"
   ],
   "cell_type": "markdown",
   "metadata": {}
  },
  {
   "cell_type": "code",
   "execution_count": 29,
   "metadata": {},
   "outputs": [
    {
     "output_type": "stream",
     "name": "stderr",
     "text": [
      "  0%|          | 0/9103 [00:00<?, ?it/s]Asking to truncate to max_length but no maximum length is provided and the model has no predefined maximum length. Default to no truncation.\n",
      "100%|██████████| 9103/9103 [00:38<00:00, 236.54it/s]\n"
     ]
    }
   ],
   "source": [
    "SAVE_FILE_DIR = os.getcwd()\n",
    "ehr_kg_embedding_mapping.save_literal_embeddings_from_model(save_file_dir=SAVE_FILE_DIR)"
   ]
  }
 ]
}