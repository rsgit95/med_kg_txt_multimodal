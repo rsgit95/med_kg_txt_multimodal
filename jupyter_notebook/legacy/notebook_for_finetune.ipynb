{
 "cells": [
  {
   "cell_type": "code",
   "execution_count": 1,
   "metadata": {
    "scrolled": true
   },
   "outputs": [],
   "source": [
    "%load_ext autoreload\n",
    "%autoreload 2"
   ]
  },
  {
   "cell_type": "markdown",
   "metadata": {},
   "source": [
    "# 0. environment setting (from `run.py`)"
   ]
  },
  {
   "cell_type": "markdown",
   "metadata": {},
   "source": [
    "#### Path Setting\n",
    "- exectuion path: `/{your_own_env}/kg_txt_multimodal/lxmert`\n",
    "- src path: `/{your_own_env}/kg_txt_multimodal/lxmert/src`\n",
    "    - sys.path.append(src_path)"
   ]
  },
  {
   "cell_type": "code",
   "execution_count": 2,
   "metadata": {},
   "outputs": [],
   "source": [
    "import os\n",
    "os.getcwd()"
   ]
  },
  {
   "cell_type": "code",
   "execution_count": 3,
   "metadata": {},
   "outputs": [
    {
     "data": {
      "text/plain": [
       "'/home/ubuntu/project'"
      ]
     },
     "execution_count": 3,
     "metadata": {},
     "output_type": "execute_result"
    }
   ],
   "source": [
    "os.path.abspath('../..')"
   ]
  },
  {
   "cell_type": "code",
   "execution_count": 4,
   "metadata": {},
   "outputs": [],
   "source": [
    "os.chdir('/home/ubuntu/project/kg_txt_multimodal/lxmert')"
   ]
  },
  {
   "cell_type": "code",
   "execution_count": 5,
   "metadata": {},
   "outputs": [],
   "source": [
    "import sys\n",
    "sys.path.append('src/')"
   ]
  },
  {
   "cell_type": "markdown",
   "metadata": {},
   "source": [
    "#### running configuration setting (important)\n",
    "- you should look `assert` block"
   ]
  },
  {
   "cell_type": "code",
   "execution_count": 6,
   "metadata": {},
   "outputs": [],
   "source": [
    "# From Huggingface transformers package\n",
    "from transformers import (\n",
    "    CONFIG_MAPPING,\n",
    "    MODEL_WITH_LM_HEAD_MAPPING,\n",
    "    LxmertConfig,\n",
    "    LxmertTokenizer,\n",
    "    PreTrainedTokenizer,\n",
    "    HfArgumentParser,\n",
    "    TrainingArguments,\n",
    "    Trainer,\n",
    "    set_seed,\n",
    ")\n",
    "\n",
    "import numpy as np\n",
    "import matplotlib.pyplot as plt\n",
    "\n",
    "import torch\n",
    "\n",
    "import networkx as nx"
   ]
  },
  {
   "cell_type": "code",
   "execution_count": 7,
   "metadata": {},
   "outputs": [],
   "source": [
    "# FLAGS\n",
    "os.environ[\"CUDA_VISIBLE_DEVICES\"] = '0'\n",
    "TASK_NAME = 'binary_retrieval'\n",
    "DB = 'dxprx'\n",
    "MODEL_TYPE = 'kg'\n",
    "CONFIGURE = 'H128_L2,2,4'\n",
    "UNIFIED = True\n",
    "\n",
    "# Variables\n",
    "Var_TASK = {}\n",
    "Var_MODEL = {'both':'KGenc_LMinit', 'lm':'LMinit', 'kg':'KGenc', 'rand':'Randinit'}\n",
    "Var_UNIFIED = 'Unified' if UNIFIED else ''\n",
    "assert MODEL_TYPE in Var_MODEL, \"Model not supported\"\n",
    "assert DB in ['px','dxprx'], \"DB not supported\"\n",
    "assert TASK_NAME in ['pretrain','binary_retrieval'], \"Task not supported\"\n",
    "\n",
    "# Model Name\n",
    "## <LMinit & KGenc> : both, <LMinit only> : lm, <KGenc only> : kg, <RandomInit> : rand\n",
    "## Unified(Placeholder) for Abstract Node : True or False\n",
    "MODEL_NAME = f'{DB}_{Var_UNIFIED}{\"Uni\" if MODEL_TYPE in [\"both\",\"kg\"] else \"No\"}KGenc'\n",
    "RUN_NAME = f'{Var_MODEL[MODEL_TYPE]}_{CONFIGURE}_{Var_UNIFIED}{DB}'\n",
    "\n",
    "# Paths\n",
    "EXP_PATH = os.getcwd()"
   ]
  },
  {
   "cell_type": "code",
   "execution_count": 8,
   "metadata": {},
   "outputs": [],
   "source": [
    "# [ dxprx : 960 batches / 32 bsize ]\n",
    "# [ px : / 32 bsize\n",
    "TRAINING_CONFIG = {\n",
    "    \"model_type\":\"lxmert\",\n",
    "    \"do_train\": True,\n",
    "    \"evaluate_during_training\": True,\n",
    "    \"do_eval\": True,\n",
    "    \"prediction_loss_only\":False,\n",
    "    \"overwrite_output_dir\":True,\n",
    "    \"mlm_probability\": 0.15,\n",
    "    \"block_size\": 512,\n",
    "    \"per_device_train_batch_size\": 32,\n",
    "    \"per_device_eval_batch_size\": 4,\n",
    "    \"learning_rate\": 5e-4,\n",
    "    \"num_train_epochs\": 40,\n",
    "    \"logging_steps\": int(1920/20),\n",
    "    \"save_steps\": int(1e10),\n",
    "    \"eval_steps\": int(1920),\n",
    "    \"task\" : TASK_NAME,\n",
    "    \"train_data_file\": os.path.join(EXP_PATH,\"data/{}/train\".format(MODEL_NAME)),\n",
    "    \"eval_data_file\": os.path.join(EXP_PATH,\"data/{}/valid\".format(MODEL_NAME)),\n",
    "    #\"test_data_file\": os.path.join(EXP_PATH, \"data/{}/test\".format(MODEL_NAME)),\n",
    "    \"run_name\":f\"{TASK_NAME}_{RUN_NAME}\",\n",
    "    # for temporal\n",
    "    \"config_name\": None,\n",
    "    \"cache_dir\": None,\n",
    "    \"tokenizer_name\": None,\n",
    "    \"train_data_files\": None\n",
    "}\n",
    "\n",
    "if TASK_NAME == 'pretrain':\n",
    "    SRC_PATH = os.path.join(EXP_PATH, 'src/run_pretraining.py')\n",
    "    TRAINING_CONFIG['config_name'] = os.path.join(EXP_PATH, f\"config/config_{Var_UNIFIED}{DB}.json\")\n",
    "    TRAINING_CONFIG['tokenizer_name'] = \"bert-base-uncased\"\n",
    "    TRAINING_CONFIG['output_dir'] = os.path.join(EXP_PATH,\"pretrained_models/{}\".format(RUN_NAME))\n",
    "else:\n",
    "    SRC_PATH = os.path.join(EXP_PATH, 'src/run_downstream.py')\n",
    "    TRAINING_CONFIG['model_name_or_path'] = os.path.join(EXP_PATH, f'pretrained_models/{RUN_NAME}')\n",
    "    TRAINING_CONFIG['output_dir'] = os.path.join(EXP_PATH,f\"pretrained_models/{TASK_NAME}_{RUN_NAME}\")"
   ]
  },
  {
   "cell_type": "code",
   "execution_count": 9,
   "metadata": {},
   "outputs": [],
   "source": [
    "import easydict \n",
    "\n",
    "args = easydict.EasyDict(TRAINING_CONFIG)\n",
    "\n",
    "train_args = TrainingArguments(output_dir='test',\n",
    "                               do_train=True,\n",
    "                               do_eval=False,\n",
    "                               local_rank=-1,\n",
    "                               per_device_train_batch_size=4,    \n",
    "                               learning_rate=1e-3,\n",
    "                               num_train_epochs=1,\n",
    "                              seed=1234)\n",
    "\n",
    "set_seed(train_args.seed)"
   ]
  },
  {
   "cell_type": "code",
   "execution_count": 10,
   "metadata": {},
   "outputs": [],
   "source": [
    "import easydict \n",
    "\n",
    "args = easydict.EasyDict(TRAINING_CONFIG)\n",
    "\n",
    "train_args = TrainingArguments(output_dir='test',\n",
    "                               do_train=True,\n",
    "                               do_eval=False,\n",
    "                               local_rank=-1,\n",
    "                               per_device_train_batch_size=32,    \n",
    "                               learning_rate=1e-3,\n",
    "                               num_train_epochs=1,\n",
    "                              seed=1234)\n",
    "\n",
    "# set_seed(train_args.seed)"
   ]
  },
  {
   "cell_type": "code",
   "execution_count": 11,
   "metadata": {},
   "outputs": [],
   "source": [
    "if Var_UNIFIED in MODEL_NAME:\n",
    "    KG_LABEL_PATH = os.path.join(EXP_PATH, f\"data/{MODEL_NAME}/node2uninode\")\n",
    "else:\n",
    "    KG_LABEL_PATH = os.path.join(EXP_PATH, f\"data/{MODEL_NAME}/id2label\")"
   ]
  },
  {
   "cell_type": "markdown",
   "metadata": {},
   "source": [
    "# 1. Load config/tokenizer/model"
   ]
  },
  {
   "cell_type": "markdown",
   "metadata": {},
   "source": [
    "#### Load configuration"
   ]
  },
  {
   "cell_type": "code",
   "execution_count": 12,
   "metadata": {},
   "outputs": [],
   "source": [
    "if args.config_name:\n",
    "    config = LxmertConfig.from_pretrained(args.config_name, cache_dir=args.cache_dir)\n",
    "elif args.model_name_or_path:\n",
    "    config = LxmertConfig.from_pretrained(args.model_name_or_path, cache_dir=args.cache_dir)\n",
    "else:\n",
    "    config = CONFIG_MAPPING[args.model_type]()\n",
    "    logger.warning(\"You are instantiating a new config instance from scratch.\")"
   ]
  },
  {
   "cell_type": "markdown",
   "metadata": {},
   "source": [
    "#### Load tokenizer"
   ]
  },
  {
   "cell_type": "code",
   "execution_count": 13,
   "metadata": {},
   "outputs": [],
   "source": [
    "if args.tokenizer_name:\n",
    "    tokenizer = LxmertTokenizer.from_pretrained(args.tokenizer_name, cache_dir=args.cache_dir)\n",
    "elif args.model_name_or_path:\n",
    "    tokenizer = LxmertTokenizer.from_pretrained(args.model_name_or_path, cache_dir=args.cache_dir)\n",
    "else:\n",
    "    raise ValueError(\n",
    "        \"You are instantiating a new tokenizer from scratch. This is not supported, but you can do it from another script, save it,\"\n",
    "        \"and load it from here, using --tokenizer_name\"\n",
    "    )\n",
    "if ((config.num_attention_heads % config.num_relations) != 0) and config.gcn and ('Multi' in args.output_dir):\n",
    "    raise ValueError(\n",
    "        \"# attentions heads must be divisible by # relations\"\n",
    "    )"
   ]
  },
  {
   "cell_type": "markdown",
   "metadata": {},
   "source": [
    "#### Load model"
   ]
  },
  {
   "cell_type": "code",
   "execution_count": 14,
   "metadata": {},
   "outputs": [
    {
     "name": "stderr",
     "output_type": "stream",
     "text": [
      "Some weights of the model checkpoint at /home/ubuntu/project/kg_txt_multimodal/lxmert/pretrained_models/KGenc_H128_L2,2,4_Unifieddxprx were not used when initializing LxmertForRanking: ['classifier.weight', 'classifier.bias', 'lm_head.predictions.bias', 'lm_head.predictions.transform.dense.weight', 'lm_head.predictions.transform.dense.bias', 'lm_head.predictions.transform.LayerNorm.weight', 'lm_head.predictions.transform.LayerNorm.bias', 'lm_head.predictions.decoder.weight', 'lm_head.seq_relationship.weight', 'lm_head.seq_relationship.bias', 'lxmert.pooler.dense.weight', 'lxmert.pooler.dense.bias']\n",
      "- This IS expected if you are initializing LxmertForRanking from the checkpoint of a model trained on another task or with another architecture (e.g. initializing a BertForSequenceClassification model from a BertForPreTraining model).\n",
      "- This IS NOT expected if you are initializing LxmertForRanking from the checkpoint of a model that you expect to be exactly identical (initializing a BertForSequenceClassification model from a BertForSequenceClassification model).\n",
      "Some weights of LxmertForRanking were not initialized from the model checkpoint at /home/ubuntu/project/kg_txt_multimodal/lxmert/pretrained_models/KGenc_H128_L2,2,4_Unifieddxprx and are newly initialized: ['lxmert.pooler.pooler.0.weight', 'lxmert.pooler.pooler.0.bias', 'lxmert.pooler.pooler.2.weight', 'lxmert.pooler.pooler.2.bias']\n",
      "You should probably TRAIN this model on a down-stream task to be able to use it for predictions and inference.\n"
     ]
    }
   ],
   "source": [
    "from model import LxmertForRanking\n",
    "\n",
    "if args.model_name_or_path:\n",
    "    model = LxmertForRanking.from_pretrained(\n",
    "        args.model_name_or_path,\n",
    "        from_tf=bool(\".ckpt\" in args.model_name_or_path),\n",
    "        config=config,\n",
    "        cache_dir=args.cache_dir,\n",
    "    )\n",
    "else:\n",
    "    logger.info(\"Training new model from scratch\")\n",
    "    model = LxmertForRanking(config)"
   ]
  },
  {
   "cell_type": "markdown",
   "metadata": {},
   "source": [
    "## 2. Load datasets"
   ]
  },
  {
   "cell_type": "code",
   "execution_count": 15,
   "metadata": {},
   "outputs": [],
   "source": [
    "from utils.dataset import get_dataset\n",
    "\n",
    "# Get datasets\n",
    "train_dataset = (\n",
    "    get_dataset(args, tokenizer=tokenizer, kg_pad=config.kg_special_token_ids[\"PAD\"]) if args.do_train else None\n",
    ")\n",
    "eval_dataset = (\n",
    "    get_dataset(args, tokenizer=tokenizer, kg_pad=config.kg_special_token_ids[\"PAD\"], evaluate=True)\n",
    "    if args.do_eval\n",
    "    else None\n",
    ")"
   ]
  },
  {
   "cell_type": "markdown",
   "metadata": {},
   "source": [
    "### check dataset"
   ]
  },
  {
   "cell_type": "code",
   "execution_count": 16,
   "metadata": {},
   "outputs": [
    {
     "data": {
      "text/plain": [
       "'/home/ubuntu/project/kg_txt_multimodal/lxmert/data/dxprx_UnifiedUniKGenc/train'"
      ]
     },
     "execution_count": 16,
     "metadata": {},
     "output_type": "execute_result"
    }
   ],
   "source": [
    "args.train_data_file"
   ]
  },
  {
   "cell_type": "code",
   "execution_count": 17,
   "metadata": {},
   "outputs": [
    {
     "data": {
      "text/plain": [
       "30061"
      ]
     },
     "execution_count": 17,
     "metadata": {},
     "output_type": "execute_result"
    }
   ],
   "source": [
    "len(train_dataset)"
   ]
  },
  {
   "cell_type": "code",
   "execution_count": 18,
   "metadata": {},
   "outputs": [],
   "source": [
    "idx = 30000\n",
    "# by vars, InputFeatures class to dict class\n",
    "sample = vars(train_dataset.features[idx])"
   ]
  },
  {
   "cell_type": "code",
   "execution_count": 19,
   "metadata": {
    "scrolled": false
   },
   "outputs": [
    {
     "data": {
      "text/plain": [
       "dict_keys(['lang_input_ids', 'kg_input_ids', 'lang_attention_mask', 'kg_attention_mask', 'kg_label_mask', 'kg_label', 'token_type_ids'])"
      ]
     },
     "execution_count": 19,
     "metadata": {},
     "output_type": "execute_result"
    }
   ],
   "source": [
    "sample.keys()"
   ]
  },
  {
   "cell_type": "markdown",
   "metadata": {},
   "source": [
    "#### check dataset - text side"
   ]
  },
  {
   "cell_type": "code",
   "execution_count": 20,
   "metadata": {},
   "outputs": [
    {
     "name": "stdout",
     "output_type": "stream",
     "text": [
      "mean(length): 47.3299956754599\n",
      "std(length): 43.9053928911847\n",
      "max(length): 511\n",
      "min(length): 3\n"
     ]
    },
    {
     "data": {
      "image/png": "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\n",
      "text/plain": [
       "<Figure size 432x288 with 1 Axes>"
      ]
     },
     "metadata": {
      "needs_background": "light"
     },
     "output_type": "display_data"
    }
   ],
   "source": [
    "# check train_dataset information in text part\n",
    "total_len = []\n",
    "pad_token_id = tokenizer.pad_token_id\n",
    "\n",
    "for idx in range(len(train_dataset)):\n",
    "    cur_len = len([i for i in train_dataset.features[idx].lang_input_ids if i != pad_token_id])\n",
    "    cur_len -= 1 # exclude [CLS]\n",
    "    total_len.append(cur_len)\n",
    "        \n",
    "_ = plt.hist(total_len, bins=100)\n",
    "print('mean(length):', np.average(total_len))\n",
    "print('std(length):', np.std(total_len))\n",
    "print('max(length):', np.max(total_len))\n",
    "print('min(length):', np.min(total_len))"
   ]
  },
  {
   "cell_type": "code",
   "execution_count": 21,
   "metadata": {},
   "outputs": [
    {
     "name": "stdout",
     "output_type": "stream",
     "text": [
      "all tokens w/ padding tokens (text part): 512\n",
      "all tokens wo/ padding tokens (text part): 73\n",
      "all 1's in attention mask (text part): 73\n"
     ]
    }
   ],
   "source": [
    "print('all tokens w/ padding tokens (text part):', len(sample['lang_input_ids']))\n",
    "print('all tokens wo/ padding tokens (text part):', len([i for i in sample['lang_input_ids'] if i != pad_token_id]) )\n",
    "\n",
    "print('all 1\\'s in attention mask (text part):', len([i for i in sample['lang_attention_mask'] if i != 0]))"
   ]
  },
  {
   "cell_type": "code",
   "execution_count": 22,
   "metadata": {
    "scrolled": true
   },
   "outputs": [
    {
     "data": {
      "text/plain": [
       "'s / p cabgx4 af tachy - brady syndrome past pci hypercholesterolemia htn mild ar h / o lymphoma h / o diverticulitis - cabgx4 ( lima - lad, svg - > diag, svg - > om1, svg - > om2 )'"
      ]
     },
     "execution_count": 22,
     "metadata": {},
     "output_type": "execute_result"
    }
   ],
   "source": [
    "tokenizer.decode(sample['lang_input_ids'], skip_special_tokens=True)"
   ]
  },
  {
   "cell_type": "markdown",
   "metadata": {},
   "source": [
    "#### check dataset - graph side"
   ]
  },
  {
   "cell_type": "code",
   "execution_count": 23,
   "metadata": {},
   "outputs": [
    {
     "name": "stdout",
     "output_type": "stream",
     "text": [
      "mean(branch): 17.381269197077057\n",
      "std(branch): 8.915094855179118\n",
      "max(branch): 77.0\n",
      "min(branch): 1.0\n"
     ]
    },
    {
     "data": {
      "image/png": "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\n",
      "text/plain": [
       "<Figure size 432x288 with 1 Axes>"
      ]
     },
     "metadata": {
      "needs_background": "light"
     },
     "output_type": "display_data"
    }
   ],
   "source": [
    "# check train_dataset information in text part\n",
    "total_len = []\n",
    "pad_token_id = config.kg_special_token_ids['PAD']\n",
    "\n",
    "for idx in range(len(train_dataset)):\n",
    "    cur_len = len([i for i in train_dataset.features[idx].kg_input_ids if i != pad_token_id])\n",
    "    cur_len -= 2 # exclude [CLS], [HADM]\n",
    "    cur_len /= 3 # each branch has 3 nodes (ex. px - px_icd - literal)\n",
    "    total_len.append(cur_len)\n",
    "    \n",
    "# including abstract node    \n",
    "_ = plt.hist(total_len, bins=100)\n",
    "print('mean(branch):', np.average(total_len))\n",
    "print('std(branch):', np.std(total_len))\n",
    "print('max(branch):', np.max(total_len))\n",
    "print('min(branch):', np.min(total_len))"
   ]
  },
  {
   "cell_type": "code",
   "execution_count": 24,
   "metadata": {},
   "outputs": [],
   "source": [
    "# get label in kg part\n",
    "node2id = torch.load(KG_LABEL_PATH)\n",
    "id2node = {v:k for k, v in node2id.items()}\n",
    "assert len(id2node.keys()) == config.vocab_size['kg']"
   ]
  },
  {
   "cell_type": "code",
   "execution_count": 25,
   "metadata": {
    "scrolled": true
   },
   "outputs": [
    {
     "name": "stdout",
     "output_type": "stream",
     "text": [
      "all tokens w/ padding tokens (graph part): 240\n",
      "all tokens wo/ padding tokens (graph part): 47\n"
     ]
    }
   ],
   "source": [
    "print('all tokens w/ padding tokens (graph part):', len(sample['kg_input_ids']))\n",
    "sample_kg_input_len = len([i for i in sample['kg_input_ids'] if i != config.kg_special_token_ids['PAD']]) \n",
    "print('all tokens wo/ padding tokens (graph part):', sample_kg_input_len)"
   ]
  },
  {
   "cell_type": "code",
   "execution_count": 26,
   "metadata": {},
   "outputs": [],
   "source": [
    "sample_A = sample['kg_attention_mask'].numpy()[:sample_kg_input_len, :sample_kg_input_len]"
   ]
  },
  {
   "cell_type": "code",
   "execution_count": 27,
   "metadata": {},
   "outputs": [],
   "source": [
    "def show_graph_with_labels(adjacency_matrix, mylabels):\n",
    "    rows, cols = np.where(adjacency_matrix == 1)\n",
    "    edges = zip(rows.tolist(), cols.tolist())\n",
    "    G = nx.Graph()\n",
    "    G.add_edges_from(edges)\n",
    "    pos = nx.spring_layout(G, k=2/(G.order()**0.5))\n",
    "    nx.draw(G, pos, node_size=800, labels=mylabels, with_labels=True)\n",
    "    plt.show()"
   ]
  },
  {
   "cell_type": "code",
   "execution_count": 28,
   "metadata": {
    "scrolled": true
   },
   "outputs": [],
   "source": [
    "sample_id2node = {i:id2node[k].split('^^')[0] for i, k in enumerate(sample['kg_input_ids']) if k != config.kg_special_token_ids['PAD']}"
   ]
  },
  {
   "cell_type": "code",
   "execution_count": 29,
   "metadata": {
    "scrolled": false
   },
   "outputs": [
    {
     "data": {
      "image/png": "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