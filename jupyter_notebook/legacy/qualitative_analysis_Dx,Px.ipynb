{
 "cells": [
  {
   "cell_type": "markdown",
   "metadata": {},
   "source": [
    "# Dx(Diagnosis), Px(Procedures)"
   ]
  },
  {
   "cell_type": "markdown",
   "metadata": {},
   "source": [
    "---\n",
    "\n",
    "# Results1: attention score"
   ]
  },
  {
   "cell_type": "markdown",
   "metadata": {},
   "source": [
    "## base setting"
   ]
  },
  {
   "cell_type": "code",
   "execution_count": 1,
   "metadata": {},
   "outputs": [],
   "source": [
    "import os\n",
    "import sys \n",
    "import easydict\n",
    "\n",
    "from tqdm import tqdm"
   ]
  },
  {
   "cell_type": "code",
   "execution_count": 2,
   "metadata": {},
   "outputs": [],
   "source": [
    "EXP_PATH = '/home/ssbae/bae/kg_txt_multimodal/lxmert'\n",
    "sys.path.append(EXP_PATH + '/src')"
   ]
  },
  {
   "cell_type": "code",
   "execution_count": 3,
   "metadata": {},
   "outputs": [],
   "source": [
    "from transformers import LxmertTokenizer, LxmertConfig\n",
    "from model import LxmertForKGTokPredAndMaskedLM, LxmertForRanking, LxmertForGeneration, LxmertModel\n",
    "\n",
    "from utils.dataset import get_dataset\n",
    "from utils.data_collator import NegativeSampling_DataCollator, Evaluation_DataCollator\n",
    "\n",
    "import torch\n",
    "from torch.utils.data.sampler import RandomSampler, SequentialSampler\n",
    "from torch.utils.data import ConcatDataset, DataLoader"
   ]
  },
  {
   "cell_type": "code",
   "execution_count": 4,
   "metadata": {},
   "outputs": [],
   "source": [
    "MODEL_PATH = 'KGenc_LMinit_H128_L2,2,4_Align_RC_Unified2000_RNG1234'"
   ]
  },
  {
   "cell_type": "code",
   "execution_count": 5,
   "metadata": {},
   "outputs": [],
   "source": [
    "model_args = easydict.EasyDict({\n",
    "    \"model_name_or_path\": os.path.join(EXP_PATH, f'pretrained_models/pretrain/dx,prx/{MODEL_PATH}'),\n",
    "    \"tokenizer_name\": 'bert-base-uncased',\n",
    "    \"cache_dir\": None,\n",
    "})\n",
    "\n",
    "data_args = easydict.EasyDict({\n",
    "    \"eval_data_file\": os.path.join(EXP_PATH, \"data/dx,prx_2000/dx,prx_UnifiedUniKGenc/valid\"),\n",
    "    \"test_data_file\": os.path.join(EXP_PATH, \"data/dx,prx_2000/dx,prx_UnifiedUniKGenc/test\"),\n",
    "    \"block_size\": 512,\n",
    "})\n",
    "\n",
    "training_args = easydict.EasyDict({\n",
    "    \"per_device_eval_batch_size\": 1,\n",
    "    \"task\": \"pretrain\",\n",
    "    \"device\": torch.device(\"cuda:0\" if torch.cuda.is_available() else \"cpu\"),\n",
    "    \"do_eval\": True,\n",
    "})"
   ]
  },
  {
   "cell_type": "markdown",
   "metadata": {},
   "source": [
    "### load config, tokenizer, and model"
   ]
  },
  {
   "cell_type": "code",
   "execution_count": 6,
   "metadata": {},
   "outputs": [
    {
     "name": "stderr",
     "output_type": "stream",
     "text": [
      "404 Client Error: Not Found for url: https://huggingface.co//home/ssbae/bae/kg_txt_multimodal/lxmert/pretrained_models/pretrain/dx,prx/KGenc_LMinit_H128_L2,2,4_Align_RC_Unified2000_RNG1234/resolve/main/config.json\n"
     ]
    },
    {
     "ename": "OSError",
     "evalue": "Can't load config for '/home/ssbae/bae/kg_txt_multimodal/lxmert/pretrained_models/pretrain/dx,prx/KGenc_LMinit_H128_L2,2,4_Align_RC_Unified2000_RNG1234'. Make sure that:\n\n- '/home/ssbae/bae/kg_txt_multimodal/lxmert/pretrained_models/pretrain/dx,prx/KGenc_LMinit_H128_L2,2,4_Align_RC_Unified2000_RNG1234' is a correct model identifier listed on 'https://huggingface.co/models'\n\n- or '/home/ssbae/bae/kg_txt_multimodal/lxmert/pretrained_models/pretrain/dx,prx/KGenc_LMinit_H128_L2,2,4_Align_RC_Unified2000_RNG1234' is the correct path to a directory containing a config.json file\n\n",
     "output_type": "error",
     "traceback": [
      "\u001b[0;31m---------------------------------------------------------------------------\u001b[0m",
      "\u001b[0;31mHTTPError\u001b[0m                                 Traceback (most recent call last)",
      "\u001b[0;32m~/anaconda3/envs/kgtext/lib/python3.7/site-packages/transformers/configuration_utils.py\u001b[0m in \u001b[0;36mget_config_dict\u001b[0;34m(cls, pretrained_model_name_or_path, **kwargs)\u001b[0m\n\u001b[1;32m    387\u001b[0m                 \u001b[0mresume_download\u001b[0m\u001b[0;34m=\u001b[0m\u001b[0mresume_download\u001b[0m\u001b[0;34m,\u001b[0m\u001b[0;34m\u001b[0m\u001b[0;34m\u001b[0m\u001b[0m\n\u001b[0;32m--> 388\u001b[0;31m                 \u001b[0mlocal_files_only\u001b[0m\u001b[0;34m=\u001b[0m\u001b[0mlocal_files_only\u001b[0m\u001b[0;34m,\u001b[0m\u001b[0;34m\u001b[0m\u001b[0;34m\u001b[0m\u001b[0m\n\u001b[0m\u001b[1;32m    389\u001b[0m             )\n",
      "\u001b[0;32m~/anaconda3/envs/kgtext/lib/python3.7/site-packages/transformers/file_utils.py\u001b[0m in \u001b[0;36mcached_path\u001b[0;34m(url_or_filename, cache_dir, force_download, proxies, resume_download, user_agent, extract_compressed_file, force_extract, local_files_only)\u001b[0m\n\u001b[1;32m    954\u001b[0m             \u001b[0muser_agent\u001b[0m\u001b[0;34m=\u001b[0m\u001b[0muser_agent\u001b[0m\u001b[0;34m,\u001b[0m\u001b[0;34m\u001b[0m\u001b[0;34m\u001b[0m\u001b[0m\n\u001b[0;32m--> 955\u001b[0;31m             \u001b[0mlocal_files_only\u001b[0m\u001b[0;34m=\u001b[0m\u001b[0mlocal_files_only\u001b[0m\u001b[0;34m,\u001b[0m\u001b[0;34m\u001b[0m\u001b[0;34m\u001b[0m\u001b[0m\n\u001b[0m\u001b[1;32m    956\u001b[0m         )\n",
      "\u001b[0;32m~/anaconda3/envs/kgtext/lib/python3.7/site-packages/transformers/file_utils.py\u001b[0m in \u001b[0;36mget_from_cache\u001b[0;34m(url, cache_dir, force_download, proxies, etag_timeout, resume_download, user_agent, local_files_only)\u001b[0m\n\u001b[1;32m   1075\u001b[0m             \u001b[0mr\u001b[0m \u001b[0;34m=\u001b[0m \u001b[0mrequests\u001b[0m\u001b[0;34m.\u001b[0m\u001b[0mhead\u001b[0m\u001b[0;34m(\u001b[0m\u001b[0murl\u001b[0m\u001b[0;34m,\u001b[0m \u001b[0mheaders\u001b[0m\u001b[0;34m=\u001b[0m\u001b[0mheaders\u001b[0m\u001b[0;34m,\u001b[0m \u001b[0mallow_redirects\u001b[0m\u001b[0;34m=\u001b[0m\u001b[0;32mFalse\u001b[0m\u001b[0;34m,\u001b[0m \u001b[0mproxies\u001b[0m\u001b[0;34m=\u001b[0m\u001b[0mproxies\u001b[0m\u001b[0;34m,\u001b[0m \u001b[0mtimeout\u001b[0m\u001b[0;34m=\u001b[0m\u001b[0metag_timeout\u001b[0m\u001b[0;34m)\u001b[0m\u001b[0;34m\u001b[0m\u001b[0;34m\u001b[0m\u001b[0m\n\u001b[0;32m-> 1076\u001b[0;31m             \u001b[0mr\u001b[0m\u001b[0;34m.\u001b[0m\u001b[0mraise_for_status\u001b[0m\u001b[0;34m(\u001b[0m\u001b[0;34m)\u001b[0m\u001b[0;34m\u001b[0m\u001b[0;34m\u001b[0m\u001b[0m\n\u001b[0m\u001b[1;32m   1077\u001b[0m             \u001b[0metag\u001b[0m \u001b[0;34m=\u001b[0m \u001b[0mr\u001b[0m\u001b[0;34m.\u001b[0m\u001b[0mheaders\u001b[0m\u001b[0;34m.\u001b[0m\u001b[0mget\u001b[0m\u001b[0;34m(\u001b[0m\u001b[0;34m\"X-Linked-Etag\"\u001b[0m\u001b[0;34m)\u001b[0m \u001b[0;32mor\u001b[0m \u001b[0mr\u001b[0m\u001b[0;34m.\u001b[0m\u001b[0mheaders\u001b[0m\u001b[0;34m.\u001b[0m\u001b[0mget\u001b[0m\u001b[0;34m(\u001b[0m\u001b[0;34m\"ETag\"\u001b[0m\u001b[0;34m)\u001b[0m\u001b[0;34m\u001b[0m\u001b[0;34m\u001b[0m\u001b[0m\n",
      "\u001b[0;32m~/anaconda3/envs/kgtext/lib/python3.7/site-packages/requests/models.py\u001b[0m in \u001b[0;36mraise_for_status\u001b[0;34m(self)\u001b[0m\n\u001b[1;32m    942\u001b[0m         \u001b[0;32mif\u001b[0m \u001b[0mhttp_error_msg\u001b[0m\u001b[0;34m:\u001b[0m\u001b[0;34m\u001b[0m\u001b[0;34m\u001b[0m\u001b[0m\n\u001b[0;32m--> 943\u001b[0;31m             \u001b[0;32mraise\u001b[0m \u001b[0mHTTPError\u001b[0m\u001b[0;34m(\u001b[0m\u001b[0mhttp_error_msg\u001b[0m\u001b[0;34m,\u001b[0m \u001b[0mresponse\u001b[0m\u001b[0;34m=\u001b[0m\u001b[0mself\u001b[0m\u001b[0;34m)\u001b[0m\u001b[0;34m\u001b[0m\u001b[0;34m\u001b[0m\u001b[0m\n\u001b[0m\u001b[1;32m    944\u001b[0m \u001b[0;34m\u001b[0m\u001b[0m\n",
      "\u001b[0;31mHTTPError\u001b[0m: 404 Client Error: Not Found for url: https://huggingface.co//home/ssbae/bae/kg_txt_multimodal/lxmert/pretrained_models/pretrain/dx,prx/KGenc_LMinit_H128_L2,2,4_Align_RC_Unified2000_RNG1234/resolve/main/config.json",
      "\nDuring handling of the above exception, another exception occurred:\n",
      "\u001b[0;31mOSError\u001b[0m                                   Traceback (most recent call last)",
      "\u001b[0;32m<ipython-input-6-4c5abf9ce91e>\u001b[0m in \u001b[0;36m<module>\u001b[0;34m\u001b[0m\n\u001b[0;32m----> 1\u001b[0;31m \u001b[0mconfig\u001b[0m \u001b[0;34m=\u001b[0m \u001b[0mLxmertConfig\u001b[0m\u001b[0;34m.\u001b[0m\u001b[0mfrom_pretrained\u001b[0m\u001b[0;34m(\u001b[0m\u001b[0mmodel_args\u001b[0m\u001b[0;34m.\u001b[0m\u001b[0mmodel_name_or_path\u001b[0m\u001b[0;34m,\u001b[0m \u001b[0mcache_dir\u001b[0m\u001b[0;34m=\u001b[0m\u001b[0mmodel_args\u001b[0m\u001b[0;34m.\u001b[0m\u001b[0mcache_dir\u001b[0m\u001b[0;34m)\u001b[0m\u001b[0;34m\u001b[0m\u001b[0;34m\u001b[0m\u001b[0m\n\u001b[0m\u001b[1;32m      2\u001b[0m \u001b[0mconfig\u001b[0m\u001b[0;34m.\u001b[0m\u001b[0muse_ce_pooler\u001b[0m \u001b[0;34m=\u001b[0m \u001b[0;32mTrue\u001b[0m\u001b[0;34m\u001b[0m\u001b[0;34m\u001b[0m\u001b[0m\n\u001b[1;32m      3\u001b[0m \u001b[0mconfig\u001b[0m\u001b[0;34m.\u001b[0m\u001b[0mcross_att_type\u001b[0m \u001b[0;34m=\u001b[0m \u001b[0;34m'cross'\u001b[0m\u001b[0;34m\u001b[0m\u001b[0;34m\u001b[0m\u001b[0m\n",
      "\u001b[0;32m~/anaconda3/envs/kgtext/lib/python3.7/site-packages/transformers/configuration_utils.py\u001b[0m in \u001b[0;36mfrom_pretrained\u001b[0;34m(cls, pretrained_model_name_or_path, **kwargs)\u001b[0m\n\u001b[1;32m    345\u001b[0m \u001b[0;34m\u001b[0m\u001b[0m\n\u001b[1;32m    346\u001b[0m         \"\"\"\n\u001b[0;32m--> 347\u001b[0;31m         \u001b[0mconfig_dict\u001b[0m\u001b[0;34m,\u001b[0m \u001b[0mkwargs\u001b[0m \u001b[0;34m=\u001b[0m \u001b[0mcls\u001b[0m\u001b[0;34m.\u001b[0m\u001b[0mget_config_dict\u001b[0m\u001b[0;34m(\u001b[0m\u001b[0mpretrained_model_name_or_path\u001b[0m\u001b[0;34m,\u001b[0m \u001b[0;34m**\u001b[0m\u001b[0mkwargs\u001b[0m\u001b[0;34m)\u001b[0m\u001b[0;34m\u001b[0m\u001b[0;34m\u001b[0m\u001b[0m\n\u001b[0m\u001b[1;32m    348\u001b[0m         \u001b[0;32mreturn\u001b[0m \u001b[0mcls\u001b[0m\u001b[0;34m.\u001b[0m\u001b[0mfrom_dict\u001b[0m\u001b[0;34m(\u001b[0m\u001b[0mconfig_dict\u001b[0m\u001b[0;34m,\u001b[0m \u001b[0;34m**\u001b[0m\u001b[0mkwargs\u001b[0m\u001b[0;34m)\u001b[0m\u001b[0;34m\u001b[0m\u001b[0;34m\u001b[0m\u001b[0m\n\u001b[1;32m    349\u001b[0m \u001b[0;34m\u001b[0m\u001b[0m\n",
      "\u001b[0;32m~/anaconda3/envs/kgtext/lib/python3.7/site-packages/transformers/configuration_utils.py\u001b[0m in \u001b[0;36mget_config_dict\u001b[0;34m(cls, pretrained_model_name_or_path, **kwargs)\u001b[0m\n\u001b[1;32m    398\u001b[0m                 \u001b[0;34mf\"- or '{pretrained_model_name_or_path}' is the correct path to a directory containing a {CONFIG_NAME} file\\n\\n\"\u001b[0m\u001b[0;34m\u001b[0m\u001b[0;34m\u001b[0m\u001b[0m\n\u001b[1;32m    399\u001b[0m             )\n\u001b[0;32m--> 400\u001b[0;31m             \u001b[0;32mraise\u001b[0m \u001b[0mEnvironmentError\u001b[0m\u001b[0;34m(\u001b[0m\u001b[0mmsg\u001b[0m\u001b[0;34m)\u001b[0m\u001b[0;34m\u001b[0m\u001b[0;34m\u001b[0m\u001b[0m\n\u001b[0m\u001b[1;32m    401\u001b[0m \u001b[0;34m\u001b[0m\u001b[0m\n\u001b[1;32m    402\u001b[0m         \u001b[0;32mexcept\u001b[0m \u001b[0mjson\u001b[0m\u001b[0;34m.\u001b[0m\u001b[0mJSONDecodeError\u001b[0m\u001b[0;34m:\u001b[0m\u001b[0;34m\u001b[0m\u001b[0;34m\u001b[0m\u001b[0m\n",
      "\u001b[0;31mOSError\u001b[0m: Can't load config for '/home/ssbae/bae/kg_txt_multimodal/lxmert/pretrained_models/pretrain/dx,prx/KGenc_LMinit_H128_L2,2,4_Align_RC_Unified2000_RNG1234'. Make sure that:\n\n- '/home/ssbae/bae/kg_txt_multimodal/lxmert/pretrained_models/pretrain/dx,prx/KGenc_LMinit_H128_L2,2,4_Align_RC_Unified2000_RNG1234' is a correct model identifier listed on 'https://huggingface.co/models'\n\n- or '/home/ssbae/bae/kg_txt_multimodal/lxmert/pretrained_models/pretrain/dx,prx/KGenc_LMinit_H128_L2,2,4_Align_RC_Unified2000_RNG1234' is the correct path to a directory containing a config.json file\n\n"
     ]
    }
   ],
   "source": [
    "config = LxmertConfig.from_pretrained(model_args.model_name_or_path, cache_dir=model_args.cache_dir)\n",
    "config.use_ce_pooler = True\n",
    "config.cross_att_type = 'cross'"
   ]
  },
  {
   "cell_type": "code",
   "execution_count": null,
   "metadata": {},
   "outputs": [],
   "source": [
    "tokenizer = LxmertTokenizer.from_pretrained(model_args.tokenizer_name, cache_dir=model_args.cache_dir)"
   ]
  },
  {
   "cell_type": "code",
   "execution_count": null,
   "metadata": {},
   "outputs": [],
   "source": [
    "# model = LxmertForKGTokPredAndMaskedLM.from_pretrained(model_args.model_name_or_path,\n",
    "#                                                       config=config)\n",
    "\n",
    "model = LxmertModel.from_pretrained(model_args.model_name_or_path,\n",
    "                                    config=config)"
   ]
  },
  {
   "cell_type": "markdown",
   "metadata": {},
   "source": [
    "### load dataset, data_collator (test)"
   ]
  },
  {
   "cell_type": "code",
   "execution_count": 14,
   "metadata": {
    "scrolled": true
   },
   "outputs": [
    {
     "name": "stderr",
     "output_type": "stream",
     "text": [
      "100%|██████████| 2000/2000 [00:03<00:00, 531.09it/s]\n",
      "100%|██████████| 2000/2000 [00:00<00:00, 11101.43it/s]\n"
     ]
    }
   ],
   "source": [
    "test_dataset = get_dataset(data_args, \n",
    "                           tokenizer=tokenizer, \n",
    "                           token_type_vocab=config.token_type_vocab,\n",
    "                           test=True) if training_args.do_eval else None"
   ]
  },
  {
   "cell_type": "code",
   "execution_count": 15,
   "metadata": {},
   "outputs": [],
   "source": [
    "data_collator = Evaluation_DataCollator(tokenizer=tokenizer,\n",
    "                                        kg_special_token_ids=config.kg_special_token_ids,\n",
    "                                        task=training_args.task)"
   ]
  },
  {
   "cell_type": "code",
   "execution_count": 16,
   "metadata": {},
   "outputs": [
    {
     "data": {
      "text/plain": [
       "LxmertModel(\n",
       "  (lang_embeddings): LxmertEmbeddings(\n",
       "    (word_embeddings): Embedding(30522, 128)\n",
       "    (position_embeddings): Embedding(512, 128)\n",
       "    (token_type_embeddings): Embedding(2, 128)\n",
       "    (LayerNorm): LayerNorm((128,), eps=1e-12, elementwise_affine=True)\n",
       "    (dropout): Dropout(p=0.1, inplace=False)\n",
       "  )\n",
       "  (kg_embeddings): LxmertEmbeddings(\n",
       "    (word_embeddings): Embedding(8057, 128)\n",
       "    (position_embeddings): Embedding(1024, 128)\n",
       "    (LayerNorm): LayerNorm((128,), eps=1e-12, elementwise_affine=True)\n",
       "    (dropout): Dropout(p=0.1, inplace=False)\n",
       "  )\n",
       "  (encoder): LxmertEncoder(\n",
       "    (layer): ModuleList(\n",
       "      (0): LxmertLayer(\n",
       "        (attention): LxmertSelfAttentionLayer(\n",
       "          (self): LxmertAttention(\n",
       "            (query): Linear(in_features=128, out_features=128, bias=True)\n",
       "            (key): Linear(in_features=128, out_features=128, bias=True)\n",
       "            (value): Linear(in_features=128, out_features=128, bias=True)\n",
       "            (dropout): Dropout(p=0.1, inplace=False)\n",
       "          )\n",
       "          (output): LxmertAttentionOutput(\n",
       "            (dense): Linear(in_features=128, out_features=128, bias=True)\n",
       "            (LayerNorm): LayerNorm((128,), eps=1e-12, elementwise_affine=True)\n",
       "            (dropout): Dropout(p=0.1, inplace=False)\n",
       "          )\n",
       "        )\n",
       "        (intermediate): LxmertIntermediate(\n",
       "          (dense): Linear(in_features=128, out_features=512, bias=True)\n",
       "        )\n",
       "        (output): LxmertOutput(\n",
       "          (dense): Linear(in_features=512, out_features=128, bias=True)\n",
       "          (LayerNorm): LayerNorm((128,), eps=1e-12, elementwise_affine=True)\n",
       "          (dropout): Dropout(p=0.1, inplace=False)\n",
       "        )\n",
       "      )\n",
       "      (1): LxmertLayer(\n",
       "        (attention): LxmertSelfAttentionLayer(\n",
       "          (self): LxmertAttention(\n",
       "            (query): Linear(in_features=128, out_features=128, bias=True)\n",
       "            (key): Linear(in_features=128, out_features=128, bias=True)\n",
       "            (value): Linear(in_features=128, out_features=128, bias=True)\n",
       "            (dropout): Dropout(p=0.1, inplace=False)\n",
       "          )\n",
       "          (output): LxmertAttentionOutput(\n",
       "            (dense): Linear(in_features=128, out_features=128, bias=True)\n",
       "            (LayerNorm): LayerNorm((128,), eps=1e-12, elementwise_affine=True)\n",
       "            (dropout): Dropout(p=0.1, inplace=False)\n",
       "          )\n",
       "        )\n",
       "        (intermediate): LxmertIntermediate(\n",
       "          (dense): Linear(in_features=128, out_features=512, bias=True)\n",
       "        )\n",
       "        (output): LxmertOutput(\n",
       "          (dense): Linear(in_features=512, out_features=128, bias=True)\n",
       "          (LayerNorm): LayerNorm((128,), eps=1e-12, elementwise_affine=True)\n",
       "          (dropout): Dropout(p=0.1, inplace=False)\n",
       "        )\n",
       "      )\n",
       "    )\n",
       "    (x_layers): ModuleList(\n",
       "      (0): LxmertXLayer(\n",
       "        (cross_attention): LxmertCrossAttentionLayer(\n",
       "          (att): LxmertAttention(\n",
       "            (query): Linear(in_features=128, out_features=128, bias=True)\n",
       "            (key): Linear(in_features=128, out_features=128, bias=True)\n",
       "            (value): Linear(in_features=128, out_features=128, bias=True)\n",
       "            (dropout): Dropout(p=0.1, inplace=False)\n",
       "          )\n",
       "          (output): LxmertAttentionOutput(\n",
       "            (dense): Linear(in_features=128, out_features=128, bias=True)\n",
       "            (LayerNorm): LayerNorm((128,), eps=1e-12, elementwise_affine=True)\n",
       "            (dropout): Dropout(p=0.1, inplace=False)\n",
       "          )\n",
       "        )\n",
       "        (lang_self_att): LxmertSelfAttentionLayer(\n",
       "          (self): LxmertAttention(\n",
       "            (query): Linear(in_features=128, out_features=128, bias=True)\n",
       "            (key): Linear(in_features=128, out_features=128, bias=True)\n",
       "            (value): Linear(in_features=128, out_features=128, bias=True)\n",
       "            (dropout): Dropout(p=0.1, inplace=False)\n",
       "          )\n",
       "          (output): LxmertAttentionOutput(\n",
       "            (dense): Linear(in_features=128, out_features=128, bias=True)\n",
       "            (LayerNorm): LayerNorm((128,), eps=1e-12, elementwise_affine=True)\n",
       "            (dropout): Dropout(p=0.1, inplace=False)\n",
       "          )\n",
       "        )\n",
       "        (visn_self_att): LxmertSelfAttentionLayer(\n",
       "          (self): LxmertAttention(\n",
       "            (query): Linear(in_features=128, out_features=128, bias=True)\n",
       "            (key): Linear(in_features=128, out_features=128, bias=True)\n",
       "            (value): Linear(in_features=128, out_features=128, bias=True)\n",
       "            (dropout): Dropout(p=0.1, inplace=False)\n",
       "          )\n",
       "          (output): LxmertAttentionOutput(\n",
       "            (dense): Linear(in_features=128, out_features=128, bias=True)\n",
       "            (LayerNorm): LayerNorm((128,), eps=1e-12, elementwise_affine=True)\n",
       "            (dropout): Dropout(p=0.1, inplace=False)\n",
       "          )\n",
       "        )\n",
       "        (lang_inter): LxmertIntermediate(\n",
       "          (dense): Linear(in_features=128, out_features=512, bias=True)\n",
       "        )\n",
       "        (lang_output): LxmertOutput(\n",
       "          (dense): Linear(in_features=512, out_features=128, bias=True)\n",
       "          (LayerNorm): LayerNorm((128,), eps=1e-12, elementwise_affine=True)\n",
       "          (dropout): Dropout(p=0.1, inplace=False)\n",
       "        )\n",
       "        (visn_inter): LxmertIntermediate(\n",
       "          (dense): Linear(in_features=128, out_features=512, bias=True)\n",
       "        )\n",
       "        (visn_output): LxmertOutput(\n",
       "          (dense): Linear(in_features=512, out_features=128, bias=True)\n",
       "          (LayerNorm): LayerNorm((128,), eps=1e-12, elementwise_affine=True)\n",
       "          (dropout): Dropout(p=0.1, inplace=False)\n",
       "        )\n",
       "      )\n",
       "      (1): LxmertXLayer(\n",
       "        (cross_attention): LxmertCrossAttentionLayer(\n",
       "          (att): LxmertAttention(\n",
       "            (query): Linear(in_features=128, out_features=128, bias=True)\n",
       "            (key): Linear(in_features=128, out_features=128, bias=True)\n",
       "            (value): Linear(in_features=128, out_features=128, bias=True)\n",
       "            (dropout): Dropout(p=0.1, inplace=False)\n",
       "          )\n",
       "          (output): LxmertAttentionOutput(\n",
       "            (dense): Linear(in_features=128, out_features=128, bias=True)\n",
       "            (LayerNorm): LayerNorm((128,), eps=1e-12, elementwise_affine=True)\n",
       "            (dropout): Dropout(p=0.1, inplace=False)\n",
       "          )\n",
       "        )\n",
       "        (lang_self_att): LxmertSelfAttentionLayer(\n",
       "          (self): LxmertAttention(\n",
       "            (query): Linear(in_features=128, out_features=128, bias=True)\n",
       "            (key): Linear(in_features=128, out_features=128, bias=True)\n",
       "            (value): Linear(in_features=128, out_features=128, bias=True)\n",
       "            (dropout): Dropout(p=0.1, inplace=False)\n",
       "          )\n",
       "          (output): LxmertAttentionOutput(\n",
       "            (dense): Linear(in_features=128, out_features=128, bias=True)\n",
       "            (LayerNorm): LayerNorm((128,), eps=1e-12, elementwise_affine=True)\n",
       "            (dropout): Dropout(p=0.1, inplace=False)\n",
       "          )\n",
       "        )\n",
       "        (visn_self_att): LxmertSelfAttentionLayer(\n",
       "          (self): LxmertAttention(\n",
       "            (query): Linear(in_features=128, out_features=128, bias=True)\n",
       "            (key): Linear(in_features=128, out_features=128, bias=True)\n",
       "            (value): Linear(in_features=128, out_features=128, bias=True)\n",
       "            (dropout): Dropout(p=0.1, inplace=False)\n",
       "          )\n",
       "          (output): LxmertAttentionOutput(\n",
       "            (dense): Linear(in_features=128, out_features=128, bias=True)\n",
       "            (LayerNorm): LayerNorm((128,), eps=1e-12, elementwise_affine=True)\n",
       "            (dropout): Dropout(p=0.1, inplace=False)\n",
       "          )\n",
       "        )\n",
       "        (lang_inter): LxmertIntermediate(\n",
       "          (dense): Linear(in_features=128, out_features=512, bias=True)\n",
       "        )\n",
       "        (lang_output): LxmertOutput(\n",
       "          (dense): Linear(in_features=512, out_features=128, bias=True)\n",
       "          (LayerNorm): LayerNorm((128,), eps=1e-12, elementwise_affine=True)\n",
       "          (dropout): Dropout(p=0.1, inplace=False)\n",
       "        )\n",
       "        (visn_inter): LxmertIntermediate(\n",
       "          (dense): Linear(in_features=128, out_features=512, bias=True)\n",
       "        )\n",
       "        (visn_output): LxmertOutput(\n",
       "          (dense): Linear(in_features=512, out_features=128, bias=True)\n",
       "          (LayerNorm): LayerNorm((128,), eps=1e-12, elementwise_affine=True)\n",
       "          (dropout): Dropout(p=0.1, inplace=False)\n",
       "        )\n",
       "      )\n",
       "      (2): LxmertXLayer(\n",
       "        (cross_attention): LxmertCrossAttentionLayer(\n",
       "          (att): LxmertAttention(\n",
       "            (query): Linear(in_features=128, out_features=128, bias=True)\n",
       "            (key): Linear(in_features=128, out_features=128, bias=True)\n",
       "            (value): Linear(in_features=128, out_features=128, bias=True)\n",
       "            (dropout): Dropout(p=0.1, inplace=False)\n",
       "          )\n",
       "          (output): LxmertAttentionOutput(\n",
       "            (dense): Linear(in_features=128, out_features=128, bias=True)\n",
       "            (LayerNorm): LayerNorm((128,), eps=1e-12, elementwise_affine=True)\n",
       "            (dropout): Dropout(p=0.1, inplace=False)\n",
       "          )\n",
       "        )\n",
       "        (lang_self_att): LxmertSelfAttentionLayer(\n",
       "          (self): LxmertAttention(\n",
       "            (query): Linear(in_features=128, out_features=128, bias=True)\n",
       "            (key): Linear(in_features=128, out_features=128, bias=True)\n",
       "            (value): Linear(in_features=128, out_features=128, bias=True)\n",
       "            (dropout): Dropout(p=0.1, inplace=False)\n",
       "          )\n",
       "          (output): LxmertAttentionOutput(\n",
       "            (dense): Linear(in_features=128, out_features=128, bias=True)\n",
       "            (LayerNorm): LayerNorm((128,), eps=1e-12, elementwise_affine=True)\n",
       "            (dropout): Dropout(p=0.1, inplace=False)\n",
       "          )\n",
       "        )\n",
       "        (visn_self_att): LxmertSelfAttentionLayer(\n",
       "          (self): LxmertAttention(\n",
       "            (query): Linear(in_features=128, out_features=128, bias=True)\n",
       "            (key): Linear(in_features=128, out_features=128, bias=True)\n",
       "            (value): Linear(in_features=128, out_features=128, bias=True)\n",
       "            (dropout): Dropout(p=0.1, inplace=False)\n",
       "          )\n",
       "          (output): LxmertAttentionOutput(\n",
       "            (dense): Linear(in_features=128, out_features=128, bias=True)\n",
       "            (LayerNorm): LayerNorm((128,), eps=1e-12, elementwise_affine=True)\n",
       "            (dropout): Dropout(p=0.1, inplace=False)\n",
       "          )\n",
       "        )\n",
       "        (lang_inter): LxmertIntermediate(\n",
       "          (dense): Linear(in_features=128, out_features=512, bias=True)\n",
       "        )\n",
       "        (lang_output): LxmertOutput(\n",
       "          (dense): Linear(in_features=512, out_features=128, bias=True)\n",
       "          (LayerNorm): LayerNorm((128,), eps=1e-12, elementwise_affine=True)\n",
       "          (dropout): Dropout(p=0.1, inplace=False)\n",
       "        )\n",
       "        (visn_inter): LxmertIntermediate(\n",
       "          (dense): Linear(in_features=128, out_features=512, bias=True)\n",
       "        )\n",
       "        (visn_output): LxmertOutput(\n",
       "          (dense): Linear(in_features=512, out_features=128, bias=True)\n",
       "          (LayerNorm): LayerNorm((128,), eps=1e-12, elementwise_affine=True)\n",
       "          (dropout): Dropout(p=0.1, inplace=False)\n",
       "        )\n",
       "      )\n",
       "      (3): LxmertXLayer(\n",
       "        (cross_attention): LxmertCrossAttentionLayer(\n",
       "          (att): LxmertAttention(\n",
       "            (query): Linear(in_features=128, out_features=128, bias=True)\n",
       "            (key): Linear(in_features=128, out_features=128, bias=True)\n",
       "            (value): Linear(in_features=128, out_features=128, bias=True)\n",
       "            (dropout): Dropout(p=0.1, inplace=False)\n",
       "          )\n",
       "          (output): LxmertAttentionOutput(\n",
       "            (dense): Linear(in_features=128, out_features=128, bias=True)\n",
       "            (LayerNorm): LayerNorm((128,), eps=1e-12, elementwise_affine=True)\n",
       "            (dropout): Dropout(p=0.1, inplace=False)\n",
       "          )\n",
       "        )\n",
       "        (lang_self_att): LxmertSelfAttentionLayer(\n",
       "          (self): LxmertAttention(\n",
       "            (query): Linear(in_features=128, out_features=128, bias=True)\n",
       "            (key): Linear(in_features=128, out_features=128, bias=True)\n",
       "            (value): Linear(in_features=128, out_features=128, bias=True)\n",
       "            (dropout): Dropout(p=0.1, inplace=False)\n",
       "          )\n",
       "          (output): LxmertAttentionOutput(\n",
       "            (dense): Linear(in_features=128, out_features=128, bias=True)\n",
       "            (LayerNorm): LayerNorm((128,), eps=1e-12, elementwise_affine=True)\n",
       "            (dropout): Dropout(p=0.1, inplace=False)\n",
       "          )\n",
       "        )\n",
       "        (visn_self_att): LxmertSelfAttentionLayer(\n",
       "          (self): LxmertAttention(\n",
       "            (query): Linear(in_features=128, out_features=128, bias=True)\n",
       "            (key): Linear(in_features=128, out_features=128, bias=True)\n",
       "            (value): Linear(in_features=128, out_features=128, bias=True)\n",
       "            (dropout): Dropout(p=0.1, inplace=False)\n",
       "          )\n",
       "          (output): LxmertAttentionOutput(\n",
       "            (dense): Linear(in_features=128, out_features=128, bias=True)\n",
       "            (LayerNorm): LayerNorm((128,), eps=1e-12, elementwise_affine=True)\n",
       "            (dropout): Dropout(p=0.1, inplace=False)\n",
       "          )\n",
       "        )\n",
       "        (lang_inter): LxmertIntermediate(\n",
       "          (dense): Linear(in_features=128, out_features=512, bias=True)\n",
       "        )\n",
       "        (lang_output): LxmertOutput(\n",
       "          (dense): Linear(in_features=512, out_features=128, bias=True)\n",
       "          (LayerNorm): LayerNorm((128,), eps=1e-12, elementwise_affine=True)\n",
       "          (dropout): Dropout(p=0.1, inplace=False)\n",
       "        )\n",
       "        (visn_inter): LxmertIntermediate(\n",
       "          (dense): Linear(in_features=128, out_features=512, bias=True)\n",
       "        )\n",
       "        (visn_output): LxmertOutput(\n",
       "          (dense): Linear(in_features=512, out_features=128, bias=True)\n",
       "          (LayerNorm): LayerNorm((128,), eps=1e-12, elementwise_affine=True)\n",
       "          (dropout): Dropout(p=0.1, inplace=False)\n",
       "        )\n",
       "      )\n",
       "    )\n",
       "    (r_layers): ModuleList(\n",
       "      (0): LxmertLayer(\n",
       "        (attention): LxmertSelfAttentionLayer(\n",
       "          (self): LxmertAttention(\n",
       "            (query): Linear(in_features=128, out_features=128, bias=True)\n",
       "            (key): Linear(in_features=128, out_features=128, bias=True)\n",
       "            (value): Linear(in_features=128, out_features=128, bias=True)\n",
       "            (dropout): Dropout(p=0.1, inplace=False)\n",
       "          )\n",
       "          (output): LxmertAttentionOutput(\n",
       "            (dense): Linear(in_features=128, out_features=128, bias=True)\n",
       "            (LayerNorm): LayerNorm((128,), eps=1e-12, elementwise_affine=True)\n",
       "            (dropout): Dropout(p=0.1, inplace=False)\n",
       "          )\n",
       "        )\n",
       "        (intermediate): LxmertIntermediate(\n",
       "          (dense): Linear(in_features=128, out_features=512, bias=True)\n",
       "        )\n",
       "        (output): LxmertOutput(\n",
       "          (dense): Linear(in_features=512, out_features=128, bias=True)\n",
       "          (LayerNorm): LayerNorm((128,), eps=1e-12, elementwise_affine=True)\n",
       "          (dropout): Dropout(p=0.1, inplace=False)\n",
       "        )\n",
       "      )\n",
       "      (1): LxmertLayer(\n",
       "        (attention): LxmertSelfAttentionLayer(\n",
       "          (self): LxmertAttention(\n",
       "            (query): Linear(in_features=128, out_features=128, bias=True)\n",
       "            (key): Linear(in_features=128, out_features=128, bias=True)\n",
       "            (value): Linear(in_features=128, out_features=128, bias=True)\n",
       "            (dropout): Dropout(p=0.1, inplace=False)\n",
       "          )\n",
       "          (output): LxmertAttentionOutput(\n",
       "            (dense): Linear(in_features=128, out_features=128, bias=True)\n",
       "            (LayerNorm): LayerNorm((128,), eps=1e-12, elementwise_affine=True)\n",
       "            (dropout): Dropout(p=0.1, inplace=False)\n",
       "          )\n",
       "        )\n",
       "        (intermediate): LxmertIntermediate(\n",
       "          (dense): Linear(in_features=128, out_features=512, bias=True)\n",
       "        )\n",
       "        (output): LxmertOutput(\n",
       "          (dense): Linear(in_features=512, out_features=128, bias=True)\n",
       "          (LayerNorm): LayerNorm((128,), eps=1e-12, elementwise_affine=True)\n",
       "          (dropout): Dropout(p=0.1, inplace=False)\n",
       "        )\n",
       "      )\n",
       "    )\n",
       "  )\n",
       "  (pooler): LxmertPooler(\n",
       "    (multi_pooler): Sequential(\n",
       "      (0): Linear(in_features=256, out_features=256, bias=True)\n",
       "      (1): Tanh()\n",
       "      (2): Linear(in_features=256, out_features=8057, bias=True)\n",
       "    )\n",
       "    (ce_pooler): Sequential(\n",
       "      (0): Linear(in_features=256, out_features=256, bias=True)\n",
       "      (1): Tanh()\n",
       "      (2): Linear(in_features=256, out_features=2, bias=True)\n",
       "    )\n",
       "  )\n",
       ")"
      ]
     },
     "execution_count": 16,
     "metadata": {},
     "output_type": "execute_result"
    }
   ],
   "source": [
    "# model.to(training_args.device)\n",
    "model.cpu()\n",
    "model.eval()"
   ]
  },
  {
   "cell_type": "code",
   "execution_count": 17,
   "metadata": {},
   "outputs": [],
   "source": [
    "data_loader = DataLoader(\n",
    "    test_dataset,\n",
    "    sampler=SequentialSampler(test_dataset),\n",
    "#     batch_size=training_args.eval_batch_size,\n",
    "    batch_size=1,\n",
    "    collate_fn=data_collator,\n",
    "    pin_memory=True,\n",
    "    )"
   ]
  },
  {
   "cell_type": "markdown",
   "metadata": {},
   "source": [
    "## Attention View"
   ]
  },
  {
   "cell_type": "markdown",
   "metadata": {},
   "source": [
    "### reshaping function"
   ]
  },
  {
   "cell_type": "code",
   "execution_count": 18,
   "metadata": {},
   "outputs": [],
   "source": [
    "def reshape(x,attn_type):\n",
    "    if attn_type == 'txt->txt':\n",
    "        output = [attn[:,:,:len(lang_tokens),:len(lang_tokens)] for attn in x]\n",
    "    elif attn_type == 'kg->kg':\n",
    "        output = [attn[:,:,:len(kg_tokens),:len(kg_tokens)] for attn in x]\n",
    "    elif attn_type == 'txt->kg':\n",
    "        output = [attn[:,:,:len(lang_tokens),:len(kg_tokens)] for attn in x]\n",
    "    elif attn_type == 'kg->txt':\n",
    "        output = [attn[:,:,:len(kg_tokens),:len(lang_tokens)] for attn in x]\n",
    "    else:\n",
    "        raise ValueError('Invalid attention type')\n",
    "    return output"
   ]
  },
  {
   "cell_type": "markdown",
   "metadata": {},
   "source": [
    "### load visualization tool"
   ]
  },
  {
   "cell_type": "code",
   "execution_count": 130,
   "metadata": {},
   "outputs": [],
   "source": [
    "from attentionviz import head_view"
   ]
  },
  {
   "cell_type": "code",
   "execution_count": 131,
   "metadata": {},
   "outputs": [
    {
     "data": {
      "application/javascript": [
       "require.config({\n",
       "  paths: {\n",
       "      d3: '//cdnjs.cloudflare.com/ajax/libs/d3/3.4.8/d3.min',\n",
       "      jquery: '//ajax.googleapis.com/ajax/libs/jquery/2.0.0/jquery.min',\n",
       "  }\n",
       "});\n"
      ],
      "text/plain": [
       "<IPython.core.display.Javascript object>"
      ]
     },
     "metadata": {},
     "output_type": "display_data"
    }
   ],
   "source": [
    "%%javascript\n",
    "require.config({\n",
    "  paths: {\n",
    "      d3: '//cdnjs.cloudflare.com/ajax/libs/d3/3.4.8/d3.min',\n",
    "      jquery: '//ajax.googleapis.com/ajax/libs/jquery/2.0.0/jquery.min',\n",
    "  }\n",
    "});"
   ]
  },
  {
   "cell_type": "markdown",
   "metadata": {},
   "source": [
    "### load label dictionary in KG"
   ]
  },
  {
   "cell_type": "code",
   "execution_count": 132,
   "metadata": {},
   "outputs": [],
   "source": [
    "node2id = torch.load(os.path.join(os.path.dirname(data_args.test_data_file), 'unified_node'))\n",
    "id2node = {v:k.split('^^')[0] for k,v in node2id.items()}"
   ]
  },
  {
   "cell_type": "markdown",
   "metadata": {},
   "source": [
    "### get attention score from sample"
   ]
  },
  {
   "cell_type": "code",
   "execution_count": 161,
   "metadata": {
    "scrolled": false
   },
   "outputs": [
    {
     "name": "stdout",
     "output_type": "stream",
     "text": [
      "==== Text ====\n",
      "Token seq : ['[CLS]', 'primary', 'hyper', '##kal', '##emia', 'hyper', '##tro', '##phic', 'ob', '##st', '##ru', '##ctive', 'card', '##iom', '##yo', '##pathy', 'at', '##rial', 'flutter', '/', 'at', '##rial', 'fi', '##bri', '##llation', '[SEP]', 'def', '##ib', '##rill', '##ation', '[SEP]']\n",
      "\n",
      "Full sentence : [CLS] primary hyperkalemia hypertrophic obstructive cardiomyopathy atrial flutter / atrial fibrillation [SEP] defibrillation [SEP]\n",
      "\n",
      "\n",
      "==== KG ====\n",
      "Token seq : ['CLS', 'hadm', 'diagnoses', 'diagnoses', 'diagnoses', 'diagnoses', 'diagnoses', 'diagnoses', 'diagnoses', 'diagnoses', 'diagnoses', 'procedures', 'diagnoses', 'procedures', 'diagnoses', 'procedures', 'procedures', 'diagnoses', 'diagnoses', 'procedures', 'diagnoses', 'diagnoses', 'procedures', 'procedures', 'diagnoses_icd9_code', 'diagnoses_icd9_code', 'diagnoses_icd9_code', 'diagnoses_icd9_code', 'diagnoses_icd9_code', 'diagnoses_icd9_code', 'diagnoses_icd9_code', 'diagnoses_icd9_code', 'diagnoses_icd9_code', 'procedures_icd9_code', 'diagnoses_icd9_code', 'procedures_icd9_code', 'diagnoses_icd9_code', 'procedures_icd9_code', 'procedures_icd9_code', 'diagnoses_icd9_code', 'diagnoses_icd9_code', 'procedures_icd9_code', 'diagnoses_icd9_code', 'diagnoses_icd9_code', 'procedures_icd9_code', 'procedures_icd9_code', '\"cardiac arrest\"', '\"atrial fibrillation\"', '\"acidosis\"', '\"leukocytosis, unspecified\"', '\"anxiety state, unspecified\"', '\"abnormal coagulation profile\"', '\"atrial flutter\"', '\"chronic obstructive asthma, unspecified\"', '\"hypoxemia\"', '\"arterial catheterization\"', '\"obesity, unspecified\"', '\"cardiopulmonary resuscitation, not otherwise specified\"', '\"acute kidney failure, unspecified\"', '\"insertion of endotracheal tube\"', '\"venous catheterization, not elsewhere classified\"', '\"hyperpotassemia\"', '\"unspecified pleural effusion\"', '\"insertion of intercostal catheter for drainage\"', '\"acute on chronic diastolic heart failure\"', '\"paroxysmal ventricular tachycardia\"', '\"other electric countershock of heart\"', '\"continuous invasive mechanical ventilation for less than 96 consecutive hours\"']\n",
      "\n",
      "['language_output', 'kg_output', 'pooled_output', 'language_attentions', 'kg_attentions', 'cross_encoder_attentions']\n",
      "torch.Size([1, 4, 31, 68])\n",
      "torch.Size([1, 4, 68, 31])\n",
      "2\n",
      "2\n",
      "4\n",
      "4\n"
     ]
    }
   ],
   "source": [
    "import matplotlib.pyplot as plt\n",
    "\n",
    "SAMPLE_IDX = 56\n",
    "\n",
    "for idx, data in enumerate(data_loader):\n",
    "    if idx==SAMPLE_IDX:\n",
    "        input_data = data\n",
    "        break\n",
    "        \n",
    "print('==== Text ====')\n",
    "temp = input_data['lang_input_ids'].cpu().squeeze()\n",
    "lang_tokens = tokenizer.convert_ids_to_tokens(temp[:temp.nonzero().shape[0]].tolist())\n",
    "print('Token seq : {}\\n'.format(lang_tokens))\n",
    "print('Full sentence : {}\\n\\n'.format(tokenizer.convert_tokens_to_string(\n",
    "    tokenizer.convert_ids_to_tokens(temp[:temp.nonzero().shape[0]].tolist()))))\n",
    "\n",
    "print('==== KG ====')\n",
    "temp = input_data['kg_input_ids'].cpu().squeeze()\n",
    "kg_tokens = list(map(lambda x: id2node[x],temp[:temp.nonzero().shape[0]].tolist()))\n",
    "print('Token seq : {}\\n'.format(kg_tokens))\n",
    "\n",
    "sample = {'kg':kg_tokens,\n",
    "          'txt':lang_tokens\n",
    "         }\n",
    "\n",
    "\n",
    "with torch.no_grad():\n",
    "    output_data = model(**input_data, output_attentions=True, return_dict=True)\n",
    "    attention_score = {'txt->txt':reshape(output_data['language_attentions'],'txt->txt'), \n",
    "                       'kg->kg':reshape(output_data['kg_attentions'],'kg->kg'),\n",
    "                       'txt->kg':reshape(output_data['cross_encoder_attentions']['txt->kg'],'txt->kg'),\n",
    "                       'kg->txt':reshape(output_data['cross_encoder_attentions']['kg->txt'],'kg->txt'),}\n",
    "    print(list(output_data.keys()))\n",
    "    print(attention_score['txt->kg'][0].shape)\n",
    "    print(attention_score['kg->txt'][0].shape)\n",
    "    print(len(attention_score['txt->txt']))\n",
    "    print(len(attention_score['kg->kg']))\n",
    "    print(len(attention_score['kg->txt']))\n",
    "    print(len(attention_score['txt->kg']))\n",
    "    head_view(attention_score, sample)"
   ]
  },
  {
   "cell_type": "code",
   "execution_count": null,
   "metadata": {},
   "outputs": [],
   "source": [
    "# SAMPLE_IDX = 56\n",
    "# sample2 = sample.copy()\n",
    "# sample2['kg'] = sample['kg'][:7]+['...']+sample['kg'][46:]\n",
    "# sample2['txt'] = sample['txt'].copy()\n",
    "\n",
    "# attention_score2 = attention_score.copy()\n",
    "# for l_idx in range(len(attention_score2['txt->kg'])):\n",
    "#     attention_score2['txt->kg'][l_idx] = torch.cat([attention_score['txt->kg'][l_idx][:, :, :, :7],\n",
    "#                                                     attention_score['txt->kg'][l_idx][:, :, :, 1:46].mean(axis=-1).unsqueeze(-1),\n",
    "#                                                     attention_score['txt->kg'][l_idx][:, :, :, 46:]], axis=-1)\n",
    "# for k in ['kg->txt', 'kg->kg', 'txt->txt']:\n",
    "#     attention_score2[k] = attention_score2['txt->kg'].copy()\n",
    "\n",
    "# head_view(attention_score2, sample2)"
   ]
  },
  {
   "cell_type": "markdown",
   "metadata": {},
   "source": [
    "### Supp 1. Visualize attention score in matrix form"
   ]
  },
  {
   "cell_type": "code",
   "execution_count": 223,
   "metadata": {},
   "outputs": [
    {
     "name": "stdout",
     "output_type": "stream",
     "text": [
      "==== Text ====\n",
      "Token seq : ['[CLS]', '-', 'cong', '##est', '##ive', 'heart', 'failure', ',', 'acute', 'on', 'chronic', '-', 'acute', 'kidney', 'injury', '-', 'hyper', '##kal', '##emia', '-', 'hiv', '-', 'hepatitis', 'c', '[SEP]', 'none', '[SEP]']\n",
      "\n",
      "Full sentence : [CLS] - congestive heart failure , acute on chronic - acute kidney injury - hyperkalemia - hiv - hepatitis c [SEP] none [SEP]\n",
      "\n",
      "\n",
      "==== KG ====\n",
      "Token seq : ['CLS', 'hadm', 'diagnoses', 'procedures', 'diagnoses', 'diagnoses', 'diagnoses', 'diagnoses', 'diagnoses', 'diagnoses', 'diagnoses_icd9_code', 'procedures_icd9_code', 'diagnoses_icd9_code', 'diagnoses_icd9_code', 'diagnoses_icd9_code', 'diagnoses_icd9_code', 'diagnoses_icd9_code', 'diagnoses_icd9_code', '\"other primary cardiomyopathies\"', '\"central venous catheter placement with guidance\"', '\"acute kidney failure, unspecified\"', '\"hyperpotassemia\"', '\"asymptomatic human immunodeficiency virus [hiv] infection status\"', '\"acute on chronic systolic heart failure\"', '\"hepatitis, unspecified\"', '\"congestive heart failure, unspecified\"']\n",
      "\n"
     ]
    }
   ],
   "source": [
    "import matplotlib.pyplot as plt\n",
    "\n",
    "SAMPLE_IDX = 200\n",
    "\n",
    "for idx, data in enumerate(data_loader):\n",
    "    if idx==SAMPLE_IDX:\n",
    "        input_data = data\n",
    "        break\n",
    "        \n",
    "print('==== Text ====')\n",
    "temp = input_data['lang_input_ids'].cpu().squeeze()\n",
    "lang_tokens = tokenizer.convert_ids_to_tokens(temp[:temp.nonzero().shape[0]].tolist())\n",
    "print('Token seq : {}\\n'.format(lang_tokens))\n",
    "print('Full sentence : {}\\n\\n'.format(tokenizer.convert_tokens_to_string(\n",
    "    tokenizer.convert_ids_to_tokens(temp[:temp.nonzero().shape[0]].tolist()))))\n",
    "\n",
    "print('==== KG ====')\n",
    "temp = input_data['kg_input_ids'].cpu().squeeze()\n",
    "kg_tokens = list(map(lambda x: id2node[x],temp[:temp.nonzero().shape[0]].tolist()))\n",
    "print('Token seq : {}\\n'.format(kg_tokens))\n",
    "\n",
    "output_data = model(**input_data, output_attentions=True, return_dict=True)"
   ]
  },
  {
   "cell_type": "code",
   "execution_count": 196,
   "metadata": {},
   "outputs": [
    {
     "data": {
      "text/plain": [
       "torch.Size([1, 4, 240, 512])"
      ]
     },
     "execution_count": 196,
     "metadata": {},
     "output_type": "execute_result"
    }
   ],
   "source": [
    "output_data['cross_encoder_attentions']['kg->txt'][0].shape"
   ]
  },
  {
   "cell_type": "code",
   "execution_count": 197,
   "metadata": {},
   "outputs": [
    {
     "data": {
      "text/plain": [
       "(27, 26)"
      ]
     },
     "execution_count": 197,
     "metadata": {},
     "output_type": "execute_result"
    }
   ],
   "source": [
    "len(lang_tokens), len(kg_tokens)"
   ]
  },
  {
   "cell_type": "code",
   "execution_count": 203,
   "metadata": {},
   "outputs": [
    {
     "data": {
      "text/plain": [
       "Text(0.5, 0.98, 'Cross Modal Attention Vis')"
      ]
     },
     "execution_count": 203,
     "metadata": {},
     "output_type": "execute_result"
    },
    {
     "data": {
      "text/plain": [
       "<Figure size 432x288 with 0 Axes>"
      ]
     },
     "metadata": {},
     "output_type": "display_data"
    }
   ],
   "source": [
    "plt.suptitle('Cross Modal Attention Vis', fontsize=40)"
   ]
  },
  {
   "cell_type": "code",
   "execution_count": 205,
   "metadata": {},
   "outputs": [
    {
     "name": "stderr",
     "output_type": "stream",
     "text": [
      "/home/ssbae/anaconda3/envs/kgtext/lib/python3.7/site-packages/ipykernel_launcher.py:12: UserWarning: FixedFormatter should only be used together with FixedLocator\n",
      "  if sys.path[0] == '':\n",
      "/home/ssbae/anaconda3/envs/kgtext/lib/python3.7/site-packages/ipykernel_launcher.py:13: UserWarning: FixedFormatter should only be used together with FixedLocator\n",
      "  del sys.path[0]\n"
     ]
    },
    {
     "data": {
      "text/plain": [
       "Text(0.5, 0.98, 'Cross Modal Attention Vis')"
      ]
     },
     "execution_count": 205,
     "metadata": {},
     "output_type": "execute_result"
    },
    {
     "data": {
      "image/png": "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